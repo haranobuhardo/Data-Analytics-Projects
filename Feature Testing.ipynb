{
 "cells": [
  {
   "cell_type": "markdown",
   "id": "25c9452c",
   "metadata": {
    "ExecuteTime": {
     "end_time": "2021-06-14T15:02:05.140573Z",
     "start_time": "2021-06-14T15:02:05.114515Z"
    }
   },
   "source": [
    "# Tips and Trick Testing"
   ]
  },
  {
   "cell_type": "code",
   "execution_count": 12,
   "id": "75077d34",
   "metadata": {
    "ExecuteTime": {
     "end_time": "2021-06-18T00:01:19.547173Z",
     "start_time": "2021-06-18T00:01:19.536374Z"
    },
    "scrolled": true
   },
   "outputs": [
    {
     "name": "stdout",
     "output_type": "stream",
     "text": [
      "{'Emp ID': '101', 'Emp Name': 'Tom', 'Project IDs': {'P1': 1308, 'P2': 'A104', 'P4': 2}} with print\n",
      "{'Emp ID': '101',\n",
      " 'Emp Name': 'Tom',\n",
      " 'Project IDs': {'P1': 1308,\n",
      "                 'P2': 'A104',\n",
      "                 'P4': 2}}\n"
     ]
    }
   ],
   "source": [
    "# beauty print\n",
    "import pprint\n",
    "\n",
    "employee_records = {'Emp ID': '101', 'Emp Name': 'Tom', 'Project IDs': {'P1': 1308, 'P2': 'A104', 'P4': 2}}\n",
    "\n",
    "print(employee_records, 'with print')\n",
    "\n",
    "pprint.pprint(employee_records, width=-1)"
   ]
  },
  {
   "cell_type": "code",
   "execution_count": 13,
   "id": "db47f709",
   "metadata": {
    "ExecuteTime": {
     "end_time": "2021-06-18T00:01:20.998089Z",
     "start_time": "2021-06-18T00:01:20.980579Z"
    },
    "scrolled": true
   },
   "outputs": [
    {
     "name": "stdout",
     "output_type": "stream",
     "text": [
      "D:\\\n"
     ]
    }
   ],
   "source": [
    "# pandas profiling\n",
    "import pandas as pd\n",
    "import os\n",
    "\n",
    "os.chdir('D:')\n",
    "print(os.getcwd())\n",
    "\n",
    "df = pd.read_csv(os.getcwd() + 'Personal\\Data\\sample datasets\\data-penumpang-transjakarta-bulan-november-2020.csv') # dataset titanic\n"
   ]
  },
  {
   "cell_type": "code",
   "execution_count": null,
   "id": "8218ea44",
   "metadata": {},
   "outputs": [],
   "source": [
    "import pandas_profiling\n",
    "df.profile_report()"
   ]
  },
  {
   "cell_type": "code",
   "execution_count": 14,
   "id": "c3ab1a79",
   "metadata": {
    "ExecuteTime": {
     "end_time": "2021-06-18T00:01:24.451888Z",
     "start_time": "2021-06-18T00:01:23.915556Z"
    },
    "scrolled": true
   },
   "outputs": [
    {
     "ename": "OSError",
     "evalue": "[Errno 22] Invalid argument: 'D:\\\\Personal\\\\Data\\\\sample datasets\\titanic.csv'",
     "output_type": "error",
     "traceback": [
      "\u001b[1;31m---------------------------------------------------------------------------\u001b[0m",
      "\u001b[1;31mOSError\u001b[0m                                   Traceback (most recent call last)",
      "\u001b[1;32m<ipython-input-14-6f8f278f02f5>\u001b[0m in \u001b[0;36m<module>\u001b[1;34m\u001b[0m\n\u001b[0;32m      1\u001b[0m \u001b[1;31m# pandas profiling\u001b[0m\u001b[1;33m\u001b[0m\u001b[1;33m\u001b[0m\u001b[1;33m\u001b[0m\u001b[0m\n\u001b[0;32m      2\u001b[0m \u001b[1;33m\u001b[0m\u001b[0m\n\u001b[1;32m----> 3\u001b[1;33m \u001b[0mdf\u001b[0m \u001b[1;33m=\u001b[0m \u001b[0mpd\u001b[0m\u001b[1;33m.\u001b[0m\u001b[0mread_csv\u001b[0m\u001b[1;33m(\u001b[0m\u001b[0mos\u001b[0m\u001b[1;33m.\u001b[0m\u001b[0mgetcwd\u001b[0m\u001b[1;33m(\u001b[0m\u001b[1;33m)\u001b[0m \u001b[1;33m+\u001b[0m \u001b[1;34m'Personal\\Data\\sample datasets\\titanic.csv'\u001b[0m\u001b[1;33m,\u001b[0m \u001b[0mengine\u001b[0m\u001b[1;33m=\u001b[0m\u001b[1;34m'python'\u001b[0m\u001b[1;33m)\u001b[0m \u001b[1;31m# dataset titanic\u001b[0m\u001b[1;33m\u001b[0m\u001b[1;33m\u001b[0m\u001b[0m\n\u001b[0m\u001b[0;32m      4\u001b[0m \u001b[0mdf\u001b[0m\u001b[1;33m\u001b[0m\u001b[1;33m\u001b[0m\u001b[0m\n",
      "\u001b[1;32m~\\Anaconda3\\lib\\site-packages\\pandas\\io\\parsers.py\u001b[0m in \u001b[0;36mread_csv\u001b[1;34m(filepath_or_buffer, sep, delimiter, header, names, index_col, usecols, squeeze, prefix, mangle_dupe_cols, dtype, engine, converters, true_values, false_values, skipinitialspace, skiprows, skipfooter, nrows, na_values, keep_default_na, na_filter, verbose, skip_blank_lines, parse_dates, infer_datetime_format, keep_date_col, date_parser, dayfirst, cache_dates, iterator, chunksize, compression, thousands, decimal, lineterminator, quotechar, quoting, doublequote, escapechar, comment, encoding, dialect, error_bad_lines, warn_bad_lines, delim_whitespace, low_memory, memory_map, float_precision, storage_options)\u001b[0m\n\u001b[0;32m    608\u001b[0m     \u001b[0mkwds\u001b[0m\u001b[1;33m.\u001b[0m\u001b[0mupdate\u001b[0m\u001b[1;33m(\u001b[0m\u001b[0mkwds_defaults\u001b[0m\u001b[1;33m)\u001b[0m\u001b[1;33m\u001b[0m\u001b[1;33m\u001b[0m\u001b[0m\n\u001b[0;32m    609\u001b[0m \u001b[1;33m\u001b[0m\u001b[0m\n\u001b[1;32m--> 610\u001b[1;33m     \u001b[1;32mreturn\u001b[0m \u001b[0m_read\u001b[0m\u001b[1;33m(\u001b[0m\u001b[0mfilepath_or_buffer\u001b[0m\u001b[1;33m,\u001b[0m \u001b[0mkwds\u001b[0m\u001b[1;33m)\u001b[0m\u001b[1;33m\u001b[0m\u001b[1;33m\u001b[0m\u001b[0m\n\u001b[0m\u001b[0;32m    611\u001b[0m \u001b[1;33m\u001b[0m\u001b[0m\n\u001b[0;32m    612\u001b[0m \u001b[1;33m\u001b[0m\u001b[0m\n",
      "\u001b[1;32m~\\Anaconda3\\lib\\site-packages\\pandas\\io\\parsers.py\u001b[0m in \u001b[0;36m_read\u001b[1;34m(filepath_or_buffer, kwds)\u001b[0m\n\u001b[0;32m    460\u001b[0m \u001b[1;33m\u001b[0m\u001b[0m\n\u001b[0;32m    461\u001b[0m     \u001b[1;31m# Create the parser.\u001b[0m\u001b[1;33m\u001b[0m\u001b[1;33m\u001b[0m\u001b[1;33m\u001b[0m\u001b[0m\n\u001b[1;32m--> 462\u001b[1;33m     \u001b[0mparser\u001b[0m \u001b[1;33m=\u001b[0m \u001b[0mTextFileReader\u001b[0m\u001b[1;33m(\u001b[0m\u001b[0mfilepath_or_buffer\u001b[0m\u001b[1;33m,\u001b[0m \u001b[1;33m**\u001b[0m\u001b[0mkwds\u001b[0m\u001b[1;33m)\u001b[0m\u001b[1;33m\u001b[0m\u001b[1;33m\u001b[0m\u001b[0m\n\u001b[0m\u001b[0;32m    463\u001b[0m \u001b[1;33m\u001b[0m\u001b[0m\n\u001b[0;32m    464\u001b[0m     \u001b[1;32mif\u001b[0m \u001b[0mchunksize\u001b[0m \u001b[1;32mor\u001b[0m \u001b[0miterator\u001b[0m\u001b[1;33m:\u001b[0m\u001b[1;33m\u001b[0m\u001b[1;33m\u001b[0m\u001b[0m\n",
      "\u001b[1;32m~\\Anaconda3\\lib\\site-packages\\pandas\\io\\parsers.py\u001b[0m in \u001b[0;36m__init__\u001b[1;34m(self, f, engine, **kwds)\u001b[0m\n\u001b[0;32m    817\u001b[0m             \u001b[0mself\u001b[0m\u001b[1;33m.\u001b[0m\u001b[0moptions\u001b[0m\u001b[1;33m[\u001b[0m\u001b[1;34m\"has_index_names\"\u001b[0m\u001b[1;33m]\u001b[0m \u001b[1;33m=\u001b[0m \u001b[0mkwds\u001b[0m\u001b[1;33m[\u001b[0m\u001b[1;34m\"has_index_names\"\u001b[0m\u001b[1;33m]\u001b[0m\u001b[1;33m\u001b[0m\u001b[1;33m\u001b[0m\u001b[0m\n\u001b[0;32m    818\u001b[0m \u001b[1;33m\u001b[0m\u001b[0m\n\u001b[1;32m--> 819\u001b[1;33m         \u001b[0mself\u001b[0m\u001b[1;33m.\u001b[0m\u001b[0m_engine\u001b[0m \u001b[1;33m=\u001b[0m \u001b[0mself\u001b[0m\u001b[1;33m.\u001b[0m\u001b[0m_make_engine\u001b[0m\u001b[1;33m(\u001b[0m\u001b[0mself\u001b[0m\u001b[1;33m.\u001b[0m\u001b[0mengine\u001b[0m\u001b[1;33m)\u001b[0m\u001b[1;33m\u001b[0m\u001b[1;33m\u001b[0m\u001b[0m\n\u001b[0m\u001b[0;32m    820\u001b[0m \u001b[1;33m\u001b[0m\u001b[0m\n\u001b[0;32m    821\u001b[0m     \u001b[1;32mdef\u001b[0m \u001b[0mclose\u001b[0m\u001b[1;33m(\u001b[0m\u001b[0mself\u001b[0m\u001b[1;33m)\u001b[0m\u001b[1;33m:\u001b[0m\u001b[1;33m\u001b[0m\u001b[1;33m\u001b[0m\u001b[0m\n",
      "\u001b[1;32m~\\Anaconda3\\lib\\site-packages\\pandas\\io\\parsers.py\u001b[0m in \u001b[0;36m_make_engine\u001b[1;34m(self, engine)\u001b[0m\n\u001b[0;32m   1048\u001b[0m             )\n\u001b[0;32m   1049\u001b[0m         \u001b[1;31m# error: Too many arguments for \"ParserBase\"\u001b[0m\u001b[1;33m\u001b[0m\u001b[1;33m\u001b[0m\u001b[1;33m\u001b[0m\u001b[0m\n\u001b[1;32m-> 1050\u001b[1;33m         \u001b[1;32mreturn\u001b[0m \u001b[0mmapping\u001b[0m\u001b[1;33m[\u001b[0m\u001b[0mengine\u001b[0m\u001b[1;33m]\u001b[0m\u001b[1;33m(\u001b[0m\u001b[0mself\u001b[0m\u001b[1;33m.\u001b[0m\u001b[0mf\u001b[0m\u001b[1;33m,\u001b[0m \u001b[1;33m**\u001b[0m\u001b[0mself\u001b[0m\u001b[1;33m.\u001b[0m\u001b[0moptions\u001b[0m\u001b[1;33m)\u001b[0m  \u001b[1;31m# type: ignore[call-arg]\u001b[0m\u001b[1;33m\u001b[0m\u001b[1;33m\u001b[0m\u001b[0m\n\u001b[0m\u001b[0;32m   1051\u001b[0m \u001b[1;33m\u001b[0m\u001b[0m\n\u001b[0;32m   1052\u001b[0m     \u001b[1;32mdef\u001b[0m \u001b[0m_failover_to_python\u001b[0m\u001b[1;33m(\u001b[0m\u001b[0mself\u001b[0m\u001b[1;33m)\u001b[0m\u001b[1;33m:\u001b[0m\u001b[1;33m\u001b[0m\u001b[1;33m\u001b[0m\u001b[0m\n",
      "\u001b[1;32m~\\Anaconda3\\lib\\site-packages\\pandas\\io\\parsers.py\u001b[0m in \u001b[0;36m__init__\u001b[1;34m(self, f, **kwds)\u001b[0m\n\u001b[0;32m   2291\u001b[0m             \u001b[0mself\u001b[0m\u001b[1;33m.\u001b[0m\u001b[0mdata\u001b[0m \u001b[1;33m=\u001b[0m \u001b[0mcast\u001b[0m\u001b[1;33m(\u001b[0m\u001b[0mIterator\u001b[0m\u001b[1;33m[\u001b[0m\u001b[0mstr\u001b[0m\u001b[1;33m]\u001b[0m\u001b[1;33m,\u001b[0m \u001b[0mf\u001b[0m\u001b[1;33m)\u001b[0m\u001b[1;33m\u001b[0m\u001b[1;33m\u001b[0m\u001b[0m\n\u001b[0;32m   2292\u001b[0m         \u001b[1;32melse\u001b[0m\u001b[1;33m:\u001b[0m\u001b[1;33m\u001b[0m\u001b[1;33m\u001b[0m\u001b[0m\n\u001b[1;32m-> 2293\u001b[1;33m             \u001b[0mself\u001b[0m\u001b[1;33m.\u001b[0m\u001b[0m_open_handles\u001b[0m\u001b[1;33m(\u001b[0m\u001b[0mf\u001b[0m\u001b[1;33m,\u001b[0m \u001b[0mkwds\u001b[0m\u001b[1;33m)\u001b[0m\u001b[1;33m\u001b[0m\u001b[1;33m\u001b[0m\u001b[0m\n\u001b[0m\u001b[0;32m   2294\u001b[0m             \u001b[1;32massert\u001b[0m \u001b[0mself\u001b[0m\u001b[1;33m.\u001b[0m\u001b[0mhandles\u001b[0m \u001b[1;32mis\u001b[0m \u001b[1;32mnot\u001b[0m \u001b[1;32mNone\u001b[0m\u001b[1;33m\u001b[0m\u001b[1;33m\u001b[0m\u001b[0m\n\u001b[0;32m   2295\u001b[0m             \u001b[1;32massert\u001b[0m \u001b[0mhasattr\u001b[0m\u001b[1;33m(\u001b[0m\u001b[0mself\u001b[0m\u001b[1;33m.\u001b[0m\u001b[0mhandles\u001b[0m\u001b[1;33m.\u001b[0m\u001b[0mhandle\u001b[0m\u001b[1;33m,\u001b[0m \u001b[1;34m\"readline\"\u001b[0m\u001b[1;33m)\u001b[0m\u001b[1;33m\u001b[0m\u001b[1;33m\u001b[0m\u001b[0m\n",
      "\u001b[1;32m~\\Anaconda3\\lib\\site-packages\\pandas\\io\\parsers.py\u001b[0m in \u001b[0;36m_open_handles\u001b[1;34m(self, src, kwds)\u001b[0m\n\u001b[0;32m   1366\u001b[0m             \u001b[0mcompression\u001b[0m\u001b[1;33m=\u001b[0m\u001b[0mkwds\u001b[0m\u001b[1;33m.\u001b[0m\u001b[0mget\u001b[0m\u001b[1;33m(\u001b[0m\u001b[1;34m\"compression\"\u001b[0m\u001b[1;33m,\u001b[0m \u001b[1;32mNone\u001b[0m\u001b[1;33m)\u001b[0m\u001b[1;33m,\u001b[0m\u001b[1;33m\u001b[0m\u001b[1;33m\u001b[0m\u001b[0m\n\u001b[0;32m   1367\u001b[0m             \u001b[0mmemory_map\u001b[0m\u001b[1;33m=\u001b[0m\u001b[0mkwds\u001b[0m\u001b[1;33m.\u001b[0m\u001b[0mget\u001b[0m\u001b[1;33m(\u001b[0m\u001b[1;34m\"memory_map\"\u001b[0m\u001b[1;33m,\u001b[0m \u001b[1;32mFalse\u001b[0m\u001b[1;33m)\u001b[0m\u001b[1;33m,\u001b[0m\u001b[1;33m\u001b[0m\u001b[1;33m\u001b[0m\u001b[0m\n\u001b[1;32m-> 1368\u001b[1;33m             \u001b[0mstorage_options\u001b[0m\u001b[1;33m=\u001b[0m\u001b[0mkwds\u001b[0m\u001b[1;33m.\u001b[0m\u001b[0mget\u001b[0m\u001b[1;33m(\u001b[0m\u001b[1;34m\"storage_options\"\u001b[0m\u001b[1;33m,\u001b[0m \u001b[1;32mNone\u001b[0m\u001b[1;33m)\u001b[0m\u001b[1;33m,\u001b[0m\u001b[1;33m\u001b[0m\u001b[1;33m\u001b[0m\u001b[0m\n\u001b[0m\u001b[0;32m   1369\u001b[0m         )\n\u001b[0;32m   1370\u001b[0m \u001b[1;33m\u001b[0m\u001b[0m\n",
      "\u001b[1;32m~\\Anaconda3\\lib\\site-packages\\pandas\\io\\common.py\u001b[0m in \u001b[0;36mget_handle\u001b[1;34m(path_or_buf, mode, encoding, compression, memory_map, is_text, errors, storage_options)\u001b[0m\n\u001b[0;32m    645\u001b[0m                 \u001b[0mencoding\u001b[0m\u001b[1;33m=\u001b[0m\u001b[0mioargs\u001b[0m\u001b[1;33m.\u001b[0m\u001b[0mencoding\u001b[0m\u001b[1;33m,\u001b[0m\u001b[1;33m\u001b[0m\u001b[1;33m\u001b[0m\u001b[0m\n\u001b[0;32m    646\u001b[0m                 \u001b[0merrors\u001b[0m\u001b[1;33m=\u001b[0m\u001b[0merrors\u001b[0m\u001b[1;33m,\u001b[0m\u001b[1;33m\u001b[0m\u001b[1;33m\u001b[0m\u001b[0m\n\u001b[1;32m--> 647\u001b[1;33m                 \u001b[0mnewline\u001b[0m\u001b[1;33m=\u001b[0m\u001b[1;34m\"\"\u001b[0m\u001b[1;33m,\u001b[0m\u001b[1;33m\u001b[0m\u001b[1;33m\u001b[0m\u001b[0m\n\u001b[0m\u001b[0;32m    648\u001b[0m             )\n\u001b[0;32m    649\u001b[0m         \u001b[1;32melse\u001b[0m\u001b[1;33m:\u001b[0m\u001b[1;33m\u001b[0m\u001b[1;33m\u001b[0m\u001b[0m\n",
      "\u001b[1;31mOSError\u001b[0m: [Errno 22] Invalid argument: 'D:\\\\Personal\\\\Data\\\\sample datasets\\titanic.csv'"
     ]
    }
   ],
   "source": [
    "# pandas profiling\n",
    "\n",
    "df = pd.read_csv(os.getcwd() + 'Personal\\Data\\sample datasets\\titanic.csv', engine='python') # dataset titanic\n",
    "df"
   ]
  },
  {
   "cell_type": "code",
   "execution_count": 15,
   "id": "60898fec",
   "metadata": {
    "ExecuteTime": {
     "end_time": "2021-06-18T00:01:26.571295Z",
     "start_time": "2021-06-18T00:01:26.449178Z"
    }
   },
   "outputs": [
    {
     "data": {
      "text/html": [
       "        <script type=\"text/javascript\">\n",
       "        window.PlotlyConfig = {MathJaxConfig: 'local'};\n",
       "        if (window.MathJax) {MathJax.Hub.Config({SVG: {font: \"STIX-Web\"}});}\n",
       "        if (typeof require !== 'undefined') {\n",
       "        require.undef(\"plotly\");\n",
       "        requirejs.config({\n",
       "            paths: {\n",
       "                'plotly': ['https://cdn.plot.ly/plotly-latest.min']\n",
       "            }\n",
       "        });\n",
       "        require(['plotly'], function(Plotly) {\n",
       "            window._Plotly = Plotly;\n",
       "        });\n",
       "        }\n",
       "        </script>\n",
       "        "
      ]
     },
     "metadata": {},
     "output_type": "display_data"
    },
    {
     "data": {
      "application/vnd.plotly.v1+json": {
       "config": {
        "linkText": "Export to plot.ly",
        "plotlyServerURL": "https://plot.ly",
        "showLink": true
       },
       "data": [
        {
         "line": {
          "color": "rgba(255, 153, 51, 1.0)",
          "dash": "solid",
          "shape": "linear",
          "width": 1.3
         },
         "mode": "lines",
         "name": "jenis",
         "text": "",
         "type": "scatter",
         "x": [
          0,
          1,
          2,
          3,
          4,
          5,
          6,
          7,
          8,
          9,
          10,
          11,
          12,
          13,
          14,
          15,
          16,
          17,
          18,
          19,
          20,
          21,
          22,
          23,
          24,
          25,
          26,
          27,
          28,
          29,
          30,
          31,
          32,
          33,
          34,
          35,
          36,
          37,
          38,
          39,
          40,
          41,
          42,
          43,
          44,
          45,
          46,
          47,
          48,
          49,
          50,
          51,
          52,
          53,
          54,
          55,
          56,
          57,
          58,
          59,
          60,
          61,
          62,
          63,
          64,
          65,
          66,
          67,
          68,
          69,
          70,
          71,
          72,
          73,
          74,
          75,
          76,
          77,
          78,
          79,
          80,
          81,
          82,
          83,
          84,
          85,
          86,
          87,
          88,
          89,
          90,
          91,
          92,
          93,
          94,
          95,
          96,
          97,
          98,
          99,
          100,
          101,
          102,
          103,
          104,
          105,
          106,
          107,
          108,
          109,
          110,
          111,
          112,
          113,
          114,
          115,
          116,
          117,
          118,
          119,
          120,
          121,
          122,
          123,
          124,
          125,
          126,
          127,
          128,
          129,
          130,
          131,
          132,
          133,
          134,
          135,
          136,
          137,
          138,
          139,
          140,
          141,
          142,
          143,
          144,
          145,
          146,
          147,
          148,
          149,
          150,
          151,
          152,
          153,
          154,
          155,
          156,
          157,
          158,
          159,
          160,
          161,
          162,
          163,
          164,
          165,
          166,
          167,
          168,
          169,
          170,
          171,
          172,
          173,
          174,
          175,
          176,
          177,
          178,
          179,
          180,
          181,
          182,
          183,
          184,
          185,
          186,
          187,
          188,
          189,
          190,
          191,
          192,
          193,
          194,
          195,
          196,
          197,
          198,
          199,
          200,
          201,
          202,
          203,
          204,
          205,
          206,
          207,
          208,
          209,
          210,
          211,
          212,
          213,
          214,
          215,
          216,
          217,
          218,
          219,
          220,
          221,
          222,
          223,
          224,
          225,
          226,
          227,
          228,
          229,
          230,
          231,
          232,
          233,
          234,
          235,
          236,
          237,
          238,
          239,
          240,
          241,
          242,
          243,
          244,
          245,
          246
         ],
         "y": [
          "BRT",
          "BRT",
          "BRT",
          "BRT",
          "BRT",
          "BRT",
          "BRT",
          "BRT",
          "BRT",
          "BRT",
          "BRT",
          "BRT",
          "BRT",
          "ANGKUTAN UMUM INTEGRASI",
          "ANGKUTAN UMUM INTEGRASI",
          "ANGKUTAN UMUM INTEGRASI",
          "ANGKUTAN UMUM INTEGRASI",
          "ANGKUTAN UMUM INTEGRASI",
          "ANGKUTAN UMUM INTEGRASI",
          "ANGKUTAN UMUM INTEGRASI",
          "ANGKUTAN UMUM INTEGRASI",
          "ANGKUTAN UMUM INTEGRASI",
          "ANGKUTAN UMUM INTEGRASI",
          "ANGKUTAN UMUM INTEGRASI",
          "ANGKUTAN UMUM INTEGRASI",
          "ANGKUTAN UMUM INTEGRASI",
          "ANGKUTAN UMUM INTEGRASI",
          "ANGKUTAN UMUM INTEGRASI",
          "ANGKUTAN UMUM INTEGRASI",
          "ANGKUTAN UMUM INTEGRASI",
          "ANGKUTAN UMUM INTEGRASI",
          "ANGKUTAN UMUM INTEGRASI",
          "ANGKUTAN UMUM INTEGRASI",
          "ANGKUTAN UMUM INTEGRASI",
          "ANGKUTAN UMUM INTEGRASI",
          "ANGKUTAN UMUM INTEGRASI",
          "ANGKUTAN UMUM INTEGRASI",
          "ANGKUTAN UMUM INTEGRASI",
          "ANGKUTAN UMUM INTEGRASI",
          "ANGKUTAN UMUM INTEGRASI",
          "ANGKUTAN UMUM INTEGRASI",
          "ANGKUTAN UMUM INTEGRASI",
          "ANGKUTAN UMUM INTEGRASI",
          "ANGKUTAN UMUM INTEGRASI",
          "ANGKUTAN UMUM INTEGRASI",
          "ANGKUTAN UMUM INTEGRASI",
          "ANGKUTAN UMUM INTEGRASI",
          "ANGKUTAN UMUM INTEGRASI",
          "ANGKUTAN UMUM INTEGRASI",
          "ANGKUTAN UMUM INTEGRASI",
          "ANGKUTAN UMUM INTEGRASI",
          "ANGKUTAN UMUM INTEGRASI",
          "ANGKUTAN UMUM INTEGRASI",
          "ANGKUTAN UMUM INTEGRASI",
          "ANGKUTAN UMUM INTEGRASI",
          "ANGKUTAN UMUM INTEGRASI",
          "ANGKUTAN UMUM INTEGRASI",
          "ANGKUTAN UMUM INTEGRASI",
          "ANGKUTAN UMUM INTEGRASI",
          "ANGKUTAN UMUM INTEGRASI",
          "ANGKUTAN UMUM INTEGRASI",
          "ANGKUTAN UMUM INTEGRASI",
          "ANGKUTAN UMUM INTEGRASI",
          "ANGKUTAN UMUM INTEGRASI",
          "ANGKUTAN UMUM INTEGRASI",
          "ANGKUTAN UMUM INTEGRASI",
          "ANGKUTAN UMUM INTEGRASI",
          "ANGKUTAN UMUM INTEGRASI",
          "ANGKUTAN UMUM INTEGRASI",
          "ANGKUTAN UMUM INTEGRASI",
          "ANGKUTAN UMUM INTEGRASI",
          "ANGKUTAN UMUM INTEGRASI",
          "ANGKUTAN UMUM INTEGRASI",
          "ANGKUTAN UMUM INTEGRASI",
          "ANGKUTAN UMUM INTEGRASI",
          "TRANSJABODETABEK",
          "TRANSJABODETABEK",
          "TRANSJABODETABEK",
          "TRANSJABODETABEK",
          "TRANSJABODETABEK",
          "TRANSJABODETABEK",
          "TRANSJABODETABEK",
          "TRANSJABODETABEK",
          "TRANSJABODETABEK",
          "TRANSJABODETABEK",
          "TRANSJABODETABEK",
          "TRANSJABODETABEK",
          "TRANSJABODETABEK",
          "TRANSJABODETABEK",
          "TRANSJABODETABEK",
          "TRANSJABODETABEK",
          "TRANSJABODETABEK",
          "TRANSJABODETABEK",
          "TRANSJABODETABEK",
          "TRANSJABODETABEK",
          "TRANSJABODETABEK",
          "TRANSJABODETABEK",
          "TRANSJABODETABEK",
          "TRANSJABODETABEK",
          "TRANSJABODETABEK",
          "TRANSJABODETABEK",
          "TRANSJABODETABEK",
          "TRANSPORTASI PETUGAS PACKING BANSOS",
          "TRANSPORTASI PETUGAS PACKING BANSOS",
          "TRANSPORTASI PETUGAS PACKING BANSOS",
          "LAYANAN TTMP BERBAYAR",
          "LAYANAN TTMP BERBAYAR",
          "LAYANAN TTMP BERBAYAR",
          "LAYANAN TTMP BERBAYAR",
          "LAYANAN TTMP BERBAYAR",
          "LAYANAN TTMP BERBAYAR",
          "LAYANAN TTMP BERBAYAR",
          "LAYANAN TTMP BERBAYAR",
          "LAYANAN TTMP BERBAYAR",
          "LAYANAN TTMP BERBAYAR",
          "LAYANAN TTMP BERBAYAR",
          "LAYANAN TTMP BERBAYAR",
          "LAYANAN TTMP BERBAYAR",
          "LAYANAN TTMP BERBAYAR",
          "LAYANAN TTMP BERBAYAR",
          "LAYANAN TTMP BERBAYAR",
          "LAYANAN TTMP BERBAYAR",
          "LAYANAN TTMP BERBAYAR",
          "LAYANAN TTMP BERBAYAR",
          "ANGKUTAN UMUM LAINNYA",
          "ANGKUTAN UMUM LAINNYA",
          "ANGKUTAN UMUM LAINNYA",
          "ANGKUTAN UMUM LAINNYA",
          "ANGKUTAN UMUM LAINNYA",
          "ANGKUTAN UMUM LAINNYA",
          "ANGKUTAN UMUM LAINNYA",
          "ANGKUTAN UMUM LAINNYA",
          "ANGKUTAN UMUM LAINNYA",
          "ANGKUTAN UMUM LAINNYA",
          "ANGKUTAN INTEGRASI BUS KECIL",
          "ANGKUTAN INTEGRASI BUS KECIL",
          "ANGKUTAN INTEGRASI BUS KECIL",
          "ANGKUTAN INTEGRASI BUS KECIL",
          "ANGKUTAN INTEGRASI BUS KECIL",
          "ANGKUTAN INTEGRASI BUS KECIL",
          "ANGKUTAN INTEGRASI BUS KECIL",
          "ANGKUTAN INTEGRASI BUS KECIL",
          "ANGKUTAN INTEGRASI BUS KECIL",
          "ANGKUTAN INTEGRASI BUS KECIL",
          "ANGKUTAN INTEGRASI BUS KECIL",
          "ANGKUTAN INTEGRASI BUS KECIL",
          "ANGKUTAN INTEGRASI BUS KECIL",
          "ANGKUTAN INTEGRASI BUS KECIL",
          "ANGKUTAN INTEGRASI BUS KECIL",
          "ANGKUTAN INTEGRASI BUS KECIL",
          "ANGKUTAN INTEGRASI BUS KECIL",
          "ANGKUTAN INTEGRASI BUS KECIL",
          "ANGKUTAN INTEGRASI BUS KECIL",
          "ANGKUTAN INTEGRASI BUS KECIL",
          "ANGKUTAN INTEGRASI BUS KECIL",
          "ANGKUTAN INTEGRASI BUS KECIL",
          "ANGKUTAN INTEGRASI BUS KECIL",
          "ANGKUTAN INTEGRASI BUS KECIL",
          "ANGKUTAN INTEGRASI BUS KECIL",
          "ANGKUTAN INTEGRASI BUS KECIL",
          "ANGKUTAN INTEGRASI BUS KECIL",
          "ANGKUTAN INTEGRASI BUS KECIL",
          "ANGKUTAN INTEGRASI BUS KECIL",
          "ANGKUTAN INTEGRASI BUS KECIL",
          "ANGKUTAN INTEGRASI BUS KECIL",
          "ANGKUTAN INTEGRASI BUS KECIL",
          "ANGKUTAN INTEGRASI BUS KECIL",
          "ANGKUTAN INTEGRASI BUS KECIL",
          "ANGKUTAN INTEGRASI BUS KECIL",
          "ANGKUTAN INTEGRASI BUS KECIL",
          "ANGKUTAN INTEGRASI BUS KECIL",
          "ANGKUTAN INTEGRASI BUS KECIL",
          "ANGKUTAN INTEGRASI BUS KECIL",
          "ANGKUTAN INTEGRASI BUS KECIL",
          "ANGKUTAN INTEGRASI BUS KECIL",
          "ANGKUTAN INTEGRASI BUS KECIL",
          "ANGKUTAN INTEGRASI BUS KECIL",
          "ANGKUTAN INTEGRASI BUS KECIL",
          "ANGKUTAN INTEGRASI BUS KECIL",
          "ANGKUTAN INTEGRASI BUS KECIL",
          "ANGKUTAN INTEGRASI BUS KECIL",
          "ANGKUTAN INTEGRASI BUS KECIL",
          "ANGKUTAN INTEGRASI BUS KECIL",
          "ANGKUTAN INTEGRASI BUS KECIL",
          "ANGKUTAN INTEGRASI BUS KECIL",
          "ANGKUTAN INTEGRASI BUS KECIL",
          "ANGKUTAN INTEGRASI BUS KECIL",
          "ANGKUTAN INTEGRASI BUS KECIL",
          "ANGKUTAN INTEGRASI BUS KECIL",
          "ANGKUTAN INTEGRASI BUS KECIL",
          "ANGKUTAN INTEGRASI BUS KECIL",
          "ANGKUTAN INTEGRASI BUS KECIL",
          "ANGKUTAN INTEGRASI BUS KECIL",
          "ANGKUTAN INTEGRASI BUS KECIL",
          "ANGKUTAN INTEGRASI BUS KECIL",
          "ANGKUTAN INTEGRASI BUS KECIL",
          "ANGKUTAN INTEGRASI BUS KECIL",
          "ANGKUTAN INTEGRASI BUS KECIL",
          "ANGKUTAN INTEGRASI BUS KECIL",
          "ANGKUTAN INTEGRASI BUS KECIL",
          "ANGKUTAN INTEGRASI BUS KECIL",
          "ANGKUTAN INTEGRASI BUS KECIL",
          "ANGKUTAN INTEGRASI BUS KECIL",
          "ANGKUTAN INTEGRASI BUS KECIL",
          "ANGKUTAN INTEGRASI BUS KECIL",
          "ANGKUTAN WISATA",
          "ANGKUTAN WISATA",
          "ANGKUTAN WISATA",
          "ANGKUTAN WISATA",
          "ANGKUTAN WISATA",
          "ANGKUTAN WISATA",
          "ANGKUTAN WISATA",
          "ANGKUTAN UMUM INTEGRASI RUSUN",
          "ANGKUTAN UMUM INTEGRASI RUSUN",
          "ANGKUTAN UMUM INTEGRASI RUSUN",
          "ANGKUTAN UMUM INTEGRASI RUSUN",
          "ANGKUTAN UMUM INTEGRASI RUSUN",
          "ANGKUTAN UMUM INTEGRASI RUSUN",
          "ANGKUTAN UMUM INTEGRASI RUSUN",
          "ANGKUTAN UMUM INTEGRASI RUSUN",
          "ANGKUTAN UMUM INTEGRASI RUSUN",
          "ANGKUTAN UMUM INTEGRASI RUSUN",
          "ANGKUTAN UMUM INTEGRASI RUSUN",
          "ANGKUTAN UMUM INTEGRASI RUSUN",
          "ANGKUTAN UMUM INTEGRASI RUSUN",
          "ANGKUTAN UMUM INTEGRASI RUSUN",
          "ANGKUTAN UMUM INTEGRASI RUSUN",
          "ANGKUTAN UMUM INTEGRASI RUSUN",
          "ANGKUTAN UMUM INTEGRASI RUSUN",
          "ANGKUTAN UMUM INTEGRASI RUSUN",
          "ANGKUTAN UMUM INTEGRASI RUSUN",
          "ANGKUTAN UMUM INTEGRASI RUSUN",
          "ANGKUTAN UMUM INTEGRASI RUSUN",
          "LAMPIRAN LAYANAN GRATIS BRT",
          "LAMPIRAN LAYANAN GRATIS BRT",
          "LAMPIRAN LAYANAN GRATIS BRT",
          "LAMPIRAN LAYANAN GRATIS BRT",
          "LAMPIRAN LAYANAN GRATIS BRT",
          "LAMPIRAN LAYANAN GRATIS BRT",
          "LAMPIRAN LAYANAN GRATIS BRT",
          "LAMPIRAN LAYANAN GRATIS BRT",
          "LAMPIRAN LAYANAN GRATIS BRT",
          "LAMPIRAN LAYANAN GRATIS BRT",
          "LAMPIRAN LAYANAN GRATIS BRT",
          "LAMPIRAN LAYANAN GRATIS BRT",
          "LAMPIRAN LAYANAN GRATIS BRT",
          "LAMPIRAN LAYANAN GRATIS BRT"
         ]
        },
        {
         "line": {
          "color": "rgba(55, 128, 191, 1.0)",
          "dash": "solid",
          "shape": "linear",
          "width": 1.3
         },
         "mode": "lines",
         "name": "kode_trayek",
         "text": "",
         "type": "scatter",
         "x": [
          0,
          1,
          2,
          3,
          4,
          5,
          6,
          7,
          8,
          9,
          10,
          11,
          12,
          13,
          14,
          15,
          16,
          17,
          18,
          19,
          20,
          21,
          22,
          23,
          24,
          25,
          26,
          27,
          28,
          29,
          30,
          31,
          32,
          33,
          34,
          35,
          36,
          37,
          38,
          39,
          40,
          41,
          42,
          43,
          44,
          45,
          46,
          47,
          48,
          49,
          50,
          51,
          52,
          53,
          54,
          55,
          56,
          57,
          58,
          59,
          60,
          61,
          62,
          63,
          64,
          65,
          66,
          67,
          68,
          69,
          70,
          71,
          72,
          73,
          74,
          75,
          76,
          77,
          78,
          79,
          80,
          81,
          82,
          83,
          84,
          85,
          86,
          87,
          88,
          89,
          90,
          91,
          92,
          93,
          94,
          95,
          96,
          97,
          98,
          99,
          100,
          101,
          102,
          103,
          104,
          105,
          106,
          107,
          108,
          109,
          110,
          111,
          112,
          113,
          114,
          115,
          116,
          117,
          118,
          119,
          120,
          121,
          122,
          123,
          124,
          125,
          126,
          127,
          128,
          129,
          130,
          131,
          132,
          133,
          134,
          135,
          136,
          137,
          138,
          139,
          140,
          141,
          142,
          143,
          144,
          145,
          146,
          147,
          148,
          149,
          150,
          151,
          152,
          153,
          154,
          155,
          156,
          157,
          158,
          159,
          160,
          161,
          162,
          163,
          164,
          165,
          166,
          167,
          168,
          169,
          170,
          171,
          172,
          173,
          174,
          175,
          176,
          177,
          178,
          179,
          180,
          181,
          182,
          183,
          184,
          185,
          186,
          187,
          188,
          189,
          190,
          191,
          192,
          193,
          194,
          195,
          196,
          197,
          198,
          199,
          200,
          201,
          202,
          203,
          204,
          205,
          206,
          207,
          208,
          209,
          210,
          211,
          212,
          213,
          214,
          215,
          216,
          217,
          218,
          219,
          220,
          221,
          222,
          223,
          224,
          225,
          226,
          227,
          228,
          229,
          230,
          231,
          232,
          233,
          234,
          235,
          236,
          237,
          238,
          239,
          240,
          241,
          242,
          243,
          244,
          245,
          246
         ],
         "y": [
          "1",
          "2",
          "3",
          "4",
          "5",
          "6",
          "7",
          "8",
          "9",
          "10",
          "11",
          "12",
          "13",
          "1A",
          "1B",
          "1F",
          "1C",
          "1E",
          "1H",
          "1M ",
          "1N",
          "1P",
          "1Q",
          "1R",
          "1V",
          "3D",
          "3E",
          "4A",
          "4B",
          "4F",
          "DA1",
          "DA2",
          "DA3",
          "DA4",
          "5A",
          "5B",
          "5F",
          "6C",
          "6H",
          "6M",
          "6N",
          "6Q",
          "7A",
          "7B",
          "7D",
          "7E",
          "7N",
          "7P",
          "8C",
          "8D",
          "8E",
          "8K",
          "9D",
          "9E",
          "9H",
          "11A",
          "11D",
          "11Q",
          "11U",
          "12A",
          "12B",
          "12E",
          "12K",
          "MR1",
          "MR2",
          "MR3",
          "MR5",
          "MR8",
          "MR9",
          "10K",
          "10F",
          "6R",
          "5M",
          "5N",
          "ANGKUTAN UMUM INTEGRASI",
          "B11",
          "B12",
          "B21",
          "B22",
          "D11",
          "D21",
          "S11",
          "S21",
          "S22",
          "S41",
          "T11",
          "T12",
          "7C",
          "2B",
          "B13",
          "B14",
          "B23",
          "B24",
          "1K",
          "1T",
          "6P",
          "1U",
          "D31",
          "S31",
          "S12",
          "B15",
          "B16",
          "JURUSAN 1",
          "JURUSAN 2",
          "JURUSAN 3",
          "JURUSAN 4",
          "TRS1",
          "TRS2",
          "TRS3",
          "TRS4",
          "TRS5",
          "TRS6",
          "TRS7",
          "TRS8",
          "TRS9",
          "TRS10",
          "TRS11",
          "TRS12",
          "TRS13",
          "TRS14",
          "TRS15",
          "TRS16",
          "TRS17",
          "TRS18",
          "TRS19",
          "GR1",
          "GR2",
          "GR4",
          "GR5",
          "EV1",
          "TJC",
          "G1",
          "RJMT",
          "ANGKUTAN UMUM LAINNYA",
          "TR 1",
          "TR 2",
          "JAK-1",
          "JAK-2",
          "JAK-3",
          "JAK-4",
          "JAK-5",
          "JAK-6",
          "JAK-7",
          "JAK-8",
          "JAK-9",
          "JAK-10",
          "JAK-11",
          "JAK-12",
          "JAK-13",
          "JAK-14",
          "JAK-15",
          "JAK-16",
          "JAK-17",
          "JAK-18",
          "JAK-19",
          "JAK-20",
          "JAK-21",
          "JAK-22",
          "JAK-24",
          "JAK-25",
          "JAK-26",
          "JAK-27",
          "JAK-28",
          "JAK-29",
          "JAK-30",
          "JAK-31",
          "JAK-32",
          "JAK-33",
          "JAK-34",
          "JAK-35",
          "JAK-36",
          "JAK-37",
          "JAK-38",
          "JAK-39",
          "JAK-40",
          "JAK-41",
          "JAK-42",
          "JAK-43",
          "JAK-44",
          "JAK-45",
          "JAK-46",
          "JAK-47",
          "JAK-49",
          "JAK-50",
          "JAK-51",
          "JAK-52",
          "JAK-53",
          "JAK-54",
          "JAK-56",
          "JAK-58",
          "JAK-59",
          "JAK-60",
          "JAK-61",
          "JAK-64",
          "JAK-71",
          "JAK-72",
          "JAK-73",
          "JAK-74",
          "JAK-75",
          "JAK-77",
          "JAK-80",
          "JAK-84",
          "JAK-85",
          "JAK-112",
          "JAK-117",
          "BW1",
          "BW2",
          "BW4",
          "BW3",
          "BW5",
          "BW6",
          "BW7",
          "2E",
          "2F",
          "2H",
          "3A",
          "3B",
          "3C",
          "4E",
          "9F",
          "10A",
          "10B",
          "11B",
          "11C",
          "11K",
          "11M",
          "11N",
          "11P",
          "11R",
          "12C",
          "12D",
          "12F",
          "12H",
          "PNS",
          "TKD",
          "KJP",
          "KST",
          "RSN",
          "PAS",
          "PBS",
          "TNI",
          "VET",
          "KPD",
          "PLU",
          "MAR",
          "PAUD",
          "JMT"
         ]
        },
        {
         "line": {
          "color": "rgba(50, 171, 96, 1.0)",
          "dash": "solid",
          "shape": "linear",
          "width": 1.3
         },
         "mode": "lines",
         "name": "trayek",
         "text": "",
         "type": "scatter",
         "x": [
          0,
          1,
          2,
          3,
          4,
          5,
          6,
          7,
          8,
          9,
          10,
          11,
          12,
          13,
          14,
          15,
          16,
          17,
          18,
          19,
          20,
          21,
          22,
          23,
          24,
          25,
          26,
          27,
          28,
          29,
          30,
          31,
          32,
          33,
          34,
          35,
          36,
          37,
          38,
          39,
          40,
          41,
          42,
          43,
          44,
          45,
          46,
          47,
          48,
          49,
          50,
          51,
          52,
          53,
          54,
          55,
          56,
          57,
          58,
          59,
          60,
          61,
          62,
          63,
          64,
          65,
          66,
          67,
          68,
          69,
          70,
          71,
          72,
          73,
          74,
          75,
          76,
          77,
          78,
          79,
          80,
          81,
          82,
          83,
          84,
          85,
          86,
          87,
          88,
          89,
          90,
          91,
          92,
          93,
          94,
          95,
          96,
          97,
          98,
          99,
          100,
          101,
          102,
          103,
          104,
          105,
          106,
          107,
          108,
          109,
          110,
          111,
          112,
          113,
          114,
          115,
          116,
          117,
          118,
          119,
          120,
          121,
          122,
          123,
          124,
          125,
          126,
          127,
          128,
          129,
          130,
          131,
          132,
          133,
          134,
          135,
          136,
          137,
          138,
          139,
          140,
          141,
          142,
          143,
          144,
          145,
          146,
          147,
          148,
          149,
          150,
          151,
          152,
          153,
          154,
          155,
          156,
          157,
          158,
          159,
          160,
          161,
          162,
          163,
          164,
          165,
          166,
          167,
          168,
          169,
          170,
          171,
          172,
          173,
          174,
          175,
          176,
          177,
          178,
          179,
          180,
          181,
          182,
          183,
          184,
          185,
          186,
          187,
          188,
          189,
          190,
          191,
          192,
          193,
          194,
          195,
          196,
          197,
          198,
          199,
          200,
          201,
          202,
          203,
          204,
          205,
          206,
          207,
          208,
          209,
          210,
          211,
          212,
          213,
          214,
          215,
          216,
          217,
          218,
          219,
          220,
          221,
          222,
          223,
          224,
          225,
          226,
          227,
          228,
          229,
          230,
          231,
          232,
          233,
          234,
          235,
          236,
          237,
          238,
          239,
          240,
          241,
          242,
          243,
          244,
          245,
          246
         ],
         "y": [
          "KORIDOR 1 (BLOK M - KOTA)",
          "KORIDOR 2 (PULOGADUNG 1 - HARMONI)",
          "KORIDOR 3 (KALIDERES - PASAR BARU)",
          "KORIDOR 4 (PULOGADUNG 2 - DUKUH ATAS 2)",
          "KORIDOR 5 (KAMPUNG MELAYU - ANCOL)",
          "KORIDOR 6 (RAGUNAN - DUKUH ATAS 2)",
          "KORIDOR 7 (KAMPUNG RAMBUTAN - KAMPUNG MELAYU)",
          "KORIDOR 8 (LEBAK BULUS - HARMONI)",
          "KORIDOR 9 (PINANG RANTI - PLUIT)",
          "KORIDOR 10 (PGC 2 - PLUIT)",
          "KORIDOR 11 (PULOGEBANG - KAMPUNG MELAYU)",
          "KORIDOR 12 (PENJARINGAN - TANJUNG PRIOK)",
          "KORIDOR 13 (CBD CILEDUG - BLOK M)",
          "PIK - BALAIKOTA",
          "STASIUN PALMERAH - TOSARI",
          "STASIUN PALMERAH - BUNDARAN SENAYAN",
          "PESANGGRAHAN - BLOK M",
          "PONDOK LABU - BLOK M",
          "STASIUN TANAH ABANG - STASIUN GONDANGDIA",
          "BLOK M - MERUYA",
          "TANAH ABANG - BLOK M",
          "SENEN - BUNDERAN SENAYAN",
          "REMPOA - BLOK M",
          "STASIUN PASAR SENEN - STASIUN TANAH ABANG",
          "LEBAK BULUS - HOTEL INDONESIA",
          "PENJARINGAN - RAWA BUAYA",
          "SENTRALAND CENGKARENG - PURI KEMBANGAN",
          "TU GAS - GROGOL 2",
          "STASIUN MANGGARAI - UI",
          "PONDOK GEDE - PULOGADUNG 2",
          "DUKUH ATAS - SAM RATULANGI",
          "DUKUH ATAS - TANAH ABANG",
          "DUKUH ATAS - KUNINGAN",
          "DUKUH ATAS - KOTA",
          "KAMPUNG MELAYU - GROGOL 1",
          "STASIUN TEBET - BIDARA CINA",
          "KAMPUNG MELAYU - TANAH ABANG",
          "STASIUN TEBET - KARET VIA PATRA KUNINGAN",
          "LEBAK BULUS - STASIUN SENEN",
          "BLOK M - STASIUN MANGGARAI",
          "RAGUNAN - BLOK M VIA KEMANG",
          "EPICENTRUM - CASABLANCA",
          "KAMPUNG RAMBUTAN - LEBAK BULUS",
          "KAMPUNG RAMBUTAN - BLOK M",
          "PANCORAN - TMII",
          "KAMPUNG RAMBUTAN - RAGUNAN",
          "GANDARIA - KAMPUNG RAMBUTAN",
          "PONDOK KELAPA - BKN",
          "KEBAYORAN LAMA - TANAH ABANG",
          "JOGLO - BLOK M",
          "BINTARO - BLOK M",
          "BATUSARI - TANAH ABANG",
          "PASAR MINGGU - TANAH ABANG",
          "KEBAYORAN LAMA - GROGOL 2",
          "CIPEDAK - BLOK M",
          "PULO GEBANG - RAWAMANGUN",
          "PULOGEBANG - PULOGADUNG 2 VIA PIK",
          "KAMPUNG MELAYU - PULOGEBANG VIA BKT",
          "PULOGEBANG - STASIUN CAKUNG VIA CILINCING",
          "PELABUHAN KALIADEM - KOTA",
          "PLUIT - STASIUN SENEN",
          "HISTORY OF JAKARTA EXPLORER",
          "ASEMKA EXPLORER",
          "CSW - PAKUBUWONO",
          "CSW - KRAMAT PELA",
          "CSW - WIJAYA",
          "STASIUN MRT BLOK A - RADIO DALAM",
          "CIPETE - ANTASARI",
          "SOUTH QUARTER - LEBAK BULUS",
          "SENIN - TANJUNG PRIOK",
          "LRT PEGANGSAAN - KELAPA GADING",
          "RAGUNAN - FATMAWATI",
          "KAMPUNG MELAYU - TANAH ABANG VIA CIKINI",
          "KAMPUNG MELAYU - RAGUNAN",
          "HCB - BUNSEN",
          "SUMMARECON BEKASI - TOSARI",
          "SUMMARECON BEKASI - TANJUNG PRIOK",
          "BEKASI TIMUR - GROGOL 2",
          "BEKASI TIMUR - JUANDA",
          "DEPOK - BKN",
          "UI - LEBAK BULUS",
          "BSD - GROGOL 2",
          "CIPUTAT - TOSARI",
          "CIPUTAT - KAMPUNG RAMBUTAN",
          "PONDOK CABE - TANAH ABANG",
          "PORIS PLAWAD - BUNDARAN SENAYAN",
          "PORIS PLAWAD - JUANDA",
          "CIBUBUR - BKN",
          "HARAPAN INDAH - ASMI",
          "BEKASI BARAT - BLOK M",
          "BEKASI BARAT - KUNINGAN",
          "BEKASI TIMUR - TEBET",
          "BEKASI TIMUR - KALIDERES",
          "CIBUBUR JUNCTION - BLOK M",
          "CIBUBUR - KOTA",
          "CIBUBUR - KUNINGAN",
          "TAMAN MINI - BALAI KOTA",
          "CINERE - KUNINGAN",
          "BINTARO - BLOK M VIA JORR",
          "BSD - MRT FATMAWATI",
          "JATI BENING - BLOK M",
          "JATI BENING - KUNINGAN",
          "JIEP - PASAR TANAH ABANG",
          "JIEP - PASAR CIPULIR",
          "JIEP - PASAR GLODOK",
          "JIEP - PASAR SENEN",
          "KALIDERES - JUANDA",
          "PORIS - BLOK.M",
          "BSD - BLOK.M",
          "CIBUBUR - BLOK.M",
          "DEPOK - KP.MELAYU",
          "BOTANI - SENEN",
          "BULAK KAPAL -BLOK.M",
          "BEKASI TIMUR - PUSKESMAS SETIABUDI",
          "BINTARO - BLOK.M",
          "TERMINAL CILEUNGSI - TANJUNG PRIOK",
          "PORIS PLAWAD - RSUD PS.REBO",
          "BOTANI - RSUD PS.MINGGU",
          "BULAK KAPAL - RSUD TAMAN SARI",
          "BULAK KAPAL - SENEN",
          "BEKASI SELATAN - RSUD KEMAYORAN",
          "PORIS PLAWAD - RS.PIK",
          "BEKASI SELATAN - RSU KALIDERES",
          "BEKASI SELATAN - RSUD TEBET",
          "DEPOK - RSUD PS.MINGGU",
          "BUNDARAN SENAYAN - HARMONI (BUS GRATIS)",
          "TANAH ABANG EXPLORER",
          "KOTA - MUSEUM BAHARI",
          "KOTA EXPLORER",
          "BLOK M - BALAI KOTA",
          "TRANSJAKARTA CARES",
          "GRATIS GATE NON BRT",
          "ROMBONGAN RT/RW JUMANTIK",
          "TRANSPORTASI TENAGA MEDIS DAN PARAMEDIS (GRATIS)",
          "GONDANGDIA - SENEN",
          "GONDANGDIA - BALAI KOTA",
          "TANJUNG PRIOK - PLUMPANG",
          "KAMPUNG MELAYU - DUREN SAWIT",
          "LEBAK BULUS - PONDOK LABU",
          "GROGOL - JEMBATAN DUA",
          "SEMPER - ROROTAN",
          "KAMPUNG RAMBUTAN - PONDOK GEDE",
          "TANAH ABANG - TAWAKAL",
          "ROXY - BENDUNGAN HILIR",
          "ROXY KARET",
          "TANAH ABANG-KOTA",
          "TANAH ABANG-KEBAYORAN LAMA",
          "TANAH ABANG- KAMPUNG BARU KEBAYORAN",
          "TANAH ABANG - KOTA INTAN ",
          "TANAH ABANG-MERUYA",
          "TANJUNG PRIOK - BULAK TURI",
          "PGC - CONDET",
          "PULOGADUNG - SENEN",
          "STASIUN KALIBATA - KUNINGAN",
          "PINANG RANTI - SETU",
          "LUBANG BUAYA - CAWANG UKI",
          "DWIKORA - CILILITAN",
          "PENAS KALIMALANG - DWIKORA",
          "SENEN - PULOGADUNG VIA KELAPA GADING",
          "PASAR REBO - KALISARI",
          "RAWAMANGUN - DUREN SAWIT",
          "PULOGEBANG - ROROTAN",
          "PASAR REBO - TAMAN WILADATIKA",
          "TANJUNG PRIOK - KELAPA GADING",
          "MERUYA - CITRALAND",
          "PONDOK LABU - BLOK M",
          "PETUKANGAN - LEBAK BULUS",
          "PULO GADUNG - KOTA",
          "RAWAMANGUN - KLENDER",
          "RAWAMANGUN - PANGKALAN JATI",
          "CILANGKAP - CILILITAN",
          "CILILITAN - CONDET VIA KAYU MANIS",
          "BULAK RINGIN - KAMPUNG RAMBUTAN",
          "DUREN SAWIT - KALIMALANG",
          "PULOGEBANG - TAMAN HARAPAN BARU",
          "KAMPUNG MELAYU - PULOGEBANG",
          "PONDOK KELAPA - KAMPUNG MELAYU",
          "TONGTEK - CILILTAN",
          "ANDARA - LENTENG AGUNG",
          "LEBAK BULUS - RAGUNAN",
          "KAMPUNG MELAYU - RAGUNAN",
          "PASAR MINGGU - CIGANJUR",
          "LEBAK BULUS - CIPULIR",
          "KALIDERES - PURI KEMBANGAN",
          "TAMAN KOTA - BUDI LUHUR",
          "KALIDERES - ANGKE",
          "GROGOL - PENGUMBEN",
          "GROGOL - BENHIL",
          "GROGOL - SRENGSENG",
          "CILINCING - ROROTAN",
          "RAWASENGON - RAWAMANGUN",
          "KELAPA GADING - RUSUN KEMAYORAN",
          "PULOGADUNG - CEMPAKA PUTIH",
          "LENTENG AGUNG - ASELI",
          "KAMPUNG RAMBUTAN - PINANG RANTI",
          "KAMPUNG RAMBUTAN - PASAR REBO VIA PONCOL",
          "CIBUBUR - JAMBORE",
          "RAWAMANGUN - CIPINANG",
          "CILILITAN - KAMPUNG PULO",
          "TANJUNG PRIOK - JEMBATAN HITAM",
          "RAWA BUAYA - RAWA KOMPENI",
          "KAMPUNG MELAYU - KAPIN RAYA",
          "BINTARA - CIPINANG INDAH",
          "TANAH MERAH - PULOGADUNG",
          "TANJUNG PRIOK - TANAH MERDEKA",
          "SEJARAH JAKARTA",
          "JAKARTA MODERN",
          "PENCAKAR LANGIT",
          "KESENIAN DAN KULINER",
          "WISATA KALIJODO",
          "MAKAM MBAH PRIUK",
          "JAKARTA BELANJA",
          "RUSUN RAWA BEBEK - PAKIN",
          "RUSUN CAKUNG BARAT (ALBO) - PULO GADUNG 1",
          "RUSUN JATI RAWASARI - SENEN",
          "RUSUN PESAKIH - KALIDERES",
          "RUSUN FLAMBOYAN - KALIDERES",
          "RUSUN KAPUK MUARA - PENJARINGAN",
          "RUSUN JATINEGARA KAUM - PULO GADUNG 2",
          "RUSUN TAMBORA - PLUIT",
          "RUSUN MARUNDA - TANJUNG PRIOK",
          "RUSUN CIPINANG BESAR SELATAN - PENAS KALIMALANG",
          "RUSUN RAWA BEBEK - PENGGILINGAN",
          "RUSUN PINUS ELOK - RUSUN PULO GEBANG",
          "RUSUN KOMARUDIN - PENGGILINGAN",
          "RUSUN RAWA BEBEK - BUKIT DURI",
          "RUSUN CIPINANG MUARA - JATINEGARA",
          "RUSUN PONDOK BAMBU - WALIKOTA JAKARTA TIMUR",
          "RUSUN CAKUNG KM 2 - BUKIT DURI",
          "RUSUN WADUK PLUIT- PENJARINGAN",
          "RUSUN SUKAPURA - SUNTER (VIA KELAPA GADING)",
          "RUSUN MARUNDA - RUSUN WADUK PLUIT",
          "RUSUN PENJARINGAN - PENJARINGAN",
          "GRATIS PNS DKI DAN PENSIUNAN PNS",
          "GRATIS TENAGA KONTRAK DKI",
          "GRATIS PENERIMA KJP",
          "GRATIS KARYAWAN SWASTA TERTENTU",
          "GRATIS PENGHUNI RUMAH SUSUN",
          "GRATIS KTP KEPULAUAN SERIBU",
          "GRATIS PENERIMA RASKIN",
          "GRATIS TNI/POLRI",
          "GRATIS VETERAN",
          "GRATIS PENYANDANG DISABILITAS",
          "GRATIS LANSIA",
          "GRATIS MARBOT",
          "GRATIS PAUD",
          "GRATIS JUMANTIK"
         ]
        },
        {
         "line": {
          "color": "rgba(128, 0, 128, 1.0)",
          "dash": "solid",
          "shape": "linear",
          "width": 1.3
         },
         "mode": "lines",
         "name": "jumlah_penumpang",
         "text": "",
         "type": "scatter",
         "x": [
          0,
          1,
          2,
          3,
          4,
          5,
          6,
          7,
          8,
          9,
          10,
          11,
          12,
          13,
          14,
          15,
          16,
          17,
          18,
          19,
          20,
          21,
          22,
          23,
          24,
          25,
          26,
          27,
          28,
          29,
          30,
          31,
          32,
          33,
          34,
          35,
          36,
          37,
          38,
          39,
          40,
          41,
          42,
          43,
          44,
          45,
          46,
          47,
          48,
          49,
          50,
          51,
          52,
          53,
          54,
          55,
          56,
          57,
          58,
          59,
          60,
          61,
          62,
          63,
          64,
          65,
          66,
          67,
          68,
          69,
          70,
          71,
          72,
          73,
          74,
          75,
          76,
          77,
          78,
          79,
          80,
          81,
          82,
          83,
          84,
          85,
          86,
          87,
          88,
          89,
          90,
          91,
          92,
          93,
          94,
          95,
          96,
          97,
          98,
          99,
          100,
          101,
          102,
          103,
          104,
          105,
          106,
          107,
          108,
          109,
          110,
          111,
          112,
          113,
          114,
          115,
          116,
          117,
          118,
          119,
          120,
          121,
          122,
          123,
          124,
          125,
          126,
          127,
          128,
          129,
          130,
          131,
          132,
          133,
          134,
          135,
          136,
          137,
          138,
          139,
          140,
          141,
          142,
          143,
          144,
          145,
          146,
          147,
          148,
          149,
          150,
          151,
          152,
          153,
          154,
          155,
          156,
          157,
          158,
          159,
          160,
          161,
          162,
          163,
          164,
          165,
          166,
          167,
          168,
          169,
          170,
          171,
          172,
          173,
          174,
          175,
          176,
          177,
          178,
          179,
          180,
          181,
          182,
          183,
          184,
          185,
          186,
          187,
          188,
          189,
          190,
          191,
          192,
          193,
          194,
          195,
          196,
          197,
          198,
          199,
          200,
          201,
          202,
          203,
          204,
          205,
          206,
          207,
          208,
          209,
          210,
          211,
          212,
          213,
          214,
          215,
          216,
          217,
          218,
          219,
          220,
          221,
          222,
          223,
          224,
          225,
          226,
          227,
          228,
          229,
          230,
          231,
          232,
          233,
          234,
          235,
          236,
          237,
          238,
          239,
          240,
          241,
          242,
          243,
          244,
          245,
          246
         ],
         "y": [
          872507,
          359703,
          478685,
          273383,
          444222,
          363628,
          460311,
          460608,
          697985,
          351832,
          146679,
          147990,
          305141,
          59205,
          23236,
          1101,
          6594,
          68277,
          38234,
          33991,
          2771,
          2103,
          32231,
          11635,
          0,
          0,
          6038,
          0,
          26325,
          23412,
          0,
          0,
          0,
          0,
          0,
          2550,
          7380,
          80548,
          3629,
          23013,
          0,
          0,
          40565,
          70491,
          6126,
          0,
          0,
          21801,
          3023,
          38665,
          5004,
          0,
          63633,
          13272,
          0,
          0,
          60315,
          380,
          0,
          0,
          0,
          0,
          0,
          0,
          0,
          0,
          0,
          0,
          0,
          47746,
          0,
          764,
          70809,
          0,
          0,
          0,
          0,
          0,
          0,
          0,
          38501,
          0,
          0,
          0,
          0,
          0,
          0,
          21250,
          0,
          0,
          0,
          0,
          0,
          3112,
          0,
          4131,
          0,
          0,
          133,
          196,
          0,
          0,
          1765,
          42,
          658,
          0,
          0,
          0,
          0,
          0,
          1324,
          0,
          0,
          0,
          0,
          0,
          0,
          0,
          1022,
          0,
          215,
          0,
          0,
          0,
          0,
          0,
          0,
          0,
          0,
          0,
          1044,
          0,
          0,
          7534,
          1512,
          2790,
          53706,
          39771,
          30729,
          46043,
          64161,
          69906,
          40219,
          22872,
          22632,
          63067,
          61687,
          56739,
          6623,
          78833,
          95946,
          54426,
          35103,
          26904,
          105336,
          57217,
          60594,
          24199,
          69461,
          51883,
          40085,
          42248,
          55564,
          98273,
          132565,
          57140,
          84724,
          41943,
          65889,
          26618,
          81340,
          51810,
          39970,
          50859,
          39570,
          17604,
          39806,
          51957,
          49892,
          47032,
          45394,
          38289,
          35264,
          54152,
          96888,
          34780,
          12522,
          25586,
          42939,
          89623,
          84682,
          73305,
          32663,
          37552,
          58112,
          71319,
          63473,
          38119,
          44548,
          49612,
          53036,
          18655,
          12377,
          47557,
          63419,
          0,
          0,
          0,
          0,
          0,
          0,
          0,
          0,
          7536,
          0,
          3092,
          0,
          0,
          0,
          0,
          0,
          0,
          6495,
          8165,
          2962,
          0,
          0,
          0,
          0,
          0,
          0,
          0,
          0,
          16539,
          12778,
          11424,
          8093,
          13951,
          164,
          1481,
          161,
          20,
          6005,
          157095,
          0,
          5590,
          6707
         ]
        }
       ],
       "layout": {
        "legend": {
         "bgcolor": "#F5F6F9",
         "font": {
          "color": "#4D5663"
         }
        },
        "paper_bgcolor": "#F5F6F9",
        "plot_bgcolor": "#F5F6F9",
        "template": {
         "data": {
          "bar": [
           {
            "error_x": {
             "color": "#2a3f5f"
            },
            "error_y": {
             "color": "#2a3f5f"
            },
            "marker": {
             "line": {
              "color": "#E5ECF6",
              "width": 0.5
             }
            },
            "type": "bar"
           }
          ],
          "barpolar": [
           {
            "marker": {
             "line": {
              "color": "#E5ECF6",
              "width": 0.5
             }
            },
            "type": "barpolar"
           }
          ],
          "carpet": [
           {
            "aaxis": {
             "endlinecolor": "#2a3f5f",
             "gridcolor": "white",
             "linecolor": "white",
             "minorgridcolor": "white",
             "startlinecolor": "#2a3f5f"
            },
            "baxis": {
             "endlinecolor": "#2a3f5f",
             "gridcolor": "white",
             "linecolor": "white",
             "minorgridcolor": "white",
             "startlinecolor": "#2a3f5f"
            },
            "type": "carpet"
           }
          ],
          "choropleth": [
           {
            "colorbar": {
             "outlinewidth": 0,
             "ticks": ""
            },
            "type": "choropleth"
           }
          ],
          "contour": [
           {
            "colorbar": {
             "outlinewidth": 0,
             "ticks": ""
            },
            "colorscale": [
             [
              0,
              "#0d0887"
             ],
             [
              0.1111111111111111,
              "#46039f"
             ],
             [
              0.2222222222222222,
              "#7201a8"
             ],
             [
              0.3333333333333333,
              "#9c179e"
             ],
             [
              0.4444444444444444,
              "#bd3786"
             ],
             [
              0.5555555555555556,
              "#d8576b"
             ],
             [
              0.6666666666666666,
              "#ed7953"
             ],
             [
              0.7777777777777778,
              "#fb9f3a"
             ],
             [
              0.8888888888888888,
              "#fdca26"
             ],
             [
              1,
              "#f0f921"
             ]
            ],
            "type": "contour"
           }
          ],
          "contourcarpet": [
           {
            "colorbar": {
             "outlinewidth": 0,
             "ticks": ""
            },
            "type": "contourcarpet"
           }
          ],
          "heatmap": [
           {
            "colorbar": {
             "outlinewidth": 0,
             "ticks": ""
            },
            "colorscale": [
             [
              0,
              "#0d0887"
             ],
             [
              0.1111111111111111,
              "#46039f"
             ],
             [
              0.2222222222222222,
              "#7201a8"
             ],
             [
              0.3333333333333333,
              "#9c179e"
             ],
             [
              0.4444444444444444,
              "#bd3786"
             ],
             [
              0.5555555555555556,
              "#d8576b"
             ],
             [
              0.6666666666666666,
              "#ed7953"
             ],
             [
              0.7777777777777778,
              "#fb9f3a"
             ],
             [
              0.8888888888888888,
              "#fdca26"
             ],
             [
              1,
              "#f0f921"
             ]
            ],
            "type": "heatmap"
           }
          ],
          "heatmapgl": [
           {
            "colorbar": {
             "outlinewidth": 0,
             "ticks": ""
            },
            "colorscale": [
             [
              0,
              "#0d0887"
             ],
             [
              0.1111111111111111,
              "#46039f"
             ],
             [
              0.2222222222222222,
              "#7201a8"
             ],
             [
              0.3333333333333333,
              "#9c179e"
             ],
             [
              0.4444444444444444,
              "#bd3786"
             ],
             [
              0.5555555555555556,
              "#d8576b"
             ],
             [
              0.6666666666666666,
              "#ed7953"
             ],
             [
              0.7777777777777778,
              "#fb9f3a"
             ],
             [
              0.8888888888888888,
              "#fdca26"
             ],
             [
              1,
              "#f0f921"
             ]
            ],
            "type": "heatmapgl"
           }
          ],
          "histogram": [
           {
            "marker": {
             "colorbar": {
              "outlinewidth": 0,
              "ticks": ""
             }
            },
            "type": "histogram"
           }
          ],
          "histogram2d": [
           {
            "colorbar": {
             "outlinewidth": 0,
             "ticks": ""
            },
            "colorscale": [
             [
              0,
              "#0d0887"
             ],
             [
              0.1111111111111111,
              "#46039f"
             ],
             [
              0.2222222222222222,
              "#7201a8"
             ],
             [
              0.3333333333333333,
              "#9c179e"
             ],
             [
              0.4444444444444444,
              "#bd3786"
             ],
             [
              0.5555555555555556,
              "#d8576b"
             ],
             [
              0.6666666666666666,
              "#ed7953"
             ],
             [
              0.7777777777777778,
              "#fb9f3a"
             ],
             [
              0.8888888888888888,
              "#fdca26"
             ],
             [
              1,
              "#f0f921"
             ]
            ],
            "type": "histogram2d"
           }
          ],
          "histogram2dcontour": [
           {
            "colorbar": {
             "outlinewidth": 0,
             "ticks": ""
            },
            "colorscale": [
             [
              0,
              "#0d0887"
             ],
             [
              0.1111111111111111,
              "#46039f"
             ],
             [
              0.2222222222222222,
              "#7201a8"
             ],
             [
              0.3333333333333333,
              "#9c179e"
             ],
             [
              0.4444444444444444,
              "#bd3786"
             ],
             [
              0.5555555555555556,
              "#d8576b"
             ],
             [
              0.6666666666666666,
              "#ed7953"
             ],
             [
              0.7777777777777778,
              "#fb9f3a"
             ],
             [
              0.8888888888888888,
              "#fdca26"
             ],
             [
              1,
              "#f0f921"
             ]
            ],
            "type": "histogram2dcontour"
           }
          ],
          "mesh3d": [
           {
            "colorbar": {
             "outlinewidth": 0,
             "ticks": ""
            },
            "type": "mesh3d"
           }
          ],
          "parcoords": [
           {
            "line": {
             "colorbar": {
              "outlinewidth": 0,
              "ticks": ""
             }
            },
            "type": "parcoords"
           }
          ],
          "pie": [
           {
            "automargin": true,
            "type": "pie"
           }
          ],
          "scatter": [
           {
            "marker": {
             "colorbar": {
              "outlinewidth": 0,
              "ticks": ""
             }
            },
            "type": "scatter"
           }
          ],
          "scatter3d": [
           {
            "line": {
             "colorbar": {
              "outlinewidth": 0,
              "ticks": ""
             }
            },
            "marker": {
             "colorbar": {
              "outlinewidth": 0,
              "ticks": ""
             }
            },
            "type": "scatter3d"
           }
          ],
          "scattercarpet": [
           {
            "marker": {
             "colorbar": {
              "outlinewidth": 0,
              "ticks": ""
             }
            },
            "type": "scattercarpet"
           }
          ],
          "scattergeo": [
           {
            "marker": {
             "colorbar": {
              "outlinewidth": 0,
              "ticks": ""
             }
            },
            "type": "scattergeo"
           }
          ],
          "scattergl": [
           {
            "marker": {
             "colorbar": {
              "outlinewidth": 0,
              "ticks": ""
             }
            },
            "type": "scattergl"
           }
          ],
          "scattermapbox": [
           {
            "marker": {
             "colorbar": {
              "outlinewidth": 0,
              "ticks": ""
             }
            },
            "type": "scattermapbox"
           }
          ],
          "scatterpolar": [
           {
            "marker": {
             "colorbar": {
              "outlinewidth": 0,
              "ticks": ""
             }
            },
            "type": "scatterpolar"
           }
          ],
          "scatterpolargl": [
           {
            "marker": {
             "colorbar": {
              "outlinewidth": 0,
              "ticks": ""
             }
            },
            "type": "scatterpolargl"
           }
          ],
          "scatterternary": [
           {
            "marker": {
             "colorbar": {
              "outlinewidth": 0,
              "ticks": ""
             }
            },
            "type": "scatterternary"
           }
          ],
          "surface": [
           {
            "colorbar": {
             "outlinewidth": 0,
             "ticks": ""
            },
            "colorscale": [
             [
              0,
              "#0d0887"
             ],
             [
              0.1111111111111111,
              "#46039f"
             ],
             [
              0.2222222222222222,
              "#7201a8"
             ],
             [
              0.3333333333333333,
              "#9c179e"
             ],
             [
              0.4444444444444444,
              "#bd3786"
             ],
             [
              0.5555555555555556,
              "#d8576b"
             ],
             [
              0.6666666666666666,
              "#ed7953"
             ],
             [
              0.7777777777777778,
              "#fb9f3a"
             ],
             [
              0.8888888888888888,
              "#fdca26"
             ],
             [
              1,
              "#f0f921"
             ]
            ],
            "type": "surface"
           }
          ],
          "table": [
           {
            "cells": {
             "fill": {
              "color": "#EBF0F8"
             },
             "line": {
              "color": "white"
             }
            },
            "header": {
             "fill": {
              "color": "#C8D4E3"
             },
             "line": {
              "color": "white"
             }
            },
            "type": "table"
           }
          ]
         },
         "layout": {
          "annotationdefaults": {
           "arrowcolor": "#2a3f5f",
           "arrowhead": 0,
           "arrowwidth": 1
          },
          "autotypenumbers": "strict",
          "coloraxis": {
           "colorbar": {
            "outlinewidth": 0,
            "ticks": ""
           }
          },
          "colorscale": {
           "diverging": [
            [
             0,
             "#8e0152"
            ],
            [
             0.1,
             "#c51b7d"
            ],
            [
             0.2,
             "#de77ae"
            ],
            [
             0.3,
             "#f1b6da"
            ],
            [
             0.4,
             "#fde0ef"
            ],
            [
             0.5,
             "#f7f7f7"
            ],
            [
             0.6,
             "#e6f5d0"
            ],
            [
             0.7,
             "#b8e186"
            ],
            [
             0.8,
             "#7fbc41"
            ],
            [
             0.9,
             "#4d9221"
            ],
            [
             1,
             "#276419"
            ]
           ],
           "sequential": [
            [
             0,
             "#0d0887"
            ],
            [
             0.1111111111111111,
             "#46039f"
            ],
            [
             0.2222222222222222,
             "#7201a8"
            ],
            [
             0.3333333333333333,
             "#9c179e"
            ],
            [
             0.4444444444444444,
             "#bd3786"
            ],
            [
             0.5555555555555556,
             "#d8576b"
            ],
            [
             0.6666666666666666,
             "#ed7953"
            ],
            [
             0.7777777777777778,
             "#fb9f3a"
            ],
            [
             0.8888888888888888,
             "#fdca26"
            ],
            [
             1,
             "#f0f921"
            ]
           ],
           "sequentialminus": [
            [
             0,
             "#0d0887"
            ],
            [
             0.1111111111111111,
             "#46039f"
            ],
            [
             0.2222222222222222,
             "#7201a8"
            ],
            [
             0.3333333333333333,
             "#9c179e"
            ],
            [
             0.4444444444444444,
             "#bd3786"
            ],
            [
             0.5555555555555556,
             "#d8576b"
            ],
            [
             0.6666666666666666,
             "#ed7953"
            ],
            [
             0.7777777777777778,
             "#fb9f3a"
            ],
            [
             0.8888888888888888,
             "#fdca26"
            ],
            [
             1,
             "#f0f921"
            ]
           ]
          },
          "colorway": [
           "#636efa",
           "#EF553B",
           "#00cc96",
           "#ab63fa",
           "#FFA15A",
           "#19d3f3",
           "#FF6692",
           "#B6E880",
           "#FF97FF",
           "#FECB52"
          ],
          "font": {
           "color": "#2a3f5f"
          },
          "geo": {
           "bgcolor": "white",
           "lakecolor": "white",
           "landcolor": "#E5ECF6",
           "showlakes": true,
           "showland": true,
           "subunitcolor": "white"
          },
          "hoverlabel": {
           "align": "left"
          },
          "hovermode": "closest",
          "mapbox": {
           "style": "light"
          },
          "paper_bgcolor": "white",
          "plot_bgcolor": "#E5ECF6",
          "polar": {
           "angularaxis": {
            "gridcolor": "white",
            "linecolor": "white",
            "ticks": ""
           },
           "bgcolor": "#E5ECF6",
           "radialaxis": {
            "gridcolor": "white",
            "linecolor": "white",
            "ticks": ""
           }
          },
          "scene": {
           "xaxis": {
            "backgroundcolor": "#E5ECF6",
            "gridcolor": "white",
            "gridwidth": 2,
            "linecolor": "white",
            "showbackground": true,
            "ticks": "",
            "zerolinecolor": "white"
           },
           "yaxis": {
            "backgroundcolor": "#E5ECF6",
            "gridcolor": "white",
            "gridwidth": 2,
            "linecolor": "white",
            "showbackground": true,
            "ticks": "",
            "zerolinecolor": "white"
           },
           "zaxis": {
            "backgroundcolor": "#E5ECF6",
            "gridcolor": "white",
            "gridwidth": 2,
            "linecolor": "white",
            "showbackground": true,
            "ticks": "",
            "zerolinecolor": "white"
           }
          },
          "shapedefaults": {
           "line": {
            "color": "#2a3f5f"
           }
          },
          "ternary": {
           "aaxis": {
            "gridcolor": "white",
            "linecolor": "white",
            "ticks": ""
           },
           "baxis": {
            "gridcolor": "white",
            "linecolor": "white",
            "ticks": ""
           },
           "bgcolor": "#E5ECF6",
           "caxis": {
            "gridcolor": "white",
            "linecolor": "white",
            "ticks": ""
           }
          },
          "title": {
           "x": 0.05
          },
          "xaxis": {
           "automargin": true,
           "gridcolor": "white",
           "linecolor": "white",
           "ticks": "",
           "title": {
            "standoff": 15
           },
           "zerolinecolor": "white",
           "zerolinewidth": 2
          },
          "yaxis": {
           "automargin": true,
           "gridcolor": "white",
           "linecolor": "white",
           "ticks": "",
           "title": {
            "standoff": 15
           },
           "zerolinecolor": "white",
           "zerolinewidth": 2
          }
         }
        },
        "title": {
         "font": {
          "color": "#4D5663"
         }
        },
        "xaxis": {
         "gridcolor": "#E1E5ED",
         "showgrid": true,
         "tickfont": {
          "color": "#4D5663"
         },
         "title": {
          "font": {
           "color": "#4D5663"
          },
          "text": ""
         },
         "zerolinecolor": "#E1E5ED"
        },
        "yaxis": {
         "gridcolor": "#E1E5ED",
         "showgrid": true,
         "tickfont": {
          "color": "#4D5663"
         },
         "title": {
          "font": {
           "color": "#4D5663"
          },
          "text": ""
         },
         "zerolinecolor": "#E1E5ED"
        }
       }
      },
      "text/html": [
       "<div>                            <div id=\"dcdb94f8-9078-4d42-8f37-0cac0c56aaf1\" class=\"plotly-graph-div\" style=\"height:525px; width:100%;\"></div>            <script type=\"text/javascript\">                require([\"plotly\"], function(Plotly) {                    window.PLOTLYENV=window.PLOTLYENV || {};\n",
       "                    window.PLOTLYENV.BASE_URL='https://plot.ly';                                    if (document.getElementById(\"dcdb94f8-9078-4d42-8f37-0cac0c56aaf1\")) {                    Plotly.newPlot(                        \"dcdb94f8-9078-4d42-8f37-0cac0c56aaf1\",                        [{\"line\": {\"color\": \"rgba(255, 153, 51, 1.0)\", \"dash\": \"solid\", \"shape\": \"linear\", \"width\": 1.3}, \"mode\": \"lines\", \"name\": \"jenis\", \"text\": \"\", \"type\": \"scatter\", \"x\": [0, 1, 2, 3, 4, 5, 6, 7, 8, 9, 10, 11, 12, 13, 14, 15, 16, 17, 18, 19, 20, 21, 22, 23, 24, 25, 26, 27, 28, 29, 30, 31, 32, 33, 34, 35, 36, 37, 38, 39, 40, 41, 42, 43, 44, 45, 46, 47, 48, 49, 50, 51, 52, 53, 54, 55, 56, 57, 58, 59, 60, 61, 62, 63, 64, 65, 66, 67, 68, 69, 70, 71, 72, 73, 74, 75, 76, 77, 78, 79, 80, 81, 82, 83, 84, 85, 86, 87, 88, 89, 90, 91, 92, 93, 94, 95, 96, 97, 98, 99, 100, 101, 102, 103, 104, 105, 106, 107, 108, 109, 110, 111, 112, 113, 114, 115, 116, 117, 118, 119, 120, 121, 122, 123, 124, 125, 126, 127, 128, 129, 130, 131, 132, 133, 134, 135, 136, 137, 138, 139, 140, 141, 142, 143, 144, 145, 146, 147, 148, 149, 150, 151, 152, 153, 154, 155, 156, 157, 158, 159, 160, 161, 162, 163, 164, 165, 166, 167, 168, 169, 170, 171, 172, 173, 174, 175, 176, 177, 178, 179, 180, 181, 182, 183, 184, 185, 186, 187, 188, 189, 190, 191, 192, 193, 194, 195, 196, 197, 198, 199, 200, 201, 202, 203, 204, 205, 206, 207, 208, 209, 210, 211, 212, 213, 214, 215, 216, 217, 218, 219, 220, 221, 222, 223, 224, 225, 226, 227, 228, 229, 230, 231, 232, 233, 234, 235, 236, 237, 238, 239, 240, 241, 242, 243, 244, 245, 246], \"y\": [\"BRT\", \"BRT\", \"BRT\", \"BRT\", \"BRT\", \"BRT\", \"BRT\", \"BRT\", \"BRT\", \"BRT\", \"BRT\", \"BRT\", \"BRT\", \"ANGKUTAN UMUM INTEGRASI\", \"ANGKUTAN UMUM INTEGRASI\", \"ANGKUTAN UMUM INTEGRASI\", \"ANGKUTAN UMUM INTEGRASI\", \"ANGKUTAN UMUM INTEGRASI\", \"ANGKUTAN UMUM INTEGRASI\", \"ANGKUTAN UMUM INTEGRASI\", \"ANGKUTAN UMUM INTEGRASI\", \"ANGKUTAN UMUM INTEGRASI\", \"ANGKUTAN UMUM INTEGRASI\", \"ANGKUTAN UMUM INTEGRASI\", \"ANGKUTAN UMUM INTEGRASI\", \"ANGKUTAN UMUM INTEGRASI\", \"ANGKUTAN UMUM INTEGRASI\", \"ANGKUTAN UMUM INTEGRASI\", \"ANGKUTAN UMUM INTEGRASI\", \"ANGKUTAN UMUM INTEGRASI\", \"ANGKUTAN UMUM INTEGRASI\", \"ANGKUTAN UMUM INTEGRASI\", \"ANGKUTAN UMUM INTEGRASI\", \"ANGKUTAN UMUM INTEGRASI\", \"ANGKUTAN UMUM INTEGRASI\", \"ANGKUTAN UMUM INTEGRASI\", \"ANGKUTAN UMUM INTEGRASI\", \"ANGKUTAN UMUM INTEGRASI\", \"ANGKUTAN UMUM INTEGRASI\", \"ANGKUTAN UMUM INTEGRASI\", \"ANGKUTAN UMUM INTEGRASI\", \"ANGKUTAN UMUM INTEGRASI\", \"ANGKUTAN UMUM INTEGRASI\", \"ANGKUTAN UMUM INTEGRASI\", \"ANGKUTAN UMUM INTEGRASI\", \"ANGKUTAN UMUM INTEGRASI\", \"ANGKUTAN UMUM INTEGRASI\", \"ANGKUTAN UMUM INTEGRASI\", \"ANGKUTAN UMUM INTEGRASI\", \"ANGKUTAN UMUM INTEGRASI\", \"ANGKUTAN UMUM INTEGRASI\", \"ANGKUTAN UMUM INTEGRASI\", \"ANGKUTAN UMUM INTEGRASI\", \"ANGKUTAN UMUM INTEGRASI\", \"ANGKUTAN UMUM INTEGRASI\", \"ANGKUTAN UMUM INTEGRASI\", \"ANGKUTAN UMUM INTEGRASI\", \"ANGKUTAN UMUM INTEGRASI\", \"ANGKUTAN UMUM INTEGRASI\", \"ANGKUTAN UMUM INTEGRASI\", \"ANGKUTAN UMUM INTEGRASI\", \"ANGKUTAN UMUM INTEGRASI\", \"ANGKUTAN UMUM INTEGRASI\", \"ANGKUTAN UMUM INTEGRASI\", \"ANGKUTAN UMUM INTEGRASI\", \"ANGKUTAN UMUM INTEGRASI\", \"ANGKUTAN UMUM INTEGRASI\", \"ANGKUTAN UMUM INTEGRASI\", \"ANGKUTAN UMUM INTEGRASI\", \"ANGKUTAN UMUM INTEGRASI\", \"ANGKUTAN UMUM INTEGRASI\", \"ANGKUTAN UMUM INTEGRASI\", \"ANGKUTAN UMUM INTEGRASI\", \"ANGKUTAN UMUM INTEGRASI\", \"ANGKUTAN UMUM INTEGRASI\", \"TRANSJABODETABEK\", \"TRANSJABODETABEK\", \"TRANSJABODETABEK\", \"TRANSJABODETABEK\", \"TRANSJABODETABEK\", \"TRANSJABODETABEK\", \"TRANSJABODETABEK\", \"TRANSJABODETABEK\", \"TRANSJABODETABEK\", \"TRANSJABODETABEK\", \"TRANSJABODETABEK\", \"TRANSJABODETABEK\", \"TRANSJABODETABEK\", \"TRANSJABODETABEK\", \"TRANSJABODETABEK\", \"TRANSJABODETABEK\", \"TRANSJABODETABEK\", \"TRANSJABODETABEK\", \"TRANSJABODETABEK\", \"TRANSJABODETABEK\", \"TRANSJABODETABEK\", \"TRANSJABODETABEK\", \"TRANSJABODETABEK\", \"TRANSJABODETABEK\", \"TRANSJABODETABEK\", \"TRANSJABODETABEK\", \"TRANSJABODETABEK\", \"TRANSPORTASI PETUGAS PACKING BANSOS\", \"TRANSPORTASI PETUGAS PACKING BANSOS\", \"TRANSPORTASI PETUGAS PACKING BANSOS\", \"LAYANAN TTMP BERBAYAR\", \"LAYANAN TTMP BERBAYAR\", \"LAYANAN TTMP BERBAYAR\", \"LAYANAN TTMP BERBAYAR\", \"LAYANAN TTMP BERBAYAR\", \"LAYANAN TTMP BERBAYAR\", \"LAYANAN TTMP BERBAYAR\", \"LAYANAN TTMP BERBAYAR\", \"LAYANAN TTMP BERBAYAR\", \"LAYANAN TTMP BERBAYAR\", \"LAYANAN TTMP BERBAYAR\", \"LAYANAN TTMP BERBAYAR\", \"LAYANAN TTMP BERBAYAR\", \"LAYANAN TTMP BERBAYAR\", \"LAYANAN TTMP BERBAYAR\", \"LAYANAN TTMP BERBAYAR\", \"LAYANAN TTMP BERBAYAR\", \"LAYANAN TTMP BERBAYAR\", \"LAYANAN TTMP BERBAYAR\", \"ANGKUTAN UMUM LAINNYA\", \"ANGKUTAN UMUM LAINNYA\", \"ANGKUTAN UMUM LAINNYA\", \"ANGKUTAN UMUM LAINNYA\", \"ANGKUTAN UMUM LAINNYA\", \"ANGKUTAN UMUM LAINNYA\", \"ANGKUTAN UMUM LAINNYA\", \"ANGKUTAN UMUM LAINNYA\", \"ANGKUTAN UMUM LAINNYA\", \"ANGKUTAN UMUM LAINNYA\", \"ANGKUTAN INTEGRASI BUS KECIL\", \"ANGKUTAN INTEGRASI BUS KECIL\", \"ANGKUTAN INTEGRASI BUS KECIL\", \"ANGKUTAN INTEGRASI BUS KECIL\", \"ANGKUTAN INTEGRASI BUS KECIL\", \"ANGKUTAN INTEGRASI BUS KECIL\", \"ANGKUTAN INTEGRASI BUS KECIL\", \"ANGKUTAN INTEGRASI BUS KECIL\", \"ANGKUTAN INTEGRASI BUS KECIL\", \"ANGKUTAN INTEGRASI BUS KECIL\", \"ANGKUTAN INTEGRASI BUS KECIL\", \"ANGKUTAN INTEGRASI BUS KECIL\", \"ANGKUTAN INTEGRASI BUS KECIL\", \"ANGKUTAN INTEGRASI BUS KECIL\", \"ANGKUTAN INTEGRASI BUS KECIL\", \"ANGKUTAN INTEGRASI BUS KECIL\", \"ANGKUTAN INTEGRASI BUS KECIL\", \"ANGKUTAN INTEGRASI BUS KECIL\", \"ANGKUTAN INTEGRASI BUS KECIL\", \"ANGKUTAN INTEGRASI BUS KECIL\", \"ANGKUTAN INTEGRASI BUS KECIL\", \"ANGKUTAN INTEGRASI BUS KECIL\", \"ANGKUTAN INTEGRASI BUS KECIL\", \"ANGKUTAN INTEGRASI BUS KECIL\", \"ANGKUTAN INTEGRASI BUS KECIL\", \"ANGKUTAN INTEGRASI BUS KECIL\", \"ANGKUTAN INTEGRASI BUS KECIL\", \"ANGKUTAN INTEGRASI BUS KECIL\", \"ANGKUTAN INTEGRASI BUS KECIL\", \"ANGKUTAN INTEGRASI BUS KECIL\", \"ANGKUTAN INTEGRASI BUS KECIL\", \"ANGKUTAN INTEGRASI BUS KECIL\", \"ANGKUTAN INTEGRASI BUS KECIL\", \"ANGKUTAN INTEGRASI BUS KECIL\", \"ANGKUTAN INTEGRASI BUS KECIL\", \"ANGKUTAN INTEGRASI BUS KECIL\", \"ANGKUTAN INTEGRASI BUS KECIL\", \"ANGKUTAN INTEGRASI BUS KECIL\", \"ANGKUTAN INTEGRASI BUS KECIL\", \"ANGKUTAN INTEGRASI BUS KECIL\", \"ANGKUTAN INTEGRASI BUS KECIL\", \"ANGKUTAN INTEGRASI BUS KECIL\", \"ANGKUTAN INTEGRASI BUS KECIL\", \"ANGKUTAN INTEGRASI BUS KECIL\", \"ANGKUTAN INTEGRASI BUS KECIL\", \"ANGKUTAN INTEGRASI BUS KECIL\", \"ANGKUTAN INTEGRASI BUS KECIL\", \"ANGKUTAN INTEGRASI BUS KECIL\", \"ANGKUTAN INTEGRASI BUS KECIL\", \"ANGKUTAN INTEGRASI BUS KECIL\", \"ANGKUTAN INTEGRASI BUS KECIL\", \"ANGKUTAN INTEGRASI BUS KECIL\", \"ANGKUTAN INTEGRASI BUS KECIL\", \"ANGKUTAN INTEGRASI BUS KECIL\", \"ANGKUTAN INTEGRASI BUS KECIL\", \"ANGKUTAN INTEGRASI BUS KECIL\", \"ANGKUTAN INTEGRASI BUS KECIL\", \"ANGKUTAN INTEGRASI BUS KECIL\", \"ANGKUTAN INTEGRASI BUS KECIL\", \"ANGKUTAN INTEGRASI BUS KECIL\", \"ANGKUTAN INTEGRASI BUS KECIL\", \"ANGKUTAN INTEGRASI BUS KECIL\", \"ANGKUTAN INTEGRASI BUS KECIL\", \"ANGKUTAN INTEGRASI BUS KECIL\", \"ANGKUTAN INTEGRASI BUS KECIL\", \"ANGKUTAN INTEGRASI BUS KECIL\", \"ANGKUTAN INTEGRASI BUS KECIL\", \"ANGKUTAN INTEGRASI BUS KECIL\", \"ANGKUTAN INTEGRASI BUS KECIL\", \"ANGKUTAN INTEGRASI BUS KECIL\", \"ANGKUTAN INTEGRASI BUS KECIL\", \"ANGKUTAN WISATA\", \"ANGKUTAN WISATA\", \"ANGKUTAN WISATA\", \"ANGKUTAN WISATA\", \"ANGKUTAN WISATA\", \"ANGKUTAN WISATA\", \"ANGKUTAN WISATA\", \"ANGKUTAN UMUM INTEGRASI RUSUN\", \"ANGKUTAN UMUM INTEGRASI RUSUN\", \"ANGKUTAN UMUM INTEGRASI RUSUN\", \"ANGKUTAN UMUM INTEGRASI RUSUN\", \"ANGKUTAN UMUM INTEGRASI RUSUN\", \"ANGKUTAN UMUM INTEGRASI RUSUN\", \"ANGKUTAN UMUM INTEGRASI RUSUN\", \"ANGKUTAN UMUM INTEGRASI RUSUN\", \"ANGKUTAN UMUM INTEGRASI RUSUN\", \"ANGKUTAN UMUM INTEGRASI RUSUN\", \"ANGKUTAN UMUM INTEGRASI RUSUN\", \"ANGKUTAN UMUM INTEGRASI RUSUN\", \"ANGKUTAN UMUM INTEGRASI RUSUN\", \"ANGKUTAN UMUM INTEGRASI RUSUN\", \"ANGKUTAN UMUM INTEGRASI RUSUN\", \"ANGKUTAN UMUM INTEGRASI RUSUN\", \"ANGKUTAN UMUM INTEGRASI RUSUN\", \"ANGKUTAN UMUM INTEGRASI RUSUN\", \"ANGKUTAN UMUM INTEGRASI RUSUN\", \"ANGKUTAN UMUM INTEGRASI RUSUN\", \"ANGKUTAN UMUM INTEGRASI RUSUN\", \"LAMPIRAN LAYANAN GRATIS BRT\", \"LAMPIRAN LAYANAN GRATIS BRT\", \"LAMPIRAN LAYANAN GRATIS BRT\", \"LAMPIRAN LAYANAN GRATIS BRT\", \"LAMPIRAN LAYANAN GRATIS BRT\", \"LAMPIRAN LAYANAN GRATIS BRT\", \"LAMPIRAN LAYANAN GRATIS BRT\", \"LAMPIRAN LAYANAN GRATIS BRT\", \"LAMPIRAN LAYANAN GRATIS BRT\", \"LAMPIRAN LAYANAN GRATIS BRT\", \"LAMPIRAN LAYANAN GRATIS BRT\", \"LAMPIRAN LAYANAN GRATIS BRT\", \"LAMPIRAN LAYANAN GRATIS BRT\", \"LAMPIRAN LAYANAN GRATIS BRT\"]}, {\"line\": {\"color\": \"rgba(55, 128, 191, 1.0)\", \"dash\": \"solid\", \"shape\": \"linear\", \"width\": 1.3}, \"mode\": \"lines\", \"name\": \"kode_trayek\", \"text\": \"\", \"type\": \"scatter\", \"x\": [0, 1, 2, 3, 4, 5, 6, 7, 8, 9, 10, 11, 12, 13, 14, 15, 16, 17, 18, 19, 20, 21, 22, 23, 24, 25, 26, 27, 28, 29, 30, 31, 32, 33, 34, 35, 36, 37, 38, 39, 40, 41, 42, 43, 44, 45, 46, 47, 48, 49, 50, 51, 52, 53, 54, 55, 56, 57, 58, 59, 60, 61, 62, 63, 64, 65, 66, 67, 68, 69, 70, 71, 72, 73, 74, 75, 76, 77, 78, 79, 80, 81, 82, 83, 84, 85, 86, 87, 88, 89, 90, 91, 92, 93, 94, 95, 96, 97, 98, 99, 100, 101, 102, 103, 104, 105, 106, 107, 108, 109, 110, 111, 112, 113, 114, 115, 116, 117, 118, 119, 120, 121, 122, 123, 124, 125, 126, 127, 128, 129, 130, 131, 132, 133, 134, 135, 136, 137, 138, 139, 140, 141, 142, 143, 144, 145, 146, 147, 148, 149, 150, 151, 152, 153, 154, 155, 156, 157, 158, 159, 160, 161, 162, 163, 164, 165, 166, 167, 168, 169, 170, 171, 172, 173, 174, 175, 176, 177, 178, 179, 180, 181, 182, 183, 184, 185, 186, 187, 188, 189, 190, 191, 192, 193, 194, 195, 196, 197, 198, 199, 200, 201, 202, 203, 204, 205, 206, 207, 208, 209, 210, 211, 212, 213, 214, 215, 216, 217, 218, 219, 220, 221, 222, 223, 224, 225, 226, 227, 228, 229, 230, 231, 232, 233, 234, 235, 236, 237, 238, 239, 240, 241, 242, 243, 244, 245, 246], \"y\": [\"1\", \"2\", \"3\", \"4\", \"5\", \"6\", \"7\", \"8\", \"9\", \"10\", \"11\", \"12\", \"13\", \"1A\", \"1B\", \"1F\", \"1C\", \"1E\", \"1H\", \"1M \", \"1N\", \"1P\", \"1Q\", \"1R\", \"1V\", \"3D\", \"3E\", \"4A\", \"4B\", \"4F\", \"DA1\", \"DA2\", \"DA3\", \"DA4\", \"5A\", \"5B\", \"5F\", \"6C\", \"6H\", \"6M\", \"6N\", \"6Q\", \"7A\", \"7B\", \"7D\", \"7E\", \"7N\", \"7P\", \"8C\", \"8D\", \"8E\", \"8K\", \"9D\", \"9E\", \"9H\", \"11A\", \"11D\", \"11Q\", \"11U\", \"12A\", \"12B\", \"12E\", \"12K\", \"MR1\", \"MR2\", \"MR3\", \"MR5\", \"MR8\", \"MR9\", \"10K\", \"10F\", \"6R\", \"5M\", \"5N\", \"ANGKUTAN UMUM INTEGRASI\", \"B11\", \"B12\", \"B21\", \"B22\", \"D11\", \"D21\", \"S11\", \"S21\", \"S22\", \"S41\", \"T11\", \"T12\", \"7C\", \"2B\", \"B13\", \"B14\", \"B23\", \"B24\", \"1K\", \"1T\", \"6P\", \"1U\", \"D31\", \"S31\", \"S12\", \"B15\", \"B16\", \"JURUSAN 1\", \"JURUSAN 2\", \"JURUSAN 3\", \"JURUSAN 4\", \"TRS1\", \"TRS2\", \"TRS3\", \"TRS4\", \"TRS5\", \"TRS6\", \"TRS7\", \"TRS8\", \"TRS9\", \"TRS10\", \"TRS11\", \"TRS12\", \"TRS13\", \"TRS14\", \"TRS15\", \"TRS16\", \"TRS17\", \"TRS18\", \"TRS19\", \"GR1\", \"GR2\", \"GR4\", \"GR5\", \"EV1\", \"TJC\", \"G1\", \"RJMT\", \"ANGKUTAN UMUM LAINNYA\", \"TR 1\", \"TR 2\", \"JAK-1\", \"JAK-2\", \"JAK-3\", \"JAK-4\", \"JAK-5\", \"JAK-6\", \"JAK-7\", \"JAK-8\", \"JAK-9\", \"JAK-10\", \"JAK-11\", \"JAK-12\", \"JAK-13\", \"JAK-14\", \"JAK-15\", \"JAK-16\", \"JAK-17\", \"JAK-18\", \"JAK-19\", \"JAK-20\", \"JAK-21\", \"JAK-22\", \"JAK-24\", \"JAK-25\", \"JAK-26\", \"JAK-27\", \"JAK-28\", \"JAK-29\", \"JAK-30\", \"JAK-31\", \"JAK-32\", \"JAK-33\", \"JAK-34\", \"JAK-35\", \"JAK-36\", \"JAK-37\", \"JAK-38\", \"JAK-39\", \"JAK-40\", \"JAK-41\", \"JAK-42\", \"JAK-43\", \"JAK-44\", \"JAK-45\", \"JAK-46\", \"JAK-47\", \"JAK-49\", \"JAK-50\", \"JAK-51\", \"JAK-52\", \"JAK-53\", \"JAK-54\", \"JAK-56\", \"JAK-58\", \"JAK-59\", \"JAK-60\", \"JAK-61\", \"JAK-64\", \"JAK-71\", \"JAK-72\", \"JAK-73\", \"JAK-74\", \"JAK-75\", \"JAK-77\", \"JAK-80\", \"JAK-84\", \"JAK-85\", \"JAK-112\", \"JAK-117\", \"BW1\", \"BW2\", \"BW4\", \"BW3\", \"BW5\", \"BW6\", \"BW7\", \"2E\", \"2F\", \"2H\", \"3A\", \"3B\", \"3C\", \"4E\", \"9F\", \"10A\", \"10B\", \"11B\", \"11C\", \"11K\", \"11M\", \"11N\", \"11P\", \"11R\", \"12C\", \"12D\", \"12F\", \"12H\", \"PNS\", \"TKD\", \"KJP\", \"KST\", \"RSN\", \"PAS\", \"PBS\", \"TNI\", \"VET\", \"KPD\", \"PLU\", \"MAR\", \"PAUD\", \"JMT\"]}, {\"line\": {\"color\": \"rgba(50, 171, 96, 1.0)\", \"dash\": \"solid\", \"shape\": \"linear\", \"width\": 1.3}, \"mode\": \"lines\", \"name\": \"trayek\", \"text\": \"\", \"type\": \"scatter\", \"x\": [0, 1, 2, 3, 4, 5, 6, 7, 8, 9, 10, 11, 12, 13, 14, 15, 16, 17, 18, 19, 20, 21, 22, 23, 24, 25, 26, 27, 28, 29, 30, 31, 32, 33, 34, 35, 36, 37, 38, 39, 40, 41, 42, 43, 44, 45, 46, 47, 48, 49, 50, 51, 52, 53, 54, 55, 56, 57, 58, 59, 60, 61, 62, 63, 64, 65, 66, 67, 68, 69, 70, 71, 72, 73, 74, 75, 76, 77, 78, 79, 80, 81, 82, 83, 84, 85, 86, 87, 88, 89, 90, 91, 92, 93, 94, 95, 96, 97, 98, 99, 100, 101, 102, 103, 104, 105, 106, 107, 108, 109, 110, 111, 112, 113, 114, 115, 116, 117, 118, 119, 120, 121, 122, 123, 124, 125, 126, 127, 128, 129, 130, 131, 132, 133, 134, 135, 136, 137, 138, 139, 140, 141, 142, 143, 144, 145, 146, 147, 148, 149, 150, 151, 152, 153, 154, 155, 156, 157, 158, 159, 160, 161, 162, 163, 164, 165, 166, 167, 168, 169, 170, 171, 172, 173, 174, 175, 176, 177, 178, 179, 180, 181, 182, 183, 184, 185, 186, 187, 188, 189, 190, 191, 192, 193, 194, 195, 196, 197, 198, 199, 200, 201, 202, 203, 204, 205, 206, 207, 208, 209, 210, 211, 212, 213, 214, 215, 216, 217, 218, 219, 220, 221, 222, 223, 224, 225, 226, 227, 228, 229, 230, 231, 232, 233, 234, 235, 236, 237, 238, 239, 240, 241, 242, 243, 244, 245, 246], \"y\": [\"KORIDOR 1 (BLOK M - KOTA)\", \"KORIDOR 2 (PULOGADUNG 1 - HARMONI)\", \"KORIDOR 3 (KALIDERES - PASAR BARU)\", \"KORIDOR 4 (PULOGADUNG 2 - DUKUH ATAS 2)\", \"KORIDOR 5 (KAMPUNG MELAYU - ANCOL)\", \"KORIDOR 6 (RAGUNAN - DUKUH ATAS 2)\", \"KORIDOR 7 (KAMPUNG RAMBUTAN - KAMPUNG MELAYU)\", \"KORIDOR 8 (LEBAK BULUS - HARMONI)\", \"KORIDOR 9 (PINANG RANTI - PLUIT)\", \"KORIDOR 10 (PGC 2 - PLUIT)\", \"KORIDOR 11 (PULOGEBANG - KAMPUNG MELAYU)\", \"KORIDOR 12 (PENJARINGAN - TANJUNG PRIOK)\", \"KORIDOR 13 (CBD CILEDUG - BLOK M)\", \"PIK - BALAIKOTA\", \"STASIUN PALMERAH - TOSARI\", \"STASIUN PALMERAH - BUNDARAN SENAYAN\", \"PESANGGRAHAN - BLOK M\", \"PONDOK LABU - BLOK M\", \"STASIUN TANAH ABANG - STASIUN GONDANGDIA\", \"BLOK M - MERUYA\", \"TANAH ABANG - BLOK M\", \"SENEN - BUNDERAN SENAYAN\", \"REMPOA - BLOK M\", \"STASIUN PASAR SENEN - STASIUN TANAH ABANG\", \"LEBAK BULUS - HOTEL INDONESIA\", \"PENJARINGAN - RAWA BUAYA\", \"SENTRALAND CENGKARENG - PURI KEMBANGAN\", \"TU GAS - GROGOL 2\", \"STASIUN MANGGARAI - UI\", \"PONDOK GEDE - PULOGADUNG 2\", \"DUKUH ATAS - SAM RATULANGI\", \"DUKUH ATAS - TANAH ABANG\", \"DUKUH ATAS - KUNINGAN\", \"DUKUH ATAS - KOTA\", \"KAMPUNG MELAYU - GROGOL 1\", \"STASIUN TEBET - BIDARA CINA\", \"KAMPUNG MELAYU - TANAH ABANG\", \"STASIUN TEBET - KARET VIA PATRA KUNINGAN\", \"LEBAK BULUS - STASIUN SENEN\", \"BLOK M - STASIUN MANGGARAI\", \"RAGUNAN - BLOK M VIA KEMANG\", \"EPICENTRUM - CASABLANCA\", \"KAMPUNG RAMBUTAN - LEBAK BULUS\", \"KAMPUNG RAMBUTAN - BLOK M\", \"PANCORAN - TMII\", \"KAMPUNG RAMBUTAN - RAGUNAN\", \"GANDARIA - KAMPUNG RAMBUTAN\", \"PONDOK KELAPA - BKN\", \"KEBAYORAN LAMA - TANAH ABANG\", \"JOGLO - BLOK M\", \"BINTARO - BLOK M\", \"BATUSARI - TANAH ABANG\", \"PASAR MINGGU - TANAH ABANG\", \"KEBAYORAN LAMA - GROGOL 2\", \"CIPEDAK - BLOK M\", \"PULO GEBANG - RAWAMANGUN\", \"PULOGEBANG - PULOGADUNG 2 VIA PIK\", \"KAMPUNG MELAYU - PULOGEBANG VIA BKT\", \"PULOGEBANG - STASIUN CAKUNG VIA CILINCING\", \"PELABUHAN KALIADEM - KOTA\", \"PLUIT - STASIUN SENEN\", \"HISTORY OF JAKARTA EXPLORER\", \"ASEMKA EXPLORER\", \"CSW - PAKUBUWONO\", \"CSW - KRAMAT PELA\", \"CSW - WIJAYA\", \"STASIUN MRT BLOK A - RADIO DALAM\", \"CIPETE - ANTASARI\", \"SOUTH QUARTER - LEBAK BULUS\", \"SENIN - TANJUNG PRIOK\", \"LRT PEGANGSAAN - KELAPA GADING\", \"RAGUNAN - FATMAWATI\", \"KAMPUNG MELAYU - TANAH ABANG VIA CIKINI\", \"KAMPUNG MELAYU - RAGUNAN\", \"HCB - BUNSEN\", \"SUMMARECON BEKASI - TOSARI\", \"SUMMARECON BEKASI - TANJUNG PRIOK\", \"BEKASI TIMUR - GROGOL 2\", \"BEKASI TIMUR - JUANDA\", \"DEPOK - BKN\", \"UI - LEBAK BULUS\", \"BSD - GROGOL 2\", \"CIPUTAT - TOSARI\", \"CIPUTAT - KAMPUNG RAMBUTAN\", \"PONDOK CABE - TANAH ABANG\", \"PORIS PLAWAD - BUNDARAN SENAYAN\", \"PORIS PLAWAD - JUANDA\", \"CIBUBUR - BKN\", \"HARAPAN INDAH - ASMI\", \"BEKASI BARAT - BLOK M\", \"BEKASI BARAT - KUNINGAN\", \"BEKASI TIMUR - TEBET\", \"BEKASI TIMUR - KALIDERES\", \"CIBUBUR JUNCTION - BLOK M\", \"CIBUBUR - KOTA\", \"CIBUBUR - KUNINGAN\", \"TAMAN MINI - BALAI KOTA\", \"CINERE - KUNINGAN\", \"BINTARO - BLOK M VIA JORR\", \"BSD - MRT FATMAWATI\", \"JATI BENING - BLOK M\", \"JATI BENING - KUNINGAN\", \"JIEP - PASAR TANAH ABANG\", \"JIEP - PASAR CIPULIR\", \"JIEP - PASAR GLODOK\", \"JIEP - PASAR SENEN\", \"KALIDERES - JUANDA\", \"PORIS - BLOK.M\", \"BSD - BLOK.M\", \"CIBUBUR - BLOK.M\", \"DEPOK - KP.MELAYU\", \"BOTANI - SENEN\", \"BULAK KAPAL -BLOK.M\", \"BEKASI TIMUR - PUSKESMAS SETIABUDI\", \"BINTARO - BLOK.M\", \"TERMINAL CILEUNGSI - TANJUNG PRIOK\", \"PORIS PLAWAD - RSUD PS.REBO\", \"BOTANI - RSUD PS.MINGGU\", \"BULAK KAPAL - RSUD TAMAN SARI\", \"BULAK KAPAL - SENEN\", \"BEKASI SELATAN - RSUD KEMAYORAN\", \"PORIS PLAWAD - RS.PIK\", \"BEKASI SELATAN - RSU KALIDERES\", \"BEKASI SELATAN - RSUD TEBET\", \"DEPOK - RSUD PS.MINGGU\", \"BUNDARAN SENAYAN - HARMONI (BUS GRATIS)\", \"TANAH ABANG EXPLORER\", \"KOTA - MUSEUM BAHARI\", \"KOTA EXPLORER\", \"BLOK M - BALAI KOTA\", \"TRANSJAKARTA CARES\", \"GRATIS GATE NON BRT\", \"ROMBONGAN RT/RW JUMANTIK\", \"TRANSPORTASI TENAGA MEDIS DAN PARAMEDIS (GRATIS)\", \"GONDANGDIA - SENEN\", \"GONDANGDIA - BALAI KOTA\", \"TANJUNG PRIOK - PLUMPANG\", \"KAMPUNG MELAYU - DUREN SAWIT\", \"LEBAK BULUS - PONDOK LABU\", \"GROGOL - JEMBATAN DUA\", \"SEMPER - ROROTAN\", \"KAMPUNG RAMBUTAN - PONDOK GEDE\", \"TANAH ABANG - TAWAKAL\", \"ROXY - BENDUNGAN HILIR\", \"ROXY KARET\", \"TANAH ABANG-KOTA\", \"TANAH ABANG-KEBAYORAN LAMA\", \"TANAH ABANG- KAMPUNG BARU KEBAYORAN\", \"TANAH ABANG - KOTA INTAN \", \"TANAH ABANG-MERUYA\", \"TANJUNG PRIOK - BULAK TURI\", \"PGC - CONDET\", \"PULOGADUNG - SENEN\", \"STASIUN KALIBATA - KUNINGAN\", \"PINANG RANTI - SETU\", \"LUBANG BUAYA - CAWANG UKI\", \"DWIKORA - CILILITAN\", \"PENAS KALIMALANG - DWIKORA\", \"SENEN - PULOGADUNG VIA KELAPA GADING\", \"PASAR REBO - KALISARI\", \"RAWAMANGUN - DUREN SAWIT\", \"PULOGEBANG - ROROTAN\", \"PASAR REBO - TAMAN WILADATIKA\", \"TANJUNG PRIOK - KELAPA GADING\", \"MERUYA - CITRALAND\", \"PONDOK LABU - BLOK M\", \"PETUKANGAN - LEBAK BULUS\", \"PULO GADUNG - KOTA\", \"RAWAMANGUN - KLENDER\", \"RAWAMANGUN - PANGKALAN JATI\", \"CILANGKAP - CILILITAN\", \"CILILITAN - CONDET VIA KAYU MANIS\", \"BULAK RINGIN - KAMPUNG RAMBUTAN\", \"DUREN SAWIT - KALIMALANG\", \"PULOGEBANG - TAMAN HARAPAN BARU\", \"KAMPUNG MELAYU - PULOGEBANG\", \"PONDOK KELAPA - KAMPUNG MELAYU\", \"TONGTEK - CILILTAN\", \"ANDARA - LENTENG AGUNG\", \"LEBAK BULUS - RAGUNAN\", \"KAMPUNG MELAYU - RAGUNAN\", \"PASAR MINGGU - CIGANJUR\", \"LEBAK BULUS - CIPULIR\", \"KALIDERES - PURI KEMBANGAN\", \"TAMAN KOTA - BUDI LUHUR\", \"KALIDERES - ANGKE\", \"GROGOL - PENGUMBEN\", \"GROGOL - BENHIL\", \"GROGOL - SRENGSENG\", \"CILINCING - ROROTAN\", \"RAWASENGON - RAWAMANGUN\", \"KELAPA GADING - RUSUN KEMAYORAN\", \"PULOGADUNG - CEMPAKA PUTIH\", \"LENTENG AGUNG - ASELI\", \"KAMPUNG RAMBUTAN - PINANG RANTI\", \"KAMPUNG RAMBUTAN - PASAR REBO VIA PONCOL\", \"CIBUBUR - JAMBORE\", \"RAWAMANGUN - CIPINANG\", \"CILILITAN - KAMPUNG PULO\", \"TANJUNG PRIOK - JEMBATAN HITAM\", \"RAWA BUAYA - RAWA KOMPENI\", \"KAMPUNG MELAYU - KAPIN RAYA\", \"BINTARA - CIPINANG INDAH\", \"TANAH MERAH - PULOGADUNG\", \"TANJUNG PRIOK - TANAH MERDEKA\", \"SEJARAH JAKARTA\", \"JAKARTA MODERN\", \"PENCAKAR LANGIT\", \"KESENIAN DAN KULINER\", \"WISATA KALIJODO\", \"MAKAM MBAH PRIUK\", \"JAKARTA BELANJA\", \"RUSUN RAWA BEBEK - PAKIN\", \"RUSUN CAKUNG BARAT (ALBO) - PULO GADUNG 1\", \"RUSUN JATI RAWASARI - SENEN\", \"RUSUN PESAKIH - KALIDERES\", \"RUSUN FLAMBOYAN - KALIDERES\", \"RUSUN KAPUK MUARA - PENJARINGAN\", \"RUSUN JATINEGARA KAUM - PULO GADUNG 2\", \"RUSUN TAMBORA - PLUIT\", \"RUSUN MARUNDA - TANJUNG PRIOK\", \"RUSUN CIPINANG BESAR SELATAN - PENAS KALIMALANG\", \"RUSUN RAWA BEBEK - PENGGILINGAN\", \"RUSUN PINUS ELOK - RUSUN PULO GEBANG\", \"RUSUN KOMARUDIN - PENGGILINGAN\", \"RUSUN RAWA BEBEK - BUKIT DURI\", \"RUSUN CIPINANG MUARA - JATINEGARA\", \"RUSUN PONDOK BAMBU - WALIKOTA JAKARTA TIMUR\", \"RUSUN CAKUNG KM 2 - BUKIT DURI\", \"RUSUN WADUK PLUIT- PENJARINGAN\", \"RUSUN SUKAPURA - SUNTER (VIA KELAPA GADING)\", \"RUSUN MARUNDA - RUSUN WADUK PLUIT\", \"RUSUN PENJARINGAN - PENJARINGAN\", \"GRATIS PNS DKI DAN PENSIUNAN PNS\", \"GRATIS TENAGA KONTRAK DKI\", \"GRATIS PENERIMA KJP\", \"GRATIS KARYAWAN SWASTA TERTENTU\", \"GRATIS PENGHUNI RUMAH SUSUN\", \"GRATIS KTP KEPULAUAN SERIBU\", \"GRATIS PENERIMA RASKIN\", \"GRATIS TNI/POLRI\", \"GRATIS VETERAN\", \"GRATIS PENYANDANG DISABILITAS\", \"GRATIS LANSIA\", \"GRATIS MARBOT\", \"GRATIS PAUD\", \"GRATIS JUMANTIK\"]}, {\"line\": {\"color\": \"rgba(128, 0, 128, 1.0)\", \"dash\": \"solid\", \"shape\": \"linear\", \"width\": 1.3}, \"mode\": \"lines\", \"name\": \"jumlah_penumpang\", \"text\": \"\", \"type\": \"scatter\", \"x\": [0, 1, 2, 3, 4, 5, 6, 7, 8, 9, 10, 11, 12, 13, 14, 15, 16, 17, 18, 19, 20, 21, 22, 23, 24, 25, 26, 27, 28, 29, 30, 31, 32, 33, 34, 35, 36, 37, 38, 39, 40, 41, 42, 43, 44, 45, 46, 47, 48, 49, 50, 51, 52, 53, 54, 55, 56, 57, 58, 59, 60, 61, 62, 63, 64, 65, 66, 67, 68, 69, 70, 71, 72, 73, 74, 75, 76, 77, 78, 79, 80, 81, 82, 83, 84, 85, 86, 87, 88, 89, 90, 91, 92, 93, 94, 95, 96, 97, 98, 99, 100, 101, 102, 103, 104, 105, 106, 107, 108, 109, 110, 111, 112, 113, 114, 115, 116, 117, 118, 119, 120, 121, 122, 123, 124, 125, 126, 127, 128, 129, 130, 131, 132, 133, 134, 135, 136, 137, 138, 139, 140, 141, 142, 143, 144, 145, 146, 147, 148, 149, 150, 151, 152, 153, 154, 155, 156, 157, 158, 159, 160, 161, 162, 163, 164, 165, 166, 167, 168, 169, 170, 171, 172, 173, 174, 175, 176, 177, 178, 179, 180, 181, 182, 183, 184, 185, 186, 187, 188, 189, 190, 191, 192, 193, 194, 195, 196, 197, 198, 199, 200, 201, 202, 203, 204, 205, 206, 207, 208, 209, 210, 211, 212, 213, 214, 215, 216, 217, 218, 219, 220, 221, 222, 223, 224, 225, 226, 227, 228, 229, 230, 231, 232, 233, 234, 235, 236, 237, 238, 239, 240, 241, 242, 243, 244, 245, 246], \"y\": [872507, 359703, 478685, 273383, 444222, 363628, 460311, 460608, 697985, 351832, 146679, 147990, 305141, 59205, 23236, 1101, 6594, 68277, 38234, 33991, 2771, 2103, 32231, 11635, 0, 0, 6038, 0, 26325, 23412, 0, 0, 0, 0, 0, 2550, 7380, 80548, 3629, 23013, 0, 0, 40565, 70491, 6126, 0, 0, 21801, 3023, 38665, 5004, 0, 63633, 13272, 0, 0, 60315, 380, 0, 0, 0, 0, 0, 0, 0, 0, 0, 0, 0, 47746, 0, 764, 70809, 0, 0, 0, 0, 0, 0, 0, 38501, 0, 0, 0, 0, 0, 0, 21250, 0, 0, 0, 0, 0, 3112, 0, 4131, 0, 0, 133, 196, 0, 0, 1765, 42, 658, 0, 0, 0, 0, 0, 1324, 0, 0, 0, 0, 0, 0, 0, 1022, 0, 215, 0, 0, 0, 0, 0, 0, 0, 0, 0, 1044, 0, 0, 7534, 1512, 2790, 53706, 39771, 30729, 46043, 64161, 69906, 40219, 22872, 22632, 63067, 61687, 56739, 6623, 78833, 95946, 54426, 35103, 26904, 105336, 57217, 60594, 24199, 69461, 51883, 40085, 42248, 55564, 98273, 132565, 57140, 84724, 41943, 65889, 26618, 81340, 51810, 39970, 50859, 39570, 17604, 39806, 51957, 49892, 47032, 45394, 38289, 35264, 54152, 96888, 34780, 12522, 25586, 42939, 89623, 84682, 73305, 32663, 37552, 58112, 71319, 63473, 38119, 44548, 49612, 53036, 18655, 12377, 47557, 63419, 0, 0, 0, 0, 0, 0, 0, 0, 7536, 0, 3092, 0, 0, 0, 0, 0, 0, 6495, 8165, 2962, 0, 0, 0, 0, 0, 0, 0, 0, 16539, 12778, 11424, 8093, 13951, 164, 1481, 161, 20, 6005, 157095, 0, 5590, 6707]}],                        {\"legend\": {\"bgcolor\": \"#F5F6F9\", \"font\": {\"color\": \"#4D5663\"}}, \"paper_bgcolor\": \"#F5F6F9\", \"plot_bgcolor\": \"#F5F6F9\", \"template\": {\"data\": {\"bar\": [{\"error_x\": {\"color\": \"#2a3f5f\"}, \"error_y\": {\"color\": \"#2a3f5f\"}, \"marker\": {\"line\": {\"color\": \"#E5ECF6\", \"width\": 0.5}}, \"type\": \"bar\"}], \"barpolar\": [{\"marker\": {\"line\": {\"color\": \"#E5ECF6\", \"width\": 0.5}}, \"type\": \"barpolar\"}], \"carpet\": [{\"aaxis\": {\"endlinecolor\": \"#2a3f5f\", \"gridcolor\": \"white\", \"linecolor\": \"white\", \"minorgridcolor\": \"white\", \"startlinecolor\": \"#2a3f5f\"}, \"baxis\": {\"endlinecolor\": \"#2a3f5f\", \"gridcolor\": \"white\", \"linecolor\": \"white\", \"minorgridcolor\": \"white\", \"startlinecolor\": \"#2a3f5f\"}, \"type\": \"carpet\"}], \"choropleth\": [{\"colorbar\": {\"outlinewidth\": 0, \"ticks\": \"\"}, \"type\": \"choropleth\"}], \"contour\": [{\"colorbar\": {\"outlinewidth\": 0, \"ticks\": \"\"}, \"colorscale\": [[0.0, \"#0d0887\"], [0.1111111111111111, \"#46039f\"], [0.2222222222222222, \"#7201a8\"], [0.3333333333333333, \"#9c179e\"], [0.4444444444444444, \"#bd3786\"], [0.5555555555555556, \"#d8576b\"], [0.6666666666666666, \"#ed7953\"], [0.7777777777777778, \"#fb9f3a\"], [0.8888888888888888, \"#fdca26\"], [1.0, \"#f0f921\"]], \"type\": \"contour\"}], \"contourcarpet\": [{\"colorbar\": {\"outlinewidth\": 0, \"ticks\": \"\"}, \"type\": \"contourcarpet\"}], \"heatmap\": [{\"colorbar\": {\"outlinewidth\": 0, \"ticks\": \"\"}, \"colorscale\": [[0.0, \"#0d0887\"], [0.1111111111111111, \"#46039f\"], [0.2222222222222222, \"#7201a8\"], [0.3333333333333333, \"#9c179e\"], [0.4444444444444444, \"#bd3786\"], [0.5555555555555556, \"#d8576b\"], [0.6666666666666666, \"#ed7953\"], [0.7777777777777778, \"#fb9f3a\"], [0.8888888888888888, \"#fdca26\"], [1.0, \"#f0f921\"]], \"type\": \"heatmap\"}], \"heatmapgl\": [{\"colorbar\": {\"outlinewidth\": 0, \"ticks\": \"\"}, \"colorscale\": [[0.0, \"#0d0887\"], [0.1111111111111111, \"#46039f\"], [0.2222222222222222, \"#7201a8\"], [0.3333333333333333, \"#9c179e\"], [0.4444444444444444, \"#bd3786\"], [0.5555555555555556, \"#d8576b\"], [0.6666666666666666, \"#ed7953\"], [0.7777777777777778, \"#fb9f3a\"], [0.8888888888888888, \"#fdca26\"], [1.0, \"#f0f921\"]], \"type\": \"heatmapgl\"}], \"histogram\": [{\"marker\": {\"colorbar\": {\"outlinewidth\": 0, \"ticks\": \"\"}}, \"type\": \"histogram\"}], \"histogram2d\": [{\"colorbar\": {\"outlinewidth\": 0, \"ticks\": \"\"}, \"colorscale\": [[0.0, \"#0d0887\"], [0.1111111111111111, \"#46039f\"], [0.2222222222222222, \"#7201a8\"], [0.3333333333333333, \"#9c179e\"], [0.4444444444444444, \"#bd3786\"], [0.5555555555555556, \"#d8576b\"], [0.6666666666666666, \"#ed7953\"], [0.7777777777777778, \"#fb9f3a\"], [0.8888888888888888, \"#fdca26\"], [1.0, \"#f0f921\"]], \"type\": \"histogram2d\"}], \"histogram2dcontour\": [{\"colorbar\": {\"outlinewidth\": 0, \"ticks\": \"\"}, \"colorscale\": [[0.0, \"#0d0887\"], [0.1111111111111111, \"#46039f\"], [0.2222222222222222, \"#7201a8\"], [0.3333333333333333, \"#9c179e\"], [0.4444444444444444, \"#bd3786\"], [0.5555555555555556, \"#d8576b\"], [0.6666666666666666, \"#ed7953\"], [0.7777777777777778, \"#fb9f3a\"], [0.8888888888888888, \"#fdca26\"], [1.0, \"#f0f921\"]], \"type\": \"histogram2dcontour\"}], \"mesh3d\": [{\"colorbar\": {\"outlinewidth\": 0, \"ticks\": \"\"}, \"type\": \"mesh3d\"}], \"parcoords\": [{\"line\": {\"colorbar\": {\"outlinewidth\": 0, \"ticks\": \"\"}}, \"type\": \"parcoords\"}], \"pie\": [{\"automargin\": true, \"type\": \"pie\"}], \"scatter\": [{\"marker\": {\"colorbar\": {\"outlinewidth\": 0, \"ticks\": \"\"}}, \"type\": \"scatter\"}], \"scatter3d\": [{\"line\": {\"colorbar\": {\"outlinewidth\": 0, \"ticks\": \"\"}}, \"marker\": {\"colorbar\": {\"outlinewidth\": 0, \"ticks\": \"\"}}, \"type\": \"scatter3d\"}], \"scattercarpet\": [{\"marker\": {\"colorbar\": {\"outlinewidth\": 0, \"ticks\": \"\"}}, \"type\": \"scattercarpet\"}], \"scattergeo\": [{\"marker\": {\"colorbar\": {\"outlinewidth\": 0, \"ticks\": \"\"}}, \"type\": \"scattergeo\"}], \"scattergl\": [{\"marker\": {\"colorbar\": {\"outlinewidth\": 0, \"ticks\": \"\"}}, \"type\": \"scattergl\"}], \"scattermapbox\": [{\"marker\": {\"colorbar\": {\"outlinewidth\": 0, \"ticks\": \"\"}}, \"type\": \"scattermapbox\"}], \"scatterpolar\": [{\"marker\": {\"colorbar\": {\"outlinewidth\": 0, \"ticks\": \"\"}}, \"type\": \"scatterpolar\"}], \"scatterpolargl\": [{\"marker\": {\"colorbar\": {\"outlinewidth\": 0, \"ticks\": \"\"}}, \"type\": \"scatterpolargl\"}], \"scatterternary\": [{\"marker\": {\"colorbar\": {\"outlinewidth\": 0, \"ticks\": \"\"}}, \"type\": \"scatterternary\"}], \"surface\": [{\"colorbar\": {\"outlinewidth\": 0, \"ticks\": \"\"}, \"colorscale\": [[0.0, \"#0d0887\"], [0.1111111111111111, \"#46039f\"], [0.2222222222222222, \"#7201a8\"], [0.3333333333333333, \"#9c179e\"], [0.4444444444444444, \"#bd3786\"], [0.5555555555555556, \"#d8576b\"], [0.6666666666666666, \"#ed7953\"], [0.7777777777777778, \"#fb9f3a\"], [0.8888888888888888, \"#fdca26\"], [1.0, \"#f0f921\"]], \"type\": \"surface\"}], \"table\": [{\"cells\": {\"fill\": {\"color\": \"#EBF0F8\"}, \"line\": {\"color\": \"white\"}}, \"header\": {\"fill\": {\"color\": \"#C8D4E3\"}, \"line\": {\"color\": \"white\"}}, \"type\": \"table\"}]}, \"layout\": {\"annotationdefaults\": {\"arrowcolor\": \"#2a3f5f\", \"arrowhead\": 0, \"arrowwidth\": 1}, \"autotypenumbers\": \"strict\", \"coloraxis\": {\"colorbar\": {\"outlinewidth\": 0, \"ticks\": \"\"}}, \"colorscale\": {\"diverging\": [[0, \"#8e0152\"], [0.1, \"#c51b7d\"], [0.2, \"#de77ae\"], [0.3, \"#f1b6da\"], [0.4, \"#fde0ef\"], [0.5, \"#f7f7f7\"], [0.6, \"#e6f5d0\"], [0.7, \"#b8e186\"], [0.8, \"#7fbc41\"], [0.9, \"#4d9221\"], [1, \"#276419\"]], \"sequential\": [[0.0, \"#0d0887\"], [0.1111111111111111, \"#46039f\"], [0.2222222222222222, \"#7201a8\"], [0.3333333333333333, \"#9c179e\"], [0.4444444444444444, \"#bd3786\"], [0.5555555555555556, \"#d8576b\"], [0.6666666666666666, \"#ed7953\"], [0.7777777777777778, \"#fb9f3a\"], [0.8888888888888888, \"#fdca26\"], [1.0, \"#f0f921\"]], \"sequentialminus\": [[0.0, \"#0d0887\"], [0.1111111111111111, \"#46039f\"], [0.2222222222222222, \"#7201a8\"], [0.3333333333333333, \"#9c179e\"], [0.4444444444444444, \"#bd3786\"], [0.5555555555555556, \"#d8576b\"], [0.6666666666666666, \"#ed7953\"], [0.7777777777777778, \"#fb9f3a\"], [0.8888888888888888, \"#fdca26\"], [1.0, \"#f0f921\"]]}, \"colorway\": [\"#636efa\", \"#EF553B\", \"#00cc96\", \"#ab63fa\", \"#FFA15A\", \"#19d3f3\", \"#FF6692\", \"#B6E880\", \"#FF97FF\", \"#FECB52\"], \"font\": {\"color\": \"#2a3f5f\"}, \"geo\": {\"bgcolor\": \"white\", \"lakecolor\": \"white\", \"landcolor\": \"#E5ECF6\", \"showlakes\": true, \"showland\": true, \"subunitcolor\": \"white\"}, \"hoverlabel\": {\"align\": \"left\"}, \"hovermode\": \"closest\", \"mapbox\": {\"style\": \"light\"}, \"paper_bgcolor\": \"white\", \"plot_bgcolor\": \"#E5ECF6\", \"polar\": {\"angularaxis\": {\"gridcolor\": \"white\", \"linecolor\": \"white\", \"ticks\": \"\"}, \"bgcolor\": \"#E5ECF6\", \"radialaxis\": {\"gridcolor\": \"white\", \"linecolor\": \"white\", \"ticks\": \"\"}}, \"scene\": {\"xaxis\": {\"backgroundcolor\": \"#E5ECF6\", \"gridcolor\": \"white\", \"gridwidth\": 2, \"linecolor\": \"white\", \"showbackground\": true, \"ticks\": \"\", \"zerolinecolor\": \"white\"}, \"yaxis\": {\"backgroundcolor\": \"#E5ECF6\", \"gridcolor\": \"white\", \"gridwidth\": 2, \"linecolor\": \"white\", \"showbackground\": true, \"ticks\": \"\", \"zerolinecolor\": \"white\"}, \"zaxis\": {\"backgroundcolor\": \"#E5ECF6\", \"gridcolor\": \"white\", \"gridwidth\": 2, \"linecolor\": \"white\", \"showbackground\": true, \"ticks\": \"\", \"zerolinecolor\": \"white\"}}, \"shapedefaults\": {\"line\": {\"color\": \"#2a3f5f\"}}, \"ternary\": {\"aaxis\": {\"gridcolor\": \"white\", \"linecolor\": \"white\", \"ticks\": \"\"}, \"baxis\": {\"gridcolor\": \"white\", \"linecolor\": \"white\", \"ticks\": \"\"}, \"bgcolor\": \"#E5ECF6\", \"caxis\": {\"gridcolor\": \"white\", \"linecolor\": \"white\", \"ticks\": \"\"}}, \"title\": {\"x\": 0.05}, \"xaxis\": {\"automargin\": true, \"gridcolor\": \"white\", \"linecolor\": \"white\", \"ticks\": \"\", \"title\": {\"standoff\": 15}, \"zerolinecolor\": \"white\", \"zerolinewidth\": 2}, \"yaxis\": {\"automargin\": true, \"gridcolor\": \"white\", \"linecolor\": \"white\", \"ticks\": \"\", \"title\": {\"standoff\": 15}, \"zerolinecolor\": \"white\", \"zerolinewidth\": 2}}}, \"title\": {\"font\": {\"color\": \"#4D5663\"}}, \"xaxis\": {\"gridcolor\": \"#E1E5ED\", \"showgrid\": true, \"tickfont\": {\"color\": \"#4D5663\"}, \"title\": {\"font\": {\"color\": \"#4D5663\"}, \"text\": \"\"}, \"zerolinecolor\": \"#E1E5ED\"}, \"yaxis\": {\"gridcolor\": \"#E1E5ED\", \"showgrid\": true, \"tickfont\": {\"color\": \"#4D5663\"}, \"title\": {\"font\": {\"color\": \"#4D5663\"}, \"text\": \"\"}, \"zerolinecolor\": \"#E1E5ED\"}},                        {\"showLink\": true, \"linkText\": \"Export to plot.ly\", \"plotlyServerURL\": \"https://plot.ly\", \"responsive\": true}                    ).then(function(){\n",
       "                            \n",
       "var gd = document.getElementById('dcdb94f8-9078-4d42-8f37-0cac0c56aaf1');\n",
       "var x = new MutationObserver(function (mutations, observer) {{\n",
       "        var display = window.getComputedStyle(gd).display;\n",
       "        if (!display || display === 'none') {{\n",
       "            console.log([gd, 'removed!']);\n",
       "            Plotly.purge(gd);\n",
       "            observer.disconnect();\n",
       "        }}\n",
       "}});\n",
       "\n",
       "// Listen for the removal of the full notebook cells\n",
       "var notebookContainer = gd.closest('#notebook-container');\n",
       "if (notebookContainer) {{\n",
       "    x.observe(notebookContainer, {childList: true});\n",
       "}}\n",
       "\n",
       "// Listen for the clearing of the current output cell\n",
       "var outputEl = gd.closest('.output');\n",
       "if (outputEl) {{\n",
       "    x.observe(outputEl, {childList: true});\n",
       "}}\n",
       "\n",
       "                        })                };                });            </script>        </div>"
      ]
     },
     "metadata": {},
     "output_type": "display_data"
    }
   ],
   "source": [
    "import pandas as pd\n",
    "import cufflinks as cf\n",
    "import plotly.offline\n",
    "\n",
    "cf.go_offline()\n",
    "cf.set_config_file(offline=False, world_readable=True)\n",
    "\n",
    "df.iplot()"
   ]
  },
  {
   "cell_type": "code",
   "execution_count": 16,
   "id": "0491d08a",
   "metadata": {
    "ExecuteTime": {
     "end_time": "2021-06-18T00:01:29.814049Z",
     "start_time": "2021-06-18T00:01:29.793985Z"
    }
   },
   "outputs": [
    {
     "data": {
      "text/html": [
       "<div>\n",
       "<style scoped>\n",
       "    .dataframe tbody tr th:only-of-type {\n",
       "        vertical-align: middle;\n",
       "    }\n",
       "\n",
       "    .dataframe tbody tr th {\n",
       "        vertical-align: top;\n",
       "    }\n",
       "\n",
       "    .dataframe thead th {\n",
       "        text-align: right;\n",
       "    }\n",
       "</style>\n",
       "<table border=\"1\" class=\"dataframe\">\n",
       "  <thead>\n",
       "    <tr style=\"text-align: right;\">\n",
       "      <th></th>\n",
       "      <th>jenis</th>\n",
       "      <th>kode_trayek</th>\n",
       "      <th>trayek</th>\n",
       "      <th>jumlah_penumpang</th>\n",
       "    </tr>\n",
       "  </thead>\n",
       "  <tbody>\n",
       "    <tr>\n",
       "      <th>0</th>\n",
       "      <td>BRT</td>\n",
       "      <td>1</td>\n",
       "      <td>KORIDOR 1 (BLOK M - KOTA)</td>\n",
       "      <td>872507</td>\n",
       "    </tr>\n",
       "    <tr>\n",
       "      <th>1</th>\n",
       "      <td>BRT</td>\n",
       "      <td>2</td>\n",
       "      <td>KORIDOR 2 (PULOGADUNG 1 - HARMONI)</td>\n",
       "      <td>359703</td>\n",
       "    </tr>\n",
       "    <tr>\n",
       "      <th>2</th>\n",
       "      <td>BRT</td>\n",
       "      <td>3</td>\n",
       "      <td>KORIDOR 3 (KALIDERES - PASAR BARU)</td>\n",
       "      <td>478685</td>\n",
       "    </tr>\n",
       "    <tr>\n",
       "      <th>3</th>\n",
       "      <td>BRT</td>\n",
       "      <td>4</td>\n",
       "      <td>KORIDOR 4 (PULOGADUNG 2 - DUKUH ATAS 2)</td>\n",
       "      <td>273383</td>\n",
       "    </tr>\n",
       "    <tr>\n",
       "      <th>4</th>\n",
       "      <td>BRT</td>\n",
       "      <td>5</td>\n",
       "      <td>KORIDOR 5 (KAMPUNG MELAYU - ANCOL)</td>\n",
       "      <td>444222</td>\n",
       "    </tr>\n",
       "    <tr>\n",
       "      <th>5</th>\n",
       "      <td>BRT</td>\n",
       "      <td>6</td>\n",
       "      <td>KORIDOR 6 (RAGUNAN - DUKUH ATAS 2)</td>\n",
       "      <td>363628</td>\n",
       "    </tr>\n",
       "    <tr>\n",
       "      <th>6</th>\n",
       "      <td>BRT</td>\n",
       "      <td>7</td>\n",
       "      <td>KORIDOR 7 (KAMPUNG RAMBUTAN - KAMPUNG MELAYU)</td>\n",
       "      <td>460311</td>\n",
       "    </tr>\n",
       "    <tr>\n",
       "      <th>7</th>\n",
       "      <td>BRT</td>\n",
       "      <td>8</td>\n",
       "      <td>KORIDOR 8 (LEBAK BULUS - HARMONI)</td>\n",
       "      <td>460608</td>\n",
       "    </tr>\n",
       "    <tr>\n",
       "      <th>8</th>\n",
       "      <td>BRT</td>\n",
       "      <td>9</td>\n",
       "      <td>KORIDOR 9 (PINANG RANTI - PLUIT)</td>\n",
       "      <td>697985</td>\n",
       "    </tr>\n",
       "    <tr>\n",
       "      <th>9</th>\n",
       "      <td>BRT</td>\n",
       "      <td>10</td>\n",
       "      <td>KORIDOR 10 (PGC 2 - PLUIT)</td>\n",
       "      <td>351832</td>\n",
       "    </tr>\n",
       "    <tr>\n",
       "      <th>10</th>\n",
       "      <td>BRT</td>\n",
       "      <td>11</td>\n",
       "      <td>KORIDOR 11 (PULOGEBANG - KAMPUNG MELAYU)</td>\n",
       "      <td>146679</td>\n",
       "    </tr>\n",
       "    <tr>\n",
       "      <th>11</th>\n",
       "      <td>BRT</td>\n",
       "      <td>12</td>\n",
       "      <td>KORIDOR 12 (PENJARINGAN - TANJUNG PRIOK)</td>\n",
       "      <td>147990</td>\n",
       "    </tr>\n",
       "    <tr>\n",
       "      <th>12</th>\n",
       "      <td>BRT</td>\n",
       "      <td>13</td>\n",
       "      <td>KORIDOR 13 (CBD CILEDUG - BLOK M)</td>\n",
       "      <td>305141</td>\n",
       "    </tr>\n",
       "  </tbody>\n",
       "</table>\n",
       "</div>"
      ],
      "text/plain": [
       "   jenis kode_trayek                                         trayek  \\\n",
       "0    BRT           1                      KORIDOR 1 (BLOK M - KOTA)   \n",
       "1    BRT           2             KORIDOR 2 (PULOGADUNG 1 - HARMONI)   \n",
       "2    BRT           3             KORIDOR 3 (KALIDERES - PASAR BARU)   \n",
       "3    BRT           4        KORIDOR 4 (PULOGADUNG 2 - DUKUH ATAS 2)   \n",
       "4    BRT           5             KORIDOR 5 (KAMPUNG MELAYU - ANCOL)   \n",
       "5    BRT           6             KORIDOR 6 (RAGUNAN - DUKUH ATAS 2)   \n",
       "6    BRT           7  KORIDOR 7 (KAMPUNG RAMBUTAN - KAMPUNG MELAYU)   \n",
       "7    BRT           8              KORIDOR 8 (LEBAK BULUS - HARMONI)   \n",
       "8    BRT           9               KORIDOR 9 (PINANG RANTI - PLUIT)   \n",
       "9    BRT          10                     KORIDOR 10 (PGC 2 - PLUIT)   \n",
       "10   BRT          11       KORIDOR 11 (PULOGEBANG - KAMPUNG MELAYU)   \n",
       "11   BRT          12       KORIDOR 12 (PENJARINGAN - TANJUNG PRIOK)   \n",
       "12   BRT          13              KORIDOR 13 (CBD CILEDUG - BLOK M)   \n",
       "\n",
       "    jumlah_penumpang  \n",
       "0             872507  \n",
       "1             359703  \n",
       "2             478685  \n",
       "3             273383  \n",
       "4             444222  \n",
       "5             363628  \n",
       "6             460311  \n",
       "7             460608  \n",
       "8             697985  \n",
       "9             351832  \n",
       "10            146679  \n",
       "11            147990  \n",
       "12            305141  "
      ]
     },
     "execution_count": 16,
     "metadata": {},
     "output_type": "execute_result"
    }
   ],
   "source": [
    "df_BRT = df.loc[df['jenis'] == 'BRT']\n",
    "df_BRT"
   ]
  },
  {
   "cell_type": "code",
   "execution_count": 48,
   "id": "01d1cf1b",
   "metadata": {
    "ExecuteTime": {
     "end_time": "2021-06-18T01:11:00.964387Z",
     "start_time": "2021-06-18T01:11:00.823974Z"
    }
   },
   "outputs": [
    {
     "name": "stdout",
     "output_type": "stream",
     "text": [
      "                                         jumlah_penumpang\n",
      "trayek                                                   \n",
      "KORIDOR 1 (BLOK M - KOTA)                          872507\n",
      "KORIDOR 2 (PULOGADUNG 1 - HARMONI)                 359703\n",
      "KORIDOR 3 (KALIDERES - PASAR BARU)                 478685\n",
      "KORIDOR 4 (PULOGADUNG 2 - DUKUH ATAS 2)            273383\n",
      "KORIDOR 5 (KAMPUNG MELAYU - ANCOL)                 444222\n"
     ]
    },
    {
     "data": {
      "application/vnd.plotly.v1+json": {
       "config": {
        "linkText": "Export to plot.ly",
        "plotlyServerURL": "https://plot.ly",
        "showLink": true
       },
       "data": [
        {
         "line": {
          "color": "rgba(255, 153, 51, 1.0)",
          "dash": "solid",
          "shape": "linear",
          "width": 1.3
         },
         "mode": "lines",
         "name": "jenis",
         "text": "",
         "type": "scatter",
         "x": [
          0,
          1,
          2,
          3,
          4,
          5,
          6,
          7,
          8,
          9,
          10,
          11,
          12
         ],
         "y": [
          "BRT",
          "BRT",
          "BRT",
          "BRT",
          "BRT",
          "BRT",
          "BRT",
          "BRT",
          "BRT",
          "BRT",
          "BRT",
          "BRT",
          "BRT"
         ]
        },
        {
         "line": {
          "color": "rgba(55, 128, 191, 1.0)",
          "dash": "solid",
          "shape": "linear",
          "width": 1.3
         },
         "mode": "lines",
         "name": "kode_trayek",
         "text": "",
         "type": "scatter",
         "x": [
          0,
          1,
          2,
          3,
          4,
          5,
          6,
          7,
          8,
          9,
          10,
          11,
          12
         ],
         "y": [
          "1",
          "2",
          "3",
          "4",
          "5",
          "6",
          "7",
          "8",
          "9",
          "10",
          "11",
          "12",
          "13"
         ]
        },
        {
         "line": {
          "color": "rgba(50, 171, 96, 1.0)",
          "dash": "solid",
          "shape": "linear",
          "width": 1.3
         },
         "mode": "lines",
         "name": "trayek",
         "text": "",
         "type": "scatter",
         "x": [
          0,
          1,
          2,
          3,
          4,
          5,
          6,
          7,
          8,
          9,
          10,
          11,
          12
         ],
         "y": [
          "KORIDOR 1 (BLOK M - KOTA)",
          "KORIDOR 2 (PULOGADUNG 1 - HARMONI)",
          "KORIDOR 3 (KALIDERES - PASAR BARU)",
          "KORIDOR 4 (PULOGADUNG 2 - DUKUH ATAS 2)",
          "KORIDOR 5 (KAMPUNG MELAYU - ANCOL)",
          "KORIDOR 6 (RAGUNAN - DUKUH ATAS 2)",
          "KORIDOR 7 (KAMPUNG RAMBUTAN - KAMPUNG MELAYU)",
          "KORIDOR 8 (LEBAK BULUS - HARMONI)",
          "KORIDOR 9 (PINANG RANTI - PLUIT)",
          "KORIDOR 10 (PGC 2 - PLUIT)",
          "KORIDOR 11 (PULOGEBANG - KAMPUNG MELAYU)",
          "KORIDOR 12 (PENJARINGAN - TANJUNG PRIOK)",
          "KORIDOR 13 (CBD CILEDUG - BLOK M)"
         ]
        },
        {
         "line": {
          "color": "rgba(128, 0, 128, 1.0)",
          "dash": "solid",
          "shape": "linear",
          "width": 1.3
         },
         "mode": "lines",
         "name": "jumlah_penumpang",
         "text": "",
         "type": "scatter",
         "x": [
          0,
          1,
          2,
          3,
          4,
          5,
          6,
          7,
          8,
          9,
          10,
          11,
          12
         ],
         "y": [
          872507,
          359703,
          478685,
          273383,
          444222,
          363628,
          460311,
          460608,
          697985,
          351832,
          146679,
          147990,
          305141
         ]
        }
       ],
       "layout": {
        "legend": {
         "bgcolor": "#F5F6F9",
         "font": {
          "color": "#4D5663"
         }
        },
        "paper_bgcolor": "#F5F6F9",
        "plot_bgcolor": "#F5F6F9",
        "template": {
         "data": {
          "bar": [
           {
            "error_x": {
             "color": "#2a3f5f"
            },
            "error_y": {
             "color": "#2a3f5f"
            },
            "marker": {
             "line": {
              "color": "#E5ECF6",
              "width": 0.5
             }
            },
            "type": "bar"
           }
          ],
          "barpolar": [
           {
            "marker": {
             "line": {
              "color": "#E5ECF6",
              "width": 0.5
             }
            },
            "type": "barpolar"
           }
          ],
          "carpet": [
           {
            "aaxis": {
             "endlinecolor": "#2a3f5f",
             "gridcolor": "white",
             "linecolor": "white",
             "minorgridcolor": "white",
             "startlinecolor": "#2a3f5f"
            },
            "baxis": {
             "endlinecolor": "#2a3f5f",
             "gridcolor": "white",
             "linecolor": "white",
             "minorgridcolor": "white",
             "startlinecolor": "#2a3f5f"
            },
            "type": "carpet"
           }
          ],
          "choropleth": [
           {
            "colorbar": {
             "outlinewidth": 0,
             "ticks": ""
            },
            "type": "choropleth"
           }
          ],
          "contour": [
           {
            "colorbar": {
             "outlinewidth": 0,
             "ticks": ""
            },
            "colorscale": [
             [
              0,
              "#0d0887"
             ],
             [
              0.1111111111111111,
              "#46039f"
             ],
             [
              0.2222222222222222,
              "#7201a8"
             ],
             [
              0.3333333333333333,
              "#9c179e"
             ],
             [
              0.4444444444444444,
              "#bd3786"
             ],
             [
              0.5555555555555556,
              "#d8576b"
             ],
             [
              0.6666666666666666,
              "#ed7953"
             ],
             [
              0.7777777777777778,
              "#fb9f3a"
             ],
             [
              0.8888888888888888,
              "#fdca26"
             ],
             [
              1,
              "#f0f921"
             ]
            ],
            "type": "contour"
           }
          ],
          "contourcarpet": [
           {
            "colorbar": {
             "outlinewidth": 0,
             "ticks": ""
            },
            "type": "contourcarpet"
           }
          ],
          "heatmap": [
           {
            "colorbar": {
             "outlinewidth": 0,
             "ticks": ""
            },
            "colorscale": [
             [
              0,
              "#0d0887"
             ],
             [
              0.1111111111111111,
              "#46039f"
             ],
             [
              0.2222222222222222,
              "#7201a8"
             ],
             [
              0.3333333333333333,
              "#9c179e"
             ],
             [
              0.4444444444444444,
              "#bd3786"
             ],
             [
              0.5555555555555556,
              "#d8576b"
             ],
             [
              0.6666666666666666,
              "#ed7953"
             ],
             [
              0.7777777777777778,
              "#fb9f3a"
             ],
             [
              0.8888888888888888,
              "#fdca26"
             ],
             [
              1,
              "#f0f921"
             ]
            ],
            "type": "heatmap"
           }
          ],
          "heatmapgl": [
           {
            "colorbar": {
             "outlinewidth": 0,
             "ticks": ""
            },
            "colorscale": [
             [
              0,
              "#0d0887"
             ],
             [
              0.1111111111111111,
              "#46039f"
             ],
             [
              0.2222222222222222,
              "#7201a8"
             ],
             [
              0.3333333333333333,
              "#9c179e"
             ],
             [
              0.4444444444444444,
              "#bd3786"
             ],
             [
              0.5555555555555556,
              "#d8576b"
             ],
             [
              0.6666666666666666,
              "#ed7953"
             ],
             [
              0.7777777777777778,
              "#fb9f3a"
             ],
             [
              0.8888888888888888,
              "#fdca26"
             ],
             [
              1,
              "#f0f921"
             ]
            ],
            "type": "heatmapgl"
           }
          ],
          "histogram": [
           {
            "marker": {
             "colorbar": {
              "outlinewidth": 0,
              "ticks": ""
             }
            },
            "type": "histogram"
           }
          ],
          "histogram2d": [
           {
            "colorbar": {
             "outlinewidth": 0,
             "ticks": ""
            },
            "colorscale": [
             [
              0,
              "#0d0887"
             ],
             [
              0.1111111111111111,
              "#46039f"
             ],
             [
              0.2222222222222222,
              "#7201a8"
             ],
             [
              0.3333333333333333,
              "#9c179e"
             ],
             [
              0.4444444444444444,
              "#bd3786"
             ],
             [
              0.5555555555555556,
              "#d8576b"
             ],
             [
              0.6666666666666666,
              "#ed7953"
             ],
             [
              0.7777777777777778,
              "#fb9f3a"
             ],
             [
              0.8888888888888888,
              "#fdca26"
             ],
             [
              1,
              "#f0f921"
             ]
            ],
            "type": "histogram2d"
           }
          ],
          "histogram2dcontour": [
           {
            "colorbar": {
             "outlinewidth": 0,
             "ticks": ""
            },
            "colorscale": [
             [
              0,
              "#0d0887"
             ],
             [
              0.1111111111111111,
              "#46039f"
             ],
             [
              0.2222222222222222,
              "#7201a8"
             ],
             [
              0.3333333333333333,
              "#9c179e"
             ],
             [
              0.4444444444444444,
              "#bd3786"
             ],
             [
              0.5555555555555556,
              "#d8576b"
             ],
             [
              0.6666666666666666,
              "#ed7953"
             ],
             [
              0.7777777777777778,
              "#fb9f3a"
             ],
             [
              0.8888888888888888,
              "#fdca26"
             ],
             [
              1,
              "#f0f921"
             ]
            ],
            "type": "histogram2dcontour"
           }
          ],
          "mesh3d": [
           {
            "colorbar": {
             "outlinewidth": 0,
             "ticks": ""
            },
            "type": "mesh3d"
           }
          ],
          "parcoords": [
           {
            "line": {
             "colorbar": {
              "outlinewidth": 0,
              "ticks": ""
             }
            },
            "type": "parcoords"
           }
          ],
          "pie": [
           {
            "automargin": true,
            "type": "pie"
           }
          ],
          "scatter": [
           {
            "marker": {
             "colorbar": {
              "outlinewidth": 0,
              "ticks": ""
             }
            },
            "type": "scatter"
           }
          ],
          "scatter3d": [
           {
            "line": {
             "colorbar": {
              "outlinewidth": 0,
              "ticks": ""
             }
            },
            "marker": {
             "colorbar": {
              "outlinewidth": 0,
              "ticks": ""
             }
            },
            "type": "scatter3d"
           }
          ],
          "scattercarpet": [
           {
            "marker": {
             "colorbar": {
              "outlinewidth": 0,
              "ticks": ""
             }
            },
            "type": "scattercarpet"
           }
          ],
          "scattergeo": [
           {
            "marker": {
             "colorbar": {
              "outlinewidth": 0,
              "ticks": ""
             }
            },
            "type": "scattergeo"
           }
          ],
          "scattergl": [
           {
            "marker": {
             "colorbar": {
              "outlinewidth": 0,
              "ticks": ""
             }
            },
            "type": "scattergl"
           }
          ],
          "scattermapbox": [
           {
            "marker": {
             "colorbar": {
              "outlinewidth": 0,
              "ticks": ""
             }
            },
            "type": "scattermapbox"
           }
          ],
          "scatterpolar": [
           {
            "marker": {
             "colorbar": {
              "outlinewidth": 0,
              "ticks": ""
             }
            },
            "type": "scatterpolar"
           }
          ],
          "scatterpolargl": [
           {
            "marker": {
             "colorbar": {
              "outlinewidth": 0,
              "ticks": ""
             }
            },
            "type": "scatterpolargl"
           }
          ],
          "scatterternary": [
           {
            "marker": {
             "colorbar": {
              "outlinewidth": 0,
              "ticks": ""
             }
            },
            "type": "scatterternary"
           }
          ],
          "surface": [
           {
            "colorbar": {
             "outlinewidth": 0,
             "ticks": ""
            },
            "colorscale": [
             [
              0,
              "#0d0887"
             ],
             [
              0.1111111111111111,
              "#46039f"
             ],
             [
              0.2222222222222222,
              "#7201a8"
             ],
             [
              0.3333333333333333,
              "#9c179e"
             ],
             [
              0.4444444444444444,
              "#bd3786"
             ],
             [
              0.5555555555555556,
              "#d8576b"
             ],
             [
              0.6666666666666666,
              "#ed7953"
             ],
             [
              0.7777777777777778,
              "#fb9f3a"
             ],
             [
              0.8888888888888888,
              "#fdca26"
             ],
             [
              1,
              "#f0f921"
             ]
            ],
            "type": "surface"
           }
          ],
          "table": [
           {
            "cells": {
             "fill": {
              "color": "#EBF0F8"
             },
             "line": {
              "color": "white"
             }
            },
            "header": {
             "fill": {
              "color": "#C8D4E3"
             },
             "line": {
              "color": "white"
             }
            },
            "type": "table"
           }
          ]
         },
         "layout": {
          "annotationdefaults": {
           "arrowcolor": "#2a3f5f",
           "arrowhead": 0,
           "arrowwidth": 1
          },
          "autotypenumbers": "strict",
          "coloraxis": {
           "colorbar": {
            "outlinewidth": 0,
            "ticks": ""
           }
          },
          "colorscale": {
           "diverging": [
            [
             0,
             "#8e0152"
            ],
            [
             0.1,
             "#c51b7d"
            ],
            [
             0.2,
             "#de77ae"
            ],
            [
             0.3,
             "#f1b6da"
            ],
            [
             0.4,
             "#fde0ef"
            ],
            [
             0.5,
             "#f7f7f7"
            ],
            [
             0.6,
             "#e6f5d0"
            ],
            [
             0.7,
             "#b8e186"
            ],
            [
             0.8,
             "#7fbc41"
            ],
            [
             0.9,
             "#4d9221"
            ],
            [
             1,
             "#276419"
            ]
           ],
           "sequential": [
            [
             0,
             "#0d0887"
            ],
            [
             0.1111111111111111,
             "#46039f"
            ],
            [
             0.2222222222222222,
             "#7201a8"
            ],
            [
             0.3333333333333333,
             "#9c179e"
            ],
            [
             0.4444444444444444,
             "#bd3786"
            ],
            [
             0.5555555555555556,
             "#d8576b"
            ],
            [
             0.6666666666666666,
             "#ed7953"
            ],
            [
             0.7777777777777778,
             "#fb9f3a"
            ],
            [
             0.8888888888888888,
             "#fdca26"
            ],
            [
             1,
             "#f0f921"
            ]
           ],
           "sequentialminus": [
            [
             0,
             "#0d0887"
            ],
            [
             0.1111111111111111,
             "#46039f"
            ],
            [
             0.2222222222222222,
             "#7201a8"
            ],
            [
             0.3333333333333333,
             "#9c179e"
            ],
            [
             0.4444444444444444,
             "#bd3786"
            ],
            [
             0.5555555555555556,
             "#d8576b"
            ],
            [
             0.6666666666666666,
             "#ed7953"
            ],
            [
             0.7777777777777778,
             "#fb9f3a"
            ],
            [
             0.8888888888888888,
             "#fdca26"
            ],
            [
             1,
             "#f0f921"
            ]
           ]
          },
          "colorway": [
           "#636efa",
           "#EF553B",
           "#00cc96",
           "#ab63fa",
           "#FFA15A",
           "#19d3f3",
           "#FF6692",
           "#B6E880",
           "#FF97FF",
           "#FECB52"
          ],
          "font": {
           "color": "#2a3f5f"
          },
          "geo": {
           "bgcolor": "white",
           "lakecolor": "white",
           "landcolor": "#E5ECF6",
           "showlakes": true,
           "showland": true,
           "subunitcolor": "white"
          },
          "hoverlabel": {
           "align": "left"
          },
          "hovermode": "closest",
          "mapbox": {
           "style": "light"
          },
          "paper_bgcolor": "white",
          "plot_bgcolor": "#E5ECF6",
          "polar": {
           "angularaxis": {
            "gridcolor": "white",
            "linecolor": "white",
            "ticks": ""
           },
           "bgcolor": "#E5ECF6",
           "radialaxis": {
            "gridcolor": "white",
            "linecolor": "white",
            "ticks": ""
           }
          },
          "scene": {
           "xaxis": {
            "backgroundcolor": "#E5ECF6",
            "gridcolor": "white",
            "gridwidth": 2,
            "linecolor": "white",
            "showbackground": true,
            "ticks": "",
            "zerolinecolor": "white"
           },
           "yaxis": {
            "backgroundcolor": "#E5ECF6",
            "gridcolor": "white",
            "gridwidth": 2,
            "linecolor": "white",
            "showbackground": true,
            "ticks": "",
            "zerolinecolor": "white"
           },
           "zaxis": {
            "backgroundcolor": "#E5ECF6",
            "gridcolor": "white",
            "gridwidth": 2,
            "linecolor": "white",
            "showbackground": true,
            "ticks": "",
            "zerolinecolor": "white"
           }
          },
          "shapedefaults": {
           "line": {
            "color": "#2a3f5f"
           }
          },
          "ternary": {
           "aaxis": {
            "gridcolor": "white",
            "linecolor": "white",
            "ticks": ""
           },
           "baxis": {
            "gridcolor": "white",
            "linecolor": "white",
            "ticks": ""
           },
           "bgcolor": "#E5ECF6",
           "caxis": {
            "gridcolor": "white",
            "linecolor": "white",
            "ticks": ""
           }
          },
          "title": {
           "x": 0.05
          },
          "xaxis": {
           "automargin": true,
           "gridcolor": "white",
           "linecolor": "white",
           "ticks": "",
           "title": {
            "standoff": 15
           },
           "zerolinecolor": "white",
           "zerolinewidth": 2
          },
          "yaxis": {
           "automargin": true,
           "gridcolor": "white",
           "linecolor": "white",
           "ticks": "",
           "title": {
            "standoff": 15
           },
           "zerolinecolor": "white",
           "zerolinewidth": 2
          }
         }
        },
        "title": {
         "font": {
          "color": "#4D5663"
         }
        },
        "xaxis": {
         "gridcolor": "#E1E5ED",
         "showgrid": true,
         "tickfont": {
          "color": "#4D5663"
         },
         "title": {
          "font": {
           "color": "#4D5663"
          },
          "text": ""
         },
         "zerolinecolor": "#E1E5ED"
        },
        "yaxis": {
         "gridcolor": "#E1E5ED",
         "showgrid": true,
         "tickfont": {
          "color": "#4D5663"
         },
         "title": {
          "font": {
           "color": "#4D5663"
          },
          "text": ""
         },
         "zerolinecolor": "#E1E5ED"
        }
       }
      },
      "text/html": [
       "<div>                            <div id=\"af7ac1d7-62f4-4fa3-acfc-b1c104d30814\" class=\"plotly-graph-div\" style=\"height:525px; width:100%;\"></div>            <script type=\"text/javascript\">                require([\"plotly\"], function(Plotly) {                    window.PLOTLYENV=window.PLOTLYENV || {};\n",
       "                    window.PLOTLYENV.BASE_URL='https://plot.ly';                                    if (document.getElementById(\"af7ac1d7-62f4-4fa3-acfc-b1c104d30814\")) {                    Plotly.newPlot(                        \"af7ac1d7-62f4-4fa3-acfc-b1c104d30814\",                        [{\"line\": {\"color\": \"rgba(255, 153, 51, 1.0)\", \"dash\": \"solid\", \"shape\": \"linear\", \"width\": 1.3}, \"mode\": \"lines\", \"name\": \"jenis\", \"text\": \"\", \"type\": \"scatter\", \"x\": [0, 1, 2, 3, 4, 5, 6, 7, 8, 9, 10, 11, 12], \"y\": [\"BRT\", \"BRT\", \"BRT\", \"BRT\", \"BRT\", \"BRT\", \"BRT\", \"BRT\", \"BRT\", \"BRT\", \"BRT\", \"BRT\", \"BRT\"]}, {\"line\": {\"color\": \"rgba(55, 128, 191, 1.0)\", \"dash\": \"solid\", \"shape\": \"linear\", \"width\": 1.3}, \"mode\": \"lines\", \"name\": \"kode_trayek\", \"text\": \"\", \"type\": \"scatter\", \"x\": [0, 1, 2, 3, 4, 5, 6, 7, 8, 9, 10, 11, 12], \"y\": [\"1\", \"2\", \"3\", \"4\", \"5\", \"6\", \"7\", \"8\", \"9\", \"10\", \"11\", \"12\", \"13\"]}, {\"line\": {\"color\": \"rgba(50, 171, 96, 1.0)\", \"dash\": \"solid\", \"shape\": \"linear\", \"width\": 1.3}, \"mode\": \"lines\", \"name\": \"trayek\", \"text\": \"\", \"type\": \"scatter\", \"x\": [0, 1, 2, 3, 4, 5, 6, 7, 8, 9, 10, 11, 12], \"y\": [\"KORIDOR 1 (BLOK M - KOTA)\", \"KORIDOR 2 (PULOGADUNG 1 - HARMONI)\", \"KORIDOR 3 (KALIDERES - PASAR BARU)\", \"KORIDOR 4 (PULOGADUNG 2 - DUKUH ATAS 2)\", \"KORIDOR 5 (KAMPUNG MELAYU - ANCOL)\", \"KORIDOR 6 (RAGUNAN - DUKUH ATAS 2)\", \"KORIDOR 7 (KAMPUNG RAMBUTAN - KAMPUNG MELAYU)\", \"KORIDOR 8 (LEBAK BULUS - HARMONI)\", \"KORIDOR 9 (PINANG RANTI - PLUIT)\", \"KORIDOR 10 (PGC 2 - PLUIT)\", \"KORIDOR 11 (PULOGEBANG - KAMPUNG MELAYU)\", \"KORIDOR 12 (PENJARINGAN - TANJUNG PRIOK)\", \"KORIDOR 13 (CBD CILEDUG - BLOK M)\"]}, {\"line\": {\"color\": \"rgba(128, 0, 128, 1.0)\", \"dash\": \"solid\", \"shape\": \"linear\", \"width\": 1.3}, \"mode\": \"lines\", \"name\": \"jumlah_penumpang\", \"text\": \"\", \"type\": \"scatter\", \"x\": [0, 1, 2, 3, 4, 5, 6, 7, 8, 9, 10, 11, 12], \"y\": [872507, 359703, 478685, 273383, 444222, 363628, 460311, 460608, 697985, 351832, 146679, 147990, 305141]}],                        {\"legend\": {\"bgcolor\": \"#F5F6F9\", \"font\": {\"color\": \"#4D5663\"}}, \"paper_bgcolor\": \"#F5F6F9\", \"plot_bgcolor\": \"#F5F6F9\", \"template\": {\"data\": {\"bar\": [{\"error_x\": {\"color\": \"#2a3f5f\"}, \"error_y\": {\"color\": \"#2a3f5f\"}, \"marker\": {\"line\": {\"color\": \"#E5ECF6\", \"width\": 0.5}}, \"type\": \"bar\"}], \"barpolar\": [{\"marker\": {\"line\": {\"color\": \"#E5ECF6\", \"width\": 0.5}}, \"type\": \"barpolar\"}], \"carpet\": [{\"aaxis\": {\"endlinecolor\": \"#2a3f5f\", \"gridcolor\": \"white\", \"linecolor\": \"white\", \"minorgridcolor\": \"white\", \"startlinecolor\": \"#2a3f5f\"}, \"baxis\": {\"endlinecolor\": \"#2a3f5f\", \"gridcolor\": \"white\", \"linecolor\": \"white\", \"minorgridcolor\": \"white\", \"startlinecolor\": \"#2a3f5f\"}, \"type\": \"carpet\"}], \"choropleth\": [{\"colorbar\": {\"outlinewidth\": 0, \"ticks\": \"\"}, \"type\": \"choropleth\"}], \"contour\": [{\"colorbar\": {\"outlinewidth\": 0, \"ticks\": \"\"}, \"colorscale\": [[0.0, \"#0d0887\"], [0.1111111111111111, \"#46039f\"], [0.2222222222222222, \"#7201a8\"], [0.3333333333333333, \"#9c179e\"], [0.4444444444444444, \"#bd3786\"], [0.5555555555555556, \"#d8576b\"], [0.6666666666666666, \"#ed7953\"], [0.7777777777777778, \"#fb9f3a\"], [0.8888888888888888, \"#fdca26\"], [1.0, \"#f0f921\"]], \"type\": \"contour\"}], \"contourcarpet\": [{\"colorbar\": {\"outlinewidth\": 0, \"ticks\": \"\"}, \"type\": \"contourcarpet\"}], \"heatmap\": [{\"colorbar\": {\"outlinewidth\": 0, \"ticks\": \"\"}, \"colorscale\": [[0.0, \"#0d0887\"], [0.1111111111111111, \"#46039f\"], [0.2222222222222222, \"#7201a8\"], [0.3333333333333333, \"#9c179e\"], [0.4444444444444444, \"#bd3786\"], [0.5555555555555556, \"#d8576b\"], [0.6666666666666666, \"#ed7953\"], [0.7777777777777778, \"#fb9f3a\"], [0.8888888888888888, \"#fdca26\"], [1.0, \"#f0f921\"]], \"type\": \"heatmap\"}], \"heatmapgl\": [{\"colorbar\": {\"outlinewidth\": 0, \"ticks\": \"\"}, \"colorscale\": [[0.0, \"#0d0887\"], [0.1111111111111111, \"#46039f\"], [0.2222222222222222, \"#7201a8\"], [0.3333333333333333, \"#9c179e\"], [0.4444444444444444, \"#bd3786\"], [0.5555555555555556, \"#d8576b\"], [0.6666666666666666, \"#ed7953\"], [0.7777777777777778, \"#fb9f3a\"], [0.8888888888888888, \"#fdca26\"], [1.0, \"#f0f921\"]], \"type\": \"heatmapgl\"}], \"histogram\": [{\"marker\": {\"colorbar\": {\"outlinewidth\": 0, \"ticks\": \"\"}}, \"type\": \"histogram\"}], \"histogram2d\": [{\"colorbar\": {\"outlinewidth\": 0, \"ticks\": \"\"}, \"colorscale\": [[0.0, \"#0d0887\"], [0.1111111111111111, \"#46039f\"], [0.2222222222222222, \"#7201a8\"], [0.3333333333333333, \"#9c179e\"], [0.4444444444444444, \"#bd3786\"], [0.5555555555555556, \"#d8576b\"], [0.6666666666666666, \"#ed7953\"], [0.7777777777777778, \"#fb9f3a\"], [0.8888888888888888, \"#fdca26\"], [1.0, \"#f0f921\"]], \"type\": \"histogram2d\"}], \"histogram2dcontour\": [{\"colorbar\": {\"outlinewidth\": 0, \"ticks\": \"\"}, \"colorscale\": [[0.0, \"#0d0887\"], [0.1111111111111111, \"#46039f\"], [0.2222222222222222, \"#7201a8\"], [0.3333333333333333, \"#9c179e\"], [0.4444444444444444, \"#bd3786\"], [0.5555555555555556, \"#d8576b\"], [0.6666666666666666, \"#ed7953\"], [0.7777777777777778, \"#fb9f3a\"], [0.8888888888888888, \"#fdca26\"], [1.0, \"#f0f921\"]], \"type\": \"histogram2dcontour\"}], \"mesh3d\": [{\"colorbar\": {\"outlinewidth\": 0, \"ticks\": \"\"}, \"type\": \"mesh3d\"}], \"parcoords\": [{\"line\": {\"colorbar\": {\"outlinewidth\": 0, \"ticks\": \"\"}}, \"type\": \"parcoords\"}], \"pie\": [{\"automargin\": true, \"type\": \"pie\"}], \"scatter\": [{\"marker\": {\"colorbar\": {\"outlinewidth\": 0, \"ticks\": \"\"}}, \"type\": \"scatter\"}], \"scatter3d\": [{\"line\": {\"colorbar\": {\"outlinewidth\": 0, \"ticks\": \"\"}}, \"marker\": {\"colorbar\": {\"outlinewidth\": 0, \"ticks\": \"\"}}, \"type\": \"scatter3d\"}], \"scattercarpet\": [{\"marker\": {\"colorbar\": {\"outlinewidth\": 0, \"ticks\": \"\"}}, \"type\": \"scattercarpet\"}], \"scattergeo\": [{\"marker\": {\"colorbar\": {\"outlinewidth\": 0, \"ticks\": \"\"}}, \"type\": \"scattergeo\"}], \"scattergl\": [{\"marker\": {\"colorbar\": {\"outlinewidth\": 0, \"ticks\": \"\"}}, \"type\": \"scattergl\"}], \"scattermapbox\": [{\"marker\": {\"colorbar\": {\"outlinewidth\": 0, \"ticks\": \"\"}}, \"type\": \"scattermapbox\"}], \"scatterpolar\": [{\"marker\": {\"colorbar\": {\"outlinewidth\": 0, \"ticks\": \"\"}}, \"type\": \"scatterpolar\"}], \"scatterpolargl\": [{\"marker\": {\"colorbar\": {\"outlinewidth\": 0, \"ticks\": \"\"}}, \"type\": \"scatterpolargl\"}], \"scatterternary\": [{\"marker\": {\"colorbar\": {\"outlinewidth\": 0, \"ticks\": \"\"}}, \"type\": \"scatterternary\"}], \"surface\": [{\"colorbar\": {\"outlinewidth\": 0, \"ticks\": \"\"}, \"colorscale\": [[0.0, \"#0d0887\"], [0.1111111111111111, \"#46039f\"], [0.2222222222222222, \"#7201a8\"], [0.3333333333333333, \"#9c179e\"], [0.4444444444444444, \"#bd3786\"], [0.5555555555555556, \"#d8576b\"], [0.6666666666666666, \"#ed7953\"], [0.7777777777777778, \"#fb9f3a\"], [0.8888888888888888, \"#fdca26\"], [1.0, \"#f0f921\"]], \"type\": \"surface\"}], \"table\": [{\"cells\": {\"fill\": {\"color\": \"#EBF0F8\"}, \"line\": {\"color\": \"white\"}}, \"header\": {\"fill\": {\"color\": \"#C8D4E3\"}, \"line\": {\"color\": \"white\"}}, \"type\": \"table\"}]}, \"layout\": {\"annotationdefaults\": {\"arrowcolor\": \"#2a3f5f\", \"arrowhead\": 0, \"arrowwidth\": 1}, \"autotypenumbers\": \"strict\", \"coloraxis\": {\"colorbar\": {\"outlinewidth\": 0, \"ticks\": \"\"}}, \"colorscale\": {\"diverging\": [[0, \"#8e0152\"], [0.1, \"#c51b7d\"], [0.2, \"#de77ae\"], [0.3, \"#f1b6da\"], [0.4, \"#fde0ef\"], [0.5, \"#f7f7f7\"], [0.6, \"#e6f5d0\"], [0.7, \"#b8e186\"], [0.8, \"#7fbc41\"], [0.9, \"#4d9221\"], [1, \"#276419\"]], \"sequential\": [[0.0, \"#0d0887\"], [0.1111111111111111, \"#46039f\"], [0.2222222222222222, \"#7201a8\"], [0.3333333333333333, \"#9c179e\"], [0.4444444444444444, \"#bd3786\"], [0.5555555555555556, \"#d8576b\"], [0.6666666666666666, \"#ed7953\"], [0.7777777777777778, \"#fb9f3a\"], [0.8888888888888888, \"#fdca26\"], [1.0, \"#f0f921\"]], \"sequentialminus\": [[0.0, \"#0d0887\"], [0.1111111111111111, \"#46039f\"], [0.2222222222222222, \"#7201a8\"], [0.3333333333333333, \"#9c179e\"], [0.4444444444444444, \"#bd3786\"], [0.5555555555555556, \"#d8576b\"], [0.6666666666666666, \"#ed7953\"], [0.7777777777777778, \"#fb9f3a\"], [0.8888888888888888, \"#fdca26\"], [1.0, \"#f0f921\"]]}, \"colorway\": [\"#636efa\", \"#EF553B\", \"#00cc96\", \"#ab63fa\", \"#FFA15A\", \"#19d3f3\", \"#FF6692\", \"#B6E880\", \"#FF97FF\", \"#FECB52\"], \"font\": {\"color\": \"#2a3f5f\"}, \"geo\": {\"bgcolor\": \"white\", \"lakecolor\": \"white\", \"landcolor\": \"#E5ECF6\", \"showlakes\": true, \"showland\": true, \"subunitcolor\": \"white\"}, \"hoverlabel\": {\"align\": \"left\"}, \"hovermode\": \"closest\", \"mapbox\": {\"style\": \"light\"}, \"paper_bgcolor\": \"white\", \"plot_bgcolor\": \"#E5ECF6\", \"polar\": {\"angularaxis\": {\"gridcolor\": \"white\", \"linecolor\": \"white\", \"ticks\": \"\"}, \"bgcolor\": \"#E5ECF6\", \"radialaxis\": {\"gridcolor\": \"white\", \"linecolor\": \"white\", \"ticks\": \"\"}}, \"scene\": {\"xaxis\": {\"backgroundcolor\": \"#E5ECF6\", \"gridcolor\": \"white\", \"gridwidth\": 2, \"linecolor\": \"white\", \"showbackground\": true, \"ticks\": \"\", \"zerolinecolor\": \"white\"}, \"yaxis\": {\"backgroundcolor\": \"#E5ECF6\", \"gridcolor\": \"white\", \"gridwidth\": 2, \"linecolor\": \"white\", \"showbackground\": true, \"ticks\": \"\", \"zerolinecolor\": \"white\"}, \"zaxis\": {\"backgroundcolor\": \"#E5ECF6\", \"gridcolor\": \"white\", \"gridwidth\": 2, \"linecolor\": \"white\", \"showbackground\": true, \"ticks\": \"\", \"zerolinecolor\": \"white\"}}, \"shapedefaults\": {\"line\": {\"color\": \"#2a3f5f\"}}, \"ternary\": {\"aaxis\": {\"gridcolor\": \"white\", \"linecolor\": \"white\", \"ticks\": \"\"}, \"baxis\": {\"gridcolor\": \"white\", \"linecolor\": \"white\", \"ticks\": \"\"}, \"bgcolor\": \"#E5ECF6\", \"caxis\": {\"gridcolor\": \"white\", \"linecolor\": \"white\", \"ticks\": \"\"}}, \"title\": {\"x\": 0.05}, \"xaxis\": {\"automargin\": true, \"gridcolor\": \"white\", \"linecolor\": \"white\", \"ticks\": \"\", \"title\": {\"standoff\": 15}, \"zerolinecolor\": \"white\", \"zerolinewidth\": 2}, \"yaxis\": {\"automargin\": true, \"gridcolor\": \"white\", \"linecolor\": \"white\", \"ticks\": \"\", \"title\": {\"standoff\": 15}, \"zerolinecolor\": \"white\", \"zerolinewidth\": 2}}}, \"title\": {\"font\": {\"color\": \"#4D5663\"}}, \"xaxis\": {\"gridcolor\": \"#E1E5ED\", \"showgrid\": true, \"tickfont\": {\"color\": \"#4D5663\"}, \"title\": {\"font\": {\"color\": \"#4D5663\"}, \"text\": \"\"}, \"zerolinecolor\": \"#E1E5ED\"}, \"yaxis\": {\"gridcolor\": \"#E1E5ED\", \"showgrid\": true, \"tickfont\": {\"color\": \"#4D5663\"}, \"title\": {\"font\": {\"color\": \"#4D5663\"}, \"text\": \"\"}, \"zerolinecolor\": \"#E1E5ED\"}},                        {\"showLink\": true, \"linkText\": \"Export to plot.ly\", \"plotlyServerURL\": \"https://plot.ly\", \"responsive\": true}                    ).then(function(){\n",
       "                            \n",
       "var gd = document.getElementById('af7ac1d7-62f4-4fa3-acfc-b1c104d30814');\n",
       "var x = new MutationObserver(function (mutations, observer) {{\n",
       "        var display = window.getComputedStyle(gd).display;\n",
       "        if (!display || display === 'none') {{\n",
       "            console.log([gd, 'removed!']);\n",
       "            Plotly.purge(gd);\n",
       "            observer.disconnect();\n",
       "        }}\n",
       "}});\n",
       "\n",
       "// Listen for the removal of the full notebook cells\n",
       "var notebookContainer = gd.closest('#notebook-container');\n",
       "if (notebookContainer) {{\n",
       "    x.observe(notebookContainer, {childList: true});\n",
       "}}\n",
       "\n",
       "// Listen for the clearing of the current output cell\n",
       "var outputEl = gd.closest('.output');\n",
       "if (outputEl) {{\n",
       "    x.observe(outputEl, {childList: true});\n",
       "}}\n",
       "\n",
       "                        })                };                });            </script>        </div>"
      ]
     },
     "metadata": {},
     "output_type": "display_data"
    }
   ],
   "source": [
    "print(df_BRT[['trayek', 'jumlah_penumpang']].set_index('trayek').head(5))\n",
    "df_BRT.iplot()"
   ]
  },
  {
   "cell_type": "code",
   "execution_count": 60,
   "id": "c0f56e4c",
   "metadata": {
    "ExecuteTime": {
     "end_time": "2021-06-18T01:16:43.019795Z",
     "start_time": "2021-06-18T01:16:42.602130Z"
    }
   },
   "outputs": [
    {
     "name": "stdout",
     "output_type": "stream",
     "text": [
      "Index(['country', 'continent', 'year', 'lifeExp', 'pop', 'gdpPercap',\n",
      "       'iso_alpha', 'iso_num'],\n",
      "      dtype='object')\n",
      "Index(['date', 'GOOG', 'AAPL', 'AMZN', 'FB', 'NFLX', 'MSFT'], dtype='object')\n"
     ]
    },
    {
     "data": {
      "application/vnd.plotly.v1+json": {
       "config": {
        "plotlyServerURL": "https://plot.ly"
       },
       "data": [
        {
         "hovertemplate": "date=%{x}<br>GOOG=%{y}<extra></extra>",
         "legendgroup": "",
         "line": {
          "color": "#636efa",
          "dash": "solid"
         },
         "mode": "lines",
         "name": "",
         "orientation": "v",
         "showlegend": false,
         "type": "scatter",
         "x": [
          "2018-01-01",
          "2018-01-08",
          "2018-01-15",
          "2018-01-22",
          "2018-01-29",
          "2018-02-05",
          "2018-02-12",
          "2018-02-19",
          "2018-02-26",
          "2018-03-05",
          "2018-03-12",
          "2018-03-19",
          "2018-03-26",
          "2018-04-02",
          "2018-04-09",
          "2018-04-16",
          "2018-04-23",
          "2018-04-30",
          "2018-05-07",
          "2018-05-14",
          "2018-05-21",
          "2018-05-28",
          "2018-06-04",
          "2018-06-11",
          "2018-06-18",
          "2018-06-25",
          "2018-07-02",
          "2018-07-09",
          "2018-07-16",
          "2018-07-23",
          "2018-07-30",
          "2018-08-06",
          "2018-08-13",
          "2018-08-20",
          "2018-08-27",
          "2018-09-03",
          "2018-09-10",
          "2018-09-17",
          "2018-09-24",
          "2018-10-01",
          "2018-10-08",
          "2018-10-15",
          "2018-10-22",
          "2018-10-29",
          "2018-11-05",
          "2018-11-12",
          "2018-11-19",
          "2018-11-26",
          "2018-12-03",
          "2018-12-10",
          "2018-12-17",
          "2018-12-24",
          "2018-12-31",
          "2019-01-07",
          "2019-01-14",
          "2019-01-21",
          "2019-01-28",
          "2019-02-04",
          "2019-02-11",
          "2019-02-18",
          "2019-02-25",
          "2019-03-04",
          "2019-03-11",
          "2019-03-18",
          "2019-03-25",
          "2019-04-01",
          "2019-04-08",
          "2019-04-15",
          "2019-04-22",
          "2019-04-29",
          "2019-05-06",
          "2019-05-13",
          "2019-05-20",
          "2019-05-27",
          "2019-06-03",
          "2019-06-10",
          "2019-06-17",
          "2019-06-24",
          "2019-07-01",
          "2019-07-08",
          "2019-07-15",
          "2019-07-22",
          "2019-07-29",
          "2019-08-05",
          "2019-08-12",
          "2019-08-19",
          "2019-08-26",
          "2019-09-02",
          "2019-09-09",
          "2019-09-16",
          "2019-09-23",
          "2019-09-30",
          "2019-10-07",
          "2019-10-14",
          "2019-10-21",
          "2019-10-28",
          "2019-11-04",
          "2019-11-11",
          "2019-11-18",
          "2019-11-25",
          "2019-12-02",
          "2019-12-09",
          "2019-12-16",
          "2019-12-23",
          "2019-12-30"
         ],
         "xaxis": "x",
         "y": [
          1,
          1.018172278347936,
          1.032007866452698,
          1.066782783389724,
          1.0087731636550117,
          0.9415276737437316,
          0.99325918262539,
          1.0222821547641083,
          0.9788520214265992,
          1.0524482730908842,
          1.0303929312465263,
          0.926821104067592,
          0.9360932452590338,
          0.913638710861412,
          0.93380695379017,
          0.9734447261178653,
          0.9345146364100892,
          0.9509902470625956,
          0.9963982380519172,
          0.9674568868105002,
          0.9758943718805396,
          1.015668254641377,
          1.0169111849053498,
          1.0453898287179595,
          1.0483111519067918,
          1.0121753574512644,
          1.0344211867653972,
          1.0785588920381208,
          1.075011617811375,
          1.1236312044424703,
          1.1102129167272332,
          1.1228237368393843,
          1.0895729410299655,
          1.1074367837463466,
          1.1052048693141154,
          1.0567939333314087,
          1.0637798374890872,
          1.0579370795194665,
          1.0827776350267664,
          1.0500077089175164,
          1.007121903906116,
          0.9947651405743836,
          0.9720929301886708,
          0.959681788913054,
          0.9672663993407256,
          0.9630385756700248,
          0.9289168536315806,
          0.992923504040418,
          0.9404389054995582,
          0.945446952912676,
          0.8886892896888904,
          0.9408925313390586,
          0.9714034098401132,
          0.9591373489949891,
          0.9963982380519172,
          0.989802500200548,
          1.0077298024501202,
          0.9934950771344468,
          1.0103608540932627,
          1.0073850422758417,
          1.035165084150587,
          1.0363716889645844,
          1.0746032883264525,
          1.0936918990354445,
          1.064487521016258,
          1.095188886079836,
          1.1049145977684258,
          1.1216987538299403,
          1.1541874899828073,
          1.075456162061569,
          1.0562859304552756,
          1.0544986709579427,
          1.0283425342867192,
          1.001270175031893,
          0.9671666152648106,
          0.98468558802946,
          1.0178275181736574,
          0.980657443195294,
          1.0266368965939394,
          1.0387124690620373,
          1.025285100664745,
          1.1344366027859267,
          1.0832494231376286,
          1.0778240762422375,
          1.068379555417282,
          1.0445098208996275,
          1.0779056980467905,
          1.0931748145700046,
          1.12459294475006,
          1.115856106545024,
          1.1114649285805127,
          1.0968672799119472,
          1.10271900878617,
          1.129972884606169,
          1.1477913211905195,
          1.155602744537941,
          1.189742629754999,
          1.2110630442115171,
          1.1751993590303178,
          1.183927115646047,
          1.216279741365772,
          1.222820990588552,
          1.22441776261611,
          1.2265044859331442,
          1.213013658002661
         ],
         "yaxis": "y"
        }
       ],
       "layout": {
        "legend": {
         "tracegroupgap": 0
        },
        "margin": {
         "t": 60
        },
        "template": {
         "data": {
          "bar": [
           {
            "error_x": {
             "color": "#2a3f5f"
            },
            "error_y": {
             "color": "#2a3f5f"
            },
            "marker": {
             "line": {
              "color": "#E5ECF6",
              "width": 0.5
             }
            },
            "type": "bar"
           }
          ],
          "barpolar": [
           {
            "marker": {
             "line": {
              "color": "#E5ECF6",
              "width": 0.5
             }
            },
            "type": "barpolar"
           }
          ],
          "carpet": [
           {
            "aaxis": {
             "endlinecolor": "#2a3f5f",
             "gridcolor": "white",
             "linecolor": "white",
             "minorgridcolor": "white",
             "startlinecolor": "#2a3f5f"
            },
            "baxis": {
             "endlinecolor": "#2a3f5f",
             "gridcolor": "white",
             "linecolor": "white",
             "minorgridcolor": "white",
             "startlinecolor": "#2a3f5f"
            },
            "type": "carpet"
           }
          ],
          "choropleth": [
           {
            "colorbar": {
             "outlinewidth": 0,
             "ticks": ""
            },
            "type": "choropleth"
           }
          ],
          "contour": [
           {
            "colorbar": {
             "outlinewidth": 0,
             "ticks": ""
            },
            "colorscale": [
             [
              0,
              "#0d0887"
             ],
             [
              0.1111111111111111,
              "#46039f"
             ],
             [
              0.2222222222222222,
              "#7201a8"
             ],
             [
              0.3333333333333333,
              "#9c179e"
             ],
             [
              0.4444444444444444,
              "#bd3786"
             ],
             [
              0.5555555555555556,
              "#d8576b"
             ],
             [
              0.6666666666666666,
              "#ed7953"
             ],
             [
              0.7777777777777778,
              "#fb9f3a"
             ],
             [
              0.8888888888888888,
              "#fdca26"
             ],
             [
              1,
              "#f0f921"
             ]
            ],
            "type": "contour"
           }
          ],
          "contourcarpet": [
           {
            "colorbar": {
             "outlinewidth": 0,
             "ticks": ""
            },
            "type": "contourcarpet"
           }
          ],
          "heatmap": [
           {
            "colorbar": {
             "outlinewidth": 0,
             "ticks": ""
            },
            "colorscale": [
             [
              0,
              "#0d0887"
             ],
             [
              0.1111111111111111,
              "#46039f"
             ],
             [
              0.2222222222222222,
              "#7201a8"
             ],
             [
              0.3333333333333333,
              "#9c179e"
             ],
             [
              0.4444444444444444,
              "#bd3786"
             ],
             [
              0.5555555555555556,
              "#d8576b"
             ],
             [
              0.6666666666666666,
              "#ed7953"
             ],
             [
              0.7777777777777778,
              "#fb9f3a"
             ],
             [
              0.8888888888888888,
              "#fdca26"
             ],
             [
              1,
              "#f0f921"
             ]
            ],
            "type": "heatmap"
           }
          ],
          "heatmapgl": [
           {
            "colorbar": {
             "outlinewidth": 0,
             "ticks": ""
            },
            "colorscale": [
             [
              0,
              "#0d0887"
             ],
             [
              0.1111111111111111,
              "#46039f"
             ],
             [
              0.2222222222222222,
              "#7201a8"
             ],
             [
              0.3333333333333333,
              "#9c179e"
             ],
             [
              0.4444444444444444,
              "#bd3786"
             ],
             [
              0.5555555555555556,
              "#d8576b"
             ],
             [
              0.6666666666666666,
              "#ed7953"
             ],
             [
              0.7777777777777778,
              "#fb9f3a"
             ],
             [
              0.8888888888888888,
              "#fdca26"
             ],
             [
              1,
              "#f0f921"
             ]
            ],
            "type": "heatmapgl"
           }
          ],
          "histogram": [
           {
            "marker": {
             "colorbar": {
              "outlinewidth": 0,
              "ticks": ""
             }
            },
            "type": "histogram"
           }
          ],
          "histogram2d": [
           {
            "colorbar": {
             "outlinewidth": 0,
             "ticks": ""
            },
            "colorscale": [
             [
              0,
              "#0d0887"
             ],
             [
              0.1111111111111111,
              "#46039f"
             ],
             [
              0.2222222222222222,
              "#7201a8"
             ],
             [
              0.3333333333333333,
              "#9c179e"
             ],
             [
              0.4444444444444444,
              "#bd3786"
             ],
             [
              0.5555555555555556,
              "#d8576b"
             ],
             [
              0.6666666666666666,
              "#ed7953"
             ],
             [
              0.7777777777777778,
              "#fb9f3a"
             ],
             [
              0.8888888888888888,
              "#fdca26"
             ],
             [
              1,
              "#f0f921"
             ]
            ],
            "type": "histogram2d"
           }
          ],
          "histogram2dcontour": [
           {
            "colorbar": {
             "outlinewidth": 0,
             "ticks": ""
            },
            "colorscale": [
             [
              0,
              "#0d0887"
             ],
             [
              0.1111111111111111,
              "#46039f"
             ],
             [
              0.2222222222222222,
              "#7201a8"
             ],
             [
              0.3333333333333333,
              "#9c179e"
             ],
             [
              0.4444444444444444,
              "#bd3786"
             ],
             [
              0.5555555555555556,
              "#d8576b"
             ],
             [
              0.6666666666666666,
              "#ed7953"
             ],
             [
              0.7777777777777778,
              "#fb9f3a"
             ],
             [
              0.8888888888888888,
              "#fdca26"
             ],
             [
              1,
              "#f0f921"
             ]
            ],
            "type": "histogram2dcontour"
           }
          ],
          "mesh3d": [
           {
            "colorbar": {
             "outlinewidth": 0,
             "ticks": ""
            },
            "type": "mesh3d"
           }
          ],
          "parcoords": [
           {
            "line": {
             "colorbar": {
              "outlinewidth": 0,
              "ticks": ""
             }
            },
            "type": "parcoords"
           }
          ],
          "pie": [
           {
            "automargin": true,
            "type": "pie"
           }
          ],
          "scatter": [
           {
            "marker": {
             "colorbar": {
              "outlinewidth": 0,
              "ticks": ""
             }
            },
            "type": "scatter"
           }
          ],
          "scatter3d": [
           {
            "line": {
             "colorbar": {
              "outlinewidth": 0,
              "ticks": ""
             }
            },
            "marker": {
             "colorbar": {
              "outlinewidth": 0,
              "ticks": ""
             }
            },
            "type": "scatter3d"
           }
          ],
          "scattercarpet": [
           {
            "marker": {
             "colorbar": {
              "outlinewidth": 0,
              "ticks": ""
             }
            },
            "type": "scattercarpet"
           }
          ],
          "scattergeo": [
           {
            "marker": {
             "colorbar": {
              "outlinewidth": 0,
              "ticks": ""
             }
            },
            "type": "scattergeo"
           }
          ],
          "scattergl": [
           {
            "marker": {
             "colorbar": {
              "outlinewidth": 0,
              "ticks": ""
             }
            },
            "type": "scattergl"
           }
          ],
          "scattermapbox": [
           {
            "marker": {
             "colorbar": {
              "outlinewidth": 0,
              "ticks": ""
             }
            },
            "type": "scattermapbox"
           }
          ],
          "scatterpolar": [
           {
            "marker": {
             "colorbar": {
              "outlinewidth": 0,
              "ticks": ""
             }
            },
            "type": "scatterpolar"
           }
          ],
          "scatterpolargl": [
           {
            "marker": {
             "colorbar": {
              "outlinewidth": 0,
              "ticks": ""
             }
            },
            "type": "scatterpolargl"
           }
          ],
          "scatterternary": [
           {
            "marker": {
             "colorbar": {
              "outlinewidth": 0,
              "ticks": ""
             }
            },
            "type": "scatterternary"
           }
          ],
          "surface": [
           {
            "colorbar": {
             "outlinewidth": 0,
             "ticks": ""
            },
            "colorscale": [
             [
              0,
              "#0d0887"
             ],
             [
              0.1111111111111111,
              "#46039f"
             ],
             [
              0.2222222222222222,
              "#7201a8"
             ],
             [
              0.3333333333333333,
              "#9c179e"
             ],
             [
              0.4444444444444444,
              "#bd3786"
             ],
             [
              0.5555555555555556,
              "#d8576b"
             ],
             [
              0.6666666666666666,
              "#ed7953"
             ],
             [
              0.7777777777777778,
              "#fb9f3a"
             ],
             [
              0.8888888888888888,
              "#fdca26"
             ],
             [
              1,
              "#f0f921"
             ]
            ],
            "type": "surface"
           }
          ],
          "table": [
           {
            "cells": {
             "fill": {
              "color": "#EBF0F8"
             },
             "line": {
              "color": "white"
             }
            },
            "header": {
             "fill": {
              "color": "#C8D4E3"
             },
             "line": {
              "color": "white"
             }
            },
            "type": "table"
           }
          ]
         },
         "layout": {
          "annotationdefaults": {
           "arrowcolor": "#2a3f5f",
           "arrowhead": 0,
           "arrowwidth": 1
          },
          "autotypenumbers": "strict",
          "coloraxis": {
           "colorbar": {
            "outlinewidth": 0,
            "ticks": ""
           }
          },
          "colorscale": {
           "diverging": [
            [
             0,
             "#8e0152"
            ],
            [
             0.1,
             "#c51b7d"
            ],
            [
             0.2,
             "#de77ae"
            ],
            [
             0.3,
             "#f1b6da"
            ],
            [
             0.4,
             "#fde0ef"
            ],
            [
             0.5,
             "#f7f7f7"
            ],
            [
             0.6,
             "#e6f5d0"
            ],
            [
             0.7,
             "#b8e186"
            ],
            [
             0.8,
             "#7fbc41"
            ],
            [
             0.9,
             "#4d9221"
            ],
            [
             1,
             "#276419"
            ]
           ],
           "sequential": [
            [
             0,
             "#0d0887"
            ],
            [
             0.1111111111111111,
             "#46039f"
            ],
            [
             0.2222222222222222,
             "#7201a8"
            ],
            [
             0.3333333333333333,
             "#9c179e"
            ],
            [
             0.4444444444444444,
             "#bd3786"
            ],
            [
             0.5555555555555556,
             "#d8576b"
            ],
            [
             0.6666666666666666,
             "#ed7953"
            ],
            [
             0.7777777777777778,
             "#fb9f3a"
            ],
            [
             0.8888888888888888,
             "#fdca26"
            ],
            [
             1,
             "#f0f921"
            ]
           ],
           "sequentialminus": [
            [
             0,
             "#0d0887"
            ],
            [
             0.1111111111111111,
             "#46039f"
            ],
            [
             0.2222222222222222,
             "#7201a8"
            ],
            [
             0.3333333333333333,
             "#9c179e"
            ],
            [
             0.4444444444444444,
             "#bd3786"
            ],
            [
             0.5555555555555556,
             "#d8576b"
            ],
            [
             0.6666666666666666,
             "#ed7953"
            ],
            [
             0.7777777777777778,
             "#fb9f3a"
            ],
            [
             0.8888888888888888,
             "#fdca26"
            ],
            [
             1,
             "#f0f921"
            ]
           ]
          },
          "colorway": [
           "#636efa",
           "#EF553B",
           "#00cc96",
           "#ab63fa",
           "#FFA15A",
           "#19d3f3",
           "#FF6692",
           "#B6E880",
           "#FF97FF",
           "#FECB52"
          ],
          "font": {
           "color": "#2a3f5f"
          },
          "geo": {
           "bgcolor": "white",
           "lakecolor": "white",
           "landcolor": "#E5ECF6",
           "showlakes": true,
           "showland": true,
           "subunitcolor": "white"
          },
          "hoverlabel": {
           "align": "left"
          },
          "hovermode": "closest",
          "mapbox": {
           "style": "light"
          },
          "paper_bgcolor": "white",
          "plot_bgcolor": "#E5ECF6",
          "polar": {
           "angularaxis": {
            "gridcolor": "white",
            "linecolor": "white",
            "ticks": ""
           },
           "bgcolor": "#E5ECF6",
           "radialaxis": {
            "gridcolor": "white",
            "linecolor": "white",
            "ticks": ""
           }
          },
          "scene": {
           "xaxis": {
            "backgroundcolor": "#E5ECF6",
            "gridcolor": "white",
            "gridwidth": 2,
            "linecolor": "white",
            "showbackground": true,
            "ticks": "",
            "zerolinecolor": "white"
           },
           "yaxis": {
            "backgroundcolor": "#E5ECF6",
            "gridcolor": "white",
            "gridwidth": 2,
            "linecolor": "white",
            "showbackground": true,
            "ticks": "",
            "zerolinecolor": "white"
           },
           "zaxis": {
            "backgroundcolor": "#E5ECF6",
            "gridcolor": "white",
            "gridwidth": 2,
            "linecolor": "white",
            "showbackground": true,
            "ticks": "",
            "zerolinecolor": "white"
           }
          },
          "shapedefaults": {
           "line": {
            "color": "#2a3f5f"
           }
          },
          "ternary": {
           "aaxis": {
            "gridcolor": "white",
            "linecolor": "white",
            "ticks": ""
           },
           "baxis": {
            "gridcolor": "white",
            "linecolor": "white",
            "ticks": ""
           },
           "bgcolor": "#E5ECF6",
           "caxis": {
            "gridcolor": "white",
            "linecolor": "white",
            "ticks": ""
           }
          },
          "title": {
           "x": 0.05
          },
          "xaxis": {
           "automargin": true,
           "gridcolor": "white",
           "linecolor": "white",
           "ticks": "",
           "title": {
            "standoff": 15
           },
           "zerolinecolor": "white",
           "zerolinewidth": 2
          },
          "yaxis": {
           "automargin": true,
           "gridcolor": "white",
           "linecolor": "white",
           "ticks": "",
           "title": {
            "standoff": 15
           },
           "zerolinecolor": "white",
           "zerolinewidth": 2
          }
         }
        },
        "xaxis": {
         "anchor": "y",
         "domain": [
          0,
          1
         ],
         "title": {
          "text": "date"
         }
        },
        "yaxis": {
         "anchor": "x",
         "domain": [
          0,
          1
         ],
         "title": {
          "text": "GOOG"
         }
        }
       }
      },
      "text/html": [
       "<div>                            <div id=\"e09d0f6a-7788-4dc2-9436-eae4fb35fe0e\" class=\"plotly-graph-div\" style=\"height:525px; width:100%;\"></div>            <script type=\"text/javascript\">                require([\"plotly\"], function(Plotly) {                    window.PLOTLYENV=window.PLOTLYENV || {};                                    if (document.getElementById(\"e09d0f6a-7788-4dc2-9436-eae4fb35fe0e\")) {                    Plotly.newPlot(                        \"e09d0f6a-7788-4dc2-9436-eae4fb35fe0e\",                        [{\"hovertemplate\": \"date=%{x}<br>GOOG=%{y}<extra></extra>\", \"legendgroup\": \"\", \"line\": {\"color\": \"#636efa\", \"dash\": \"solid\"}, \"mode\": \"lines\", \"name\": \"\", \"orientation\": \"v\", \"showlegend\": false, \"type\": \"scatter\", \"x\": [\"2018-01-01\", \"2018-01-08\", \"2018-01-15\", \"2018-01-22\", \"2018-01-29\", \"2018-02-05\", \"2018-02-12\", \"2018-02-19\", \"2018-02-26\", \"2018-03-05\", \"2018-03-12\", \"2018-03-19\", \"2018-03-26\", \"2018-04-02\", \"2018-04-09\", \"2018-04-16\", \"2018-04-23\", \"2018-04-30\", \"2018-05-07\", \"2018-05-14\", \"2018-05-21\", \"2018-05-28\", \"2018-06-04\", \"2018-06-11\", \"2018-06-18\", \"2018-06-25\", \"2018-07-02\", \"2018-07-09\", \"2018-07-16\", \"2018-07-23\", \"2018-07-30\", \"2018-08-06\", \"2018-08-13\", \"2018-08-20\", \"2018-08-27\", \"2018-09-03\", \"2018-09-10\", \"2018-09-17\", \"2018-09-24\", \"2018-10-01\", \"2018-10-08\", \"2018-10-15\", \"2018-10-22\", \"2018-10-29\", \"2018-11-05\", \"2018-11-12\", \"2018-11-19\", \"2018-11-26\", \"2018-12-03\", \"2018-12-10\", \"2018-12-17\", \"2018-12-24\", \"2018-12-31\", \"2019-01-07\", \"2019-01-14\", \"2019-01-21\", \"2019-01-28\", \"2019-02-04\", \"2019-02-11\", \"2019-02-18\", \"2019-02-25\", \"2019-03-04\", \"2019-03-11\", \"2019-03-18\", \"2019-03-25\", \"2019-04-01\", \"2019-04-08\", \"2019-04-15\", \"2019-04-22\", \"2019-04-29\", \"2019-05-06\", \"2019-05-13\", \"2019-05-20\", \"2019-05-27\", \"2019-06-03\", \"2019-06-10\", \"2019-06-17\", \"2019-06-24\", \"2019-07-01\", \"2019-07-08\", \"2019-07-15\", \"2019-07-22\", \"2019-07-29\", \"2019-08-05\", \"2019-08-12\", \"2019-08-19\", \"2019-08-26\", \"2019-09-02\", \"2019-09-09\", \"2019-09-16\", \"2019-09-23\", \"2019-09-30\", \"2019-10-07\", \"2019-10-14\", \"2019-10-21\", \"2019-10-28\", \"2019-11-04\", \"2019-11-11\", \"2019-11-18\", \"2019-11-25\", \"2019-12-02\", \"2019-12-09\", \"2019-12-16\", \"2019-12-23\", \"2019-12-30\"], \"xaxis\": \"x\", \"y\": [1.0, 1.018172278347936, 1.032007866452698, 1.066782783389724, 1.0087731636550117, 0.9415276737437316, 0.99325918262539, 1.0222821547641083, 0.9788520214265992, 1.0524482730908842, 1.0303929312465263, 0.926821104067592, 0.9360932452590338, 0.913638710861412, 0.93380695379017, 0.9734447261178653, 0.9345146364100892, 0.9509902470625956, 0.9963982380519172, 0.9674568868105002, 0.9758943718805396, 1.015668254641377, 1.0169111849053498, 1.0453898287179595, 1.0483111519067918, 1.0121753574512644, 1.0344211867653972, 1.0785588920381208, 1.075011617811375, 1.1236312044424703, 1.1102129167272332, 1.1228237368393843, 1.0895729410299655, 1.1074367837463466, 1.1052048693141154, 1.0567939333314087, 1.0637798374890872, 1.0579370795194665, 1.0827776350267664, 1.0500077089175164, 1.007121903906116, 0.9947651405743836, 0.9720929301886708, 0.959681788913054, 0.9672663993407256, 0.9630385756700248, 0.9289168536315806, 0.992923504040418, 0.9404389054995582, 0.945446952912676, 0.8886892896888904, 0.9408925313390586, 0.9714034098401132, 0.9591373489949891, 0.9963982380519172, 0.989802500200548, 1.0077298024501202, 0.9934950771344468, 1.0103608540932627, 1.0073850422758417, 1.035165084150587, 1.0363716889645844, 1.0746032883264525, 1.0936918990354445, 1.064487521016258, 1.095188886079836, 1.1049145977684258, 1.1216987538299403, 1.1541874899828073, 1.075456162061569, 1.0562859304552756, 1.0544986709579427, 1.0283425342867192, 1.001270175031893, 0.9671666152648106, 0.98468558802946, 1.0178275181736574, 0.980657443195294, 1.0266368965939394, 1.0387124690620373, 1.025285100664745, 1.1344366027859267, 1.0832494231376286, 1.0778240762422375, 1.068379555417282, 1.0445098208996275, 1.0779056980467905, 1.0931748145700046, 1.12459294475006, 1.115856106545024, 1.1114649285805127, 1.0968672799119472, 1.10271900878617, 1.129972884606169, 1.1477913211905195, 1.155602744537941, 1.189742629754999, 1.2110630442115171, 1.1751993590303178, 1.183927115646047, 1.216279741365772, 1.222820990588552, 1.22441776261611, 1.2265044859331442, 1.213013658002661], \"yaxis\": \"y\"}],                        {\"legend\": {\"tracegroupgap\": 0}, \"margin\": {\"t\": 60}, \"template\": {\"data\": {\"bar\": [{\"error_x\": {\"color\": \"#2a3f5f\"}, \"error_y\": {\"color\": \"#2a3f5f\"}, \"marker\": {\"line\": {\"color\": \"#E5ECF6\", \"width\": 0.5}}, \"type\": \"bar\"}], \"barpolar\": [{\"marker\": {\"line\": {\"color\": \"#E5ECF6\", \"width\": 0.5}}, \"type\": \"barpolar\"}], \"carpet\": [{\"aaxis\": {\"endlinecolor\": \"#2a3f5f\", \"gridcolor\": \"white\", \"linecolor\": \"white\", \"minorgridcolor\": \"white\", \"startlinecolor\": \"#2a3f5f\"}, \"baxis\": {\"endlinecolor\": \"#2a3f5f\", \"gridcolor\": \"white\", \"linecolor\": \"white\", \"minorgridcolor\": \"white\", \"startlinecolor\": \"#2a3f5f\"}, \"type\": \"carpet\"}], \"choropleth\": [{\"colorbar\": {\"outlinewidth\": 0, \"ticks\": \"\"}, \"type\": \"choropleth\"}], \"contour\": [{\"colorbar\": {\"outlinewidth\": 0, \"ticks\": \"\"}, \"colorscale\": [[0.0, \"#0d0887\"], [0.1111111111111111, \"#46039f\"], [0.2222222222222222, \"#7201a8\"], [0.3333333333333333, \"#9c179e\"], [0.4444444444444444, \"#bd3786\"], [0.5555555555555556, \"#d8576b\"], [0.6666666666666666, \"#ed7953\"], [0.7777777777777778, \"#fb9f3a\"], [0.8888888888888888, \"#fdca26\"], [1.0, \"#f0f921\"]], \"type\": \"contour\"}], \"contourcarpet\": [{\"colorbar\": {\"outlinewidth\": 0, \"ticks\": \"\"}, \"type\": \"contourcarpet\"}], \"heatmap\": [{\"colorbar\": {\"outlinewidth\": 0, \"ticks\": \"\"}, \"colorscale\": [[0.0, \"#0d0887\"], [0.1111111111111111, \"#46039f\"], [0.2222222222222222, \"#7201a8\"], [0.3333333333333333, \"#9c179e\"], [0.4444444444444444, \"#bd3786\"], [0.5555555555555556, \"#d8576b\"], [0.6666666666666666, \"#ed7953\"], [0.7777777777777778, \"#fb9f3a\"], [0.8888888888888888, \"#fdca26\"], [1.0, \"#f0f921\"]], \"type\": \"heatmap\"}], \"heatmapgl\": [{\"colorbar\": {\"outlinewidth\": 0, \"ticks\": \"\"}, \"colorscale\": [[0.0, \"#0d0887\"], [0.1111111111111111, \"#46039f\"], [0.2222222222222222, \"#7201a8\"], [0.3333333333333333, \"#9c179e\"], [0.4444444444444444, \"#bd3786\"], [0.5555555555555556, \"#d8576b\"], [0.6666666666666666, \"#ed7953\"], [0.7777777777777778, \"#fb9f3a\"], [0.8888888888888888, \"#fdca26\"], [1.0, \"#f0f921\"]], \"type\": \"heatmapgl\"}], \"histogram\": [{\"marker\": {\"colorbar\": {\"outlinewidth\": 0, \"ticks\": \"\"}}, \"type\": \"histogram\"}], \"histogram2d\": [{\"colorbar\": {\"outlinewidth\": 0, \"ticks\": \"\"}, \"colorscale\": [[0.0, \"#0d0887\"], [0.1111111111111111, \"#46039f\"], [0.2222222222222222, \"#7201a8\"], [0.3333333333333333, \"#9c179e\"], [0.4444444444444444, \"#bd3786\"], [0.5555555555555556, \"#d8576b\"], [0.6666666666666666, \"#ed7953\"], [0.7777777777777778, \"#fb9f3a\"], [0.8888888888888888, \"#fdca26\"], [1.0, \"#f0f921\"]], \"type\": \"histogram2d\"}], \"histogram2dcontour\": [{\"colorbar\": {\"outlinewidth\": 0, \"ticks\": \"\"}, \"colorscale\": [[0.0, \"#0d0887\"], [0.1111111111111111, \"#46039f\"], [0.2222222222222222, \"#7201a8\"], [0.3333333333333333, \"#9c179e\"], [0.4444444444444444, \"#bd3786\"], [0.5555555555555556, \"#d8576b\"], [0.6666666666666666, \"#ed7953\"], [0.7777777777777778, \"#fb9f3a\"], [0.8888888888888888, \"#fdca26\"], [1.0, \"#f0f921\"]], \"type\": \"histogram2dcontour\"}], \"mesh3d\": [{\"colorbar\": {\"outlinewidth\": 0, \"ticks\": \"\"}, \"type\": \"mesh3d\"}], \"parcoords\": [{\"line\": {\"colorbar\": {\"outlinewidth\": 0, \"ticks\": \"\"}}, \"type\": \"parcoords\"}], \"pie\": [{\"automargin\": true, \"type\": \"pie\"}], \"scatter\": [{\"marker\": {\"colorbar\": {\"outlinewidth\": 0, \"ticks\": \"\"}}, \"type\": \"scatter\"}], \"scatter3d\": [{\"line\": {\"colorbar\": {\"outlinewidth\": 0, \"ticks\": \"\"}}, \"marker\": {\"colorbar\": {\"outlinewidth\": 0, \"ticks\": \"\"}}, \"type\": \"scatter3d\"}], \"scattercarpet\": [{\"marker\": {\"colorbar\": {\"outlinewidth\": 0, \"ticks\": \"\"}}, \"type\": \"scattercarpet\"}], \"scattergeo\": [{\"marker\": {\"colorbar\": {\"outlinewidth\": 0, \"ticks\": \"\"}}, \"type\": \"scattergeo\"}], \"scattergl\": [{\"marker\": {\"colorbar\": {\"outlinewidth\": 0, \"ticks\": \"\"}}, \"type\": \"scattergl\"}], \"scattermapbox\": [{\"marker\": {\"colorbar\": {\"outlinewidth\": 0, \"ticks\": \"\"}}, \"type\": \"scattermapbox\"}], \"scatterpolar\": [{\"marker\": {\"colorbar\": {\"outlinewidth\": 0, \"ticks\": \"\"}}, \"type\": \"scatterpolar\"}], \"scatterpolargl\": [{\"marker\": {\"colorbar\": {\"outlinewidth\": 0, \"ticks\": \"\"}}, \"type\": \"scatterpolargl\"}], \"scatterternary\": [{\"marker\": {\"colorbar\": {\"outlinewidth\": 0, \"ticks\": \"\"}}, \"type\": \"scatterternary\"}], \"surface\": [{\"colorbar\": {\"outlinewidth\": 0, \"ticks\": \"\"}, \"colorscale\": [[0.0, \"#0d0887\"], [0.1111111111111111, \"#46039f\"], [0.2222222222222222, \"#7201a8\"], [0.3333333333333333, \"#9c179e\"], [0.4444444444444444, \"#bd3786\"], [0.5555555555555556, \"#d8576b\"], [0.6666666666666666, \"#ed7953\"], [0.7777777777777778, \"#fb9f3a\"], [0.8888888888888888, \"#fdca26\"], [1.0, \"#f0f921\"]], \"type\": \"surface\"}], \"table\": [{\"cells\": {\"fill\": {\"color\": \"#EBF0F8\"}, \"line\": {\"color\": \"white\"}}, \"header\": {\"fill\": {\"color\": \"#C8D4E3\"}, \"line\": {\"color\": \"white\"}}, \"type\": \"table\"}]}, \"layout\": {\"annotationdefaults\": {\"arrowcolor\": \"#2a3f5f\", \"arrowhead\": 0, \"arrowwidth\": 1}, \"autotypenumbers\": \"strict\", \"coloraxis\": {\"colorbar\": {\"outlinewidth\": 0, \"ticks\": \"\"}}, \"colorscale\": {\"diverging\": [[0, \"#8e0152\"], [0.1, \"#c51b7d\"], [0.2, \"#de77ae\"], [0.3, \"#f1b6da\"], [0.4, \"#fde0ef\"], [0.5, \"#f7f7f7\"], [0.6, \"#e6f5d0\"], [0.7, \"#b8e186\"], [0.8, \"#7fbc41\"], [0.9, \"#4d9221\"], [1, \"#276419\"]], \"sequential\": [[0.0, \"#0d0887\"], [0.1111111111111111, \"#46039f\"], [0.2222222222222222, \"#7201a8\"], [0.3333333333333333, \"#9c179e\"], [0.4444444444444444, \"#bd3786\"], [0.5555555555555556, \"#d8576b\"], [0.6666666666666666, \"#ed7953\"], [0.7777777777777778, \"#fb9f3a\"], [0.8888888888888888, \"#fdca26\"], [1.0, \"#f0f921\"]], \"sequentialminus\": [[0.0, \"#0d0887\"], [0.1111111111111111, \"#46039f\"], [0.2222222222222222, \"#7201a8\"], [0.3333333333333333, \"#9c179e\"], [0.4444444444444444, \"#bd3786\"], [0.5555555555555556, \"#d8576b\"], [0.6666666666666666, \"#ed7953\"], [0.7777777777777778, \"#fb9f3a\"], [0.8888888888888888, \"#fdca26\"], [1.0, \"#f0f921\"]]}, \"colorway\": [\"#636efa\", \"#EF553B\", \"#00cc96\", \"#ab63fa\", \"#FFA15A\", \"#19d3f3\", \"#FF6692\", \"#B6E880\", \"#FF97FF\", \"#FECB52\"], \"font\": {\"color\": \"#2a3f5f\"}, \"geo\": {\"bgcolor\": \"white\", \"lakecolor\": \"white\", \"landcolor\": \"#E5ECF6\", \"showlakes\": true, \"showland\": true, \"subunitcolor\": \"white\"}, \"hoverlabel\": {\"align\": \"left\"}, \"hovermode\": \"closest\", \"mapbox\": {\"style\": \"light\"}, \"paper_bgcolor\": \"white\", \"plot_bgcolor\": \"#E5ECF6\", \"polar\": {\"angularaxis\": {\"gridcolor\": \"white\", \"linecolor\": \"white\", \"ticks\": \"\"}, \"bgcolor\": \"#E5ECF6\", \"radialaxis\": {\"gridcolor\": \"white\", \"linecolor\": \"white\", \"ticks\": \"\"}}, \"scene\": {\"xaxis\": {\"backgroundcolor\": \"#E5ECF6\", \"gridcolor\": \"white\", \"gridwidth\": 2, \"linecolor\": \"white\", \"showbackground\": true, \"ticks\": \"\", \"zerolinecolor\": \"white\"}, \"yaxis\": {\"backgroundcolor\": \"#E5ECF6\", \"gridcolor\": \"white\", \"gridwidth\": 2, \"linecolor\": \"white\", \"showbackground\": true, \"ticks\": \"\", \"zerolinecolor\": \"white\"}, \"zaxis\": {\"backgroundcolor\": \"#E5ECF6\", \"gridcolor\": \"white\", \"gridwidth\": 2, \"linecolor\": \"white\", \"showbackground\": true, \"ticks\": \"\", \"zerolinecolor\": \"white\"}}, \"shapedefaults\": {\"line\": {\"color\": \"#2a3f5f\"}}, \"ternary\": {\"aaxis\": {\"gridcolor\": \"white\", \"linecolor\": \"white\", \"ticks\": \"\"}, \"baxis\": {\"gridcolor\": \"white\", \"linecolor\": \"white\", \"ticks\": \"\"}, \"bgcolor\": \"#E5ECF6\", \"caxis\": {\"gridcolor\": \"white\", \"linecolor\": \"white\", \"ticks\": \"\"}}, \"title\": {\"x\": 0.05}, \"xaxis\": {\"automargin\": true, \"gridcolor\": \"white\", \"linecolor\": \"white\", \"ticks\": \"\", \"title\": {\"standoff\": 15}, \"zerolinecolor\": \"white\", \"zerolinewidth\": 2}, \"yaxis\": {\"automargin\": true, \"gridcolor\": \"white\", \"linecolor\": \"white\", \"ticks\": \"\", \"title\": {\"standoff\": 15}, \"zerolinecolor\": \"white\", \"zerolinewidth\": 2}}}, \"xaxis\": {\"anchor\": \"y\", \"domain\": [0.0, 1.0], \"title\": {\"text\": \"date\"}}, \"yaxis\": {\"anchor\": \"x\", \"domain\": [0.0, 1.0], \"title\": {\"text\": \"GOOG\"}}},                        {\"responsive\": true}                    ).then(function(){\n",
       "                            \n",
       "var gd = document.getElementById('e09d0f6a-7788-4dc2-9436-eae4fb35fe0e');\n",
       "var x = new MutationObserver(function (mutations, observer) {{\n",
       "        var display = window.getComputedStyle(gd).display;\n",
       "        if (!display || display === 'none') {{\n",
       "            console.log([gd, 'removed!']);\n",
       "            Plotly.purge(gd);\n",
       "            observer.disconnect();\n",
       "        }}\n",
       "}});\n",
       "\n",
       "// Listen for the removal of the full notebook cells\n",
       "var notebookContainer = gd.closest('#notebook-container');\n",
       "if (notebookContainer) {{\n",
       "    x.observe(notebookContainer, {childList: true});\n",
       "}}\n",
       "\n",
       "// Listen for the clearing of the current output cell\n",
       "var outputEl = gd.closest('.output');\n",
       "if (outputEl) {{\n",
       "    x.observe(outputEl, {childList: true});\n",
       "}}\n",
       "\n",
       "                        })                };                });            </script>        </div>"
      ]
     },
     "metadata": {},
     "output_type": "display_data"
    }
   ],
   "source": [
    "import plotly.express as px\n",
    "\n",
    "print(px.data.gapminder().columns)\n",
    "print(px.data.stocks().columns)\n",
    "\n",
    "df_px = px.data.stocks()\n",
    "fig = px.line(df_px, x=\"date\", y=\"GOOG\")\n",
    "fig.show()\n"
   ]
  },
  {
   "cell_type": "code",
   "execution_count": 1,
   "id": "cb0c3c09",
   "metadata": {
    "ExecuteTime": {
     "end_time": "2021-06-19T18:48:09.366954Z",
     "start_time": "2021-06-19T18:48:09.346989Z"
    }
   },
   "outputs": [
    {
     "data": {
      "application/json": {
       "cell": {
        "!": "OSMagics",
        "HTML": "Other",
        "SVG": "Other",
        "bash": "Other",
        "capture": "ExecutionMagics",
        "cmd": "Other",
        "debug": "ExecutionMagics",
        "file": "Other",
        "html": "DisplayMagics",
        "javascript": "DisplayMagics",
        "js": "DisplayMagics",
        "latex": "DisplayMagics",
        "markdown": "DisplayMagics",
        "perl": "Other",
        "prun": "ExecutionMagics",
        "pypy": "Other",
        "python": "Other",
        "python2": "Other",
        "python3": "Other",
        "ruby": "Other",
        "script": "ScriptMagics",
        "sh": "Other",
        "svg": "DisplayMagics",
        "sx": "OSMagics",
        "system": "OSMagics",
        "time": "ExecutionMagics",
        "timeit": "ExecutionMagics",
        "writefile": "OSMagics"
       },
       "line": {
        "alias": "OSMagics",
        "alias_magic": "BasicMagics",
        "autoawait": "AsyncMagics",
        "autocall": "AutoMagics",
        "automagic": "AutoMagics",
        "autosave": "KernelMagics",
        "bookmark": "OSMagics",
        "cd": "OSMagics",
        "clear": "KernelMagics",
        "cls": "KernelMagics",
        "colors": "BasicMagics",
        "conda": "PackagingMagics",
        "config": "ConfigMagics",
        "connect_info": "KernelMagics",
        "copy": "Other",
        "ddir": "Other",
        "debug": "ExecutionMagics",
        "dhist": "OSMagics",
        "dirs": "OSMagics",
        "doctest_mode": "BasicMagics",
        "echo": "Other",
        "ed": "Other",
        "edit": "KernelMagics",
        "env": "OSMagics",
        "gui": "BasicMagics",
        "hist": "Other",
        "history": "HistoryMagics",
        "killbgscripts": "ScriptMagics",
        "ldir": "Other",
        "less": "KernelMagics",
        "load": "CodeMagics",
        "load_ext": "ExtensionMagics",
        "loadpy": "CodeMagics",
        "logoff": "LoggingMagics",
        "logon": "LoggingMagics",
        "logstart": "LoggingMagics",
        "logstate": "LoggingMagics",
        "logstop": "LoggingMagics",
        "ls": "Other",
        "lsmagic": "BasicMagics",
        "macro": "ExecutionMagics",
        "magic": "BasicMagics",
        "matplotlib": "PylabMagics",
        "mkdir": "Other",
        "more": "KernelMagics",
        "notebook": "BasicMagics",
        "page": "BasicMagics",
        "pastebin": "CodeMagics",
        "pdb": "ExecutionMagics",
        "pdef": "NamespaceMagics",
        "pdoc": "NamespaceMagics",
        "pfile": "NamespaceMagics",
        "pinfo": "NamespaceMagics",
        "pinfo2": "NamespaceMagics",
        "pip": "PackagingMagics",
        "popd": "OSMagics",
        "pprint": "BasicMagics",
        "precision": "BasicMagics",
        "prun": "ExecutionMagics",
        "psearch": "NamespaceMagics",
        "psource": "NamespaceMagics",
        "pushd": "OSMagics",
        "pwd": "OSMagics",
        "pycat": "OSMagics",
        "pylab": "PylabMagics",
        "qtconsole": "KernelMagics",
        "quickref": "BasicMagics",
        "recall": "HistoryMagics",
        "rehashx": "OSMagics",
        "reload_ext": "ExtensionMagics",
        "ren": "Other",
        "rep": "Other",
        "rerun": "HistoryMagics",
        "reset": "NamespaceMagics",
        "reset_selective": "NamespaceMagics",
        "rmdir": "Other",
        "run": "ExecutionMagics",
        "save": "CodeMagics",
        "sc": "OSMagics",
        "set_env": "OSMagics",
        "store": "StoreMagics",
        "sx": "OSMagics",
        "system": "OSMagics",
        "tb": "ExecutionMagics",
        "time": "ExecutionMagics",
        "timeit": "ExecutionMagics",
        "unalias": "OSMagics",
        "unload_ext": "ExtensionMagics",
        "who": "NamespaceMagics",
        "who_ls": "NamespaceMagics",
        "whos": "NamespaceMagics",
        "xdel": "NamespaceMagics",
        "xmode": "BasicMagics"
       }
      },
      "text/plain": [
       "Available line magics:\n",
       "%alias  %alias_magic  %autoawait  %autocall  %automagic  %autosave  %bookmark  %cd  %clear  %cls  %colors  %conda  %config  %connect_info  %copy  %ddir  %debug  %dhist  %dirs  %doctest_mode  %echo  %ed  %edit  %env  %gui  %hist  %history  %killbgscripts  %ldir  %less  %load  %load_ext  %loadpy  %logoff  %logon  %logstart  %logstate  %logstop  %ls  %lsmagic  %macro  %magic  %matplotlib  %mkdir  %more  %notebook  %page  %pastebin  %pdb  %pdef  %pdoc  %pfile  %pinfo  %pinfo2  %pip  %popd  %pprint  %precision  %prun  %psearch  %psource  %pushd  %pwd  %pycat  %pylab  %qtconsole  %quickref  %recall  %rehashx  %reload_ext  %ren  %rep  %rerun  %reset  %reset_selective  %rmdir  %run  %save  %sc  %set_env  %store  %sx  %system  %tb  %time  %timeit  %unalias  %unload_ext  %who  %who_ls  %whos  %xdel  %xmode\n",
       "\n",
       "Available cell magics:\n",
       "%%!  %%HTML  %%SVG  %%bash  %%capture  %%cmd  %%debug  %%file  %%html  %%javascript  %%js  %%latex  %%markdown  %%perl  %%prun  %%pypy  %%python  %%python2  %%python3  %%ruby  %%script  %%sh  %%svg  %%sx  %%system  %%time  %%timeit  %%writefile\n",
       "\n",
       "Automagic is ON, % prefix IS NOT needed for line magics."
      ]
     },
     "execution_count": 1,
     "metadata": {},
     "output_type": "execute_result"
    }
   ],
   "source": [
    "%lsmagic"
   ]
  },
  {
   "cell_type": "code",
   "execution_count": 3,
   "id": "8d285fc3",
   "metadata": {
    "ExecuteTime": {
     "end_time": "2021-06-19T18:50:02.496752Z",
     "start_time": "2021-06-19T18:50:02.478691Z"
    }
   },
   "outputs": [
    {
     "data": {
      "text/latex": [
       "\\begin{align}\n",
       "a = \\frac{1}{2} && b = \\frac{1}{3}\\\\\n",
       "\\end{align}\n"
      ],
      "text/plain": [
       "<IPython.core.display.Latex object>"
      ]
     },
     "metadata": {},
     "output_type": "display_data"
    }
   ],
   "source": [
    "%%latex\n",
    "\\begin{align}\n",
    "a = \\frac{1}{2} && b = \\frac{1}{3}\\\\\n",
    "\\end{align}"
   ]
  },
  {
   "cell_type": "code",
   "execution_count": 4,
   "id": "f1b5972d",
   "metadata": {
    "ExecuteTime": {
     "end_time": "2021-06-19T18:50:53.298396Z",
     "start_time": "2021-06-19T18:50:53.210333Z"
    }
   },
   "outputs": [
    {
     "ename": "TypeError",
     "evalue": "can only concatenate str (not \"int\") to str",
     "output_type": "error",
     "traceback": [
      "\u001b[1;31m---------------------------------------------------------------------------\u001b[0m",
      "\u001b[1;31mTypeError\u001b[0m                                 Traceback (most recent call last)",
      "\u001b[1;32m<ipython-input-4-b02755b27c47>\u001b[0m in \u001b[0;36m<module>\u001b[1;34m\u001b[0m\n\u001b[0;32m      2\u001b[0m \u001b[0my\u001b[0m \u001b[1;33m=\u001b[0m \u001b[1;36m2\u001b[0m\u001b[1;33m\u001b[0m\u001b[1;33m\u001b[0m\u001b[0m\n\u001b[0;32m      3\u001b[0m \u001b[1;33m\u001b[0m\u001b[0m\n\u001b[1;32m----> 4\u001b[1;33m \u001b[0mx\u001b[0m \u001b[1;33m+\u001b[0m \u001b[0my\u001b[0m\u001b[1;33m\u001b[0m\u001b[1;33m\u001b[0m\u001b[0m\n\u001b[0m",
      "\u001b[1;31mTypeError\u001b[0m: can only concatenate str (not \"int\") to str"
     ]
    }
   ],
   "source": [
    "x = \"1\"\n",
    "y = 2\n",
    "\n",
    "x + y"
   ]
  },
  {
   "cell_type": "code",
   "execution_count": null,
   "id": "efece03b",
   "metadata": {
    "ExecuteTime": {
     "start_time": "2021-06-19T18:50:58.915Z"
    },
    "scrolled": true
   },
   "outputs": [
    {
     "name": "stdout",
     "output_type": "stream",
     "text": [
      "> \u001b[1;32m<ipython-input-4-b02755b27c47>\u001b[0m(4)\u001b[0;36m<module>\u001b[1;34m()\u001b[0m\n",
      "\u001b[1;32m      1 \u001b[1;33m\u001b[0mx\u001b[0m \u001b[1;33m=\u001b[0m \u001b[1;34m\"1\"\u001b[0m\u001b[1;33m\u001b[0m\u001b[1;33m\u001b[0m\u001b[0m\n",
      "\u001b[0m\u001b[1;32m      2 \u001b[1;33m\u001b[0my\u001b[0m \u001b[1;33m=\u001b[0m \u001b[1;36m2\u001b[0m\u001b[1;33m\u001b[0m\u001b[1;33m\u001b[0m\u001b[0m\n",
      "\u001b[0m\u001b[1;32m      3 \u001b[1;33m\u001b[1;33m\u001b[0m\u001b[0m\n",
      "\u001b[0m\u001b[1;32m----> 4 \u001b[1;33m\u001b[0mx\u001b[0m \u001b[1;33m+\u001b[0m \u001b[0my\u001b[0m\u001b[1;33m\u001b[0m\u001b[1;33m\u001b[0m\u001b[0m\n",
      "\u001b[0m\n",
      "ipdb> x = 1\n",
      "ipdb> x + y\n",
      "3\n"
     ]
    }
   ],
   "source": [
    "%debug"
   ]
  },
  {
   "cell_type": "code",
   "execution_count": null,
   "id": "49c27817",
   "metadata": {},
   "outputs": [],
   "source": []
  },
  {
   "cell_type": "code",
   "execution_count": null,
   "id": "def88427",
   "metadata": {},
   "outputs": [],
   "source": []
  }
 ],
 "metadata": {
  "kernelspec": {
   "display_name": "Python 3",
   "language": "python",
   "name": "python3"
  },
  "language_info": {
   "codemirror_mode": {
    "name": "ipython",
    "version": 3
   },
   "file_extension": ".py",
   "mimetype": "text/x-python",
   "name": "python",
   "nbconvert_exporter": "python",
   "pygments_lexer": "ipython3",
   "version": "3.8.10"
  },
  "toc": {
   "base_numbering": 1,
   "nav_menu": {},
   "number_sections": true,
   "sideBar": true,
   "skip_h1_title": false,
   "title_cell": "Table of Contents",
   "title_sidebar": "Contents",
   "toc_cell": false,
   "toc_position": {},
   "toc_section_display": true,
   "toc_window_display": false
  }
 },
 "nbformat": 4,
 "nbformat_minor": 5
}
